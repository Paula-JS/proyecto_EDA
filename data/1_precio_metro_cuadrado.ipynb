{
 "cells": [
  {
   "cell_type": "code",
   "execution_count": 2,
   "metadata": {},
   "outputs": [],
   "source": [
    "import pandas as pd\n",
    "import numpy as np"
   ]
  },
  {
   "cell_type": "markdown",
   "metadata": {},
   "source": [
    "# PRECIO POR  M² URBANIZABLE"
   ]
  },
  {
   "cell_type": "markdown",
   "metadata": {},
   "source": [
    "Uno de los factores fundamentales a considerar al elegir la ubicación de la empresa es el precio por metro cuadrado de terreno urbanizable en España.\n",
    "\n",
    "Este estudio se centrará inicialmente en analizar el precio medio del metro cuadrado en las principales ciudades de las Comunidades Autónomas. Posteriormente, examinaremos el precio medio por metro cuadrado en municipios con poblaciones de entre 10,000 y 50,000 habitantes en estas mismas comunidades. \n",
    "\n",
    "El objetivo es identificar las variaciones en los precios entre las zonas urbanas y las áreas periféricas, lo cual proporcionará una visión clara de dónde hay mayores diferencias en costos de vivienda. Esta información será crucial, ya que nos ayudará a identificar las comunidades donde se encuentran los potenciales clientes de nuestro cliente.\n",
    "\n",
    "Los datos se han obtenido del Ministerio de Transportes y Movilidad Sostenible, centrándose en estadísticas de precios de suelo urbano.\n",
    "\n",
    "Para las Comunidades Autónomas utilizaremos el dataframe de precio medio en euros del metro cuadrado de suelo urbano por Comunidades Autónomas y provincias.\n",
    "\n",
    "Para poder comenzar con el análsis hemos tenido que pasar el archivo a csv y limpiar los datos, ya que habían filas vacias y datos que no nos hacían falta, como los de los 20 años previos. Este csv se ha limpiado desde el propio excel. "
   ]
  },
  {
   "cell_type": "markdown",
   "metadata": {},
   "source": [
    "## 1. COMUNIDADES AUTÓNOMAS"
   ]
  },
  {
   "cell_type": "markdown",
   "metadata": {},
   "source": [
    "### 1.1 Importamos el DF"
   ]
  },
  {
   "cell_type": "code",
   "execution_count": 3,
   "metadata": {},
   "outputs": [
    {
     "data": {
      "text/html": [
       "<div>\n",
       "<style scoped>\n",
       "    .dataframe tbody tr th:only-of-type {\n",
       "        vertical-align: middle;\n",
       "    }\n",
       "\n",
       "    .dataframe tbody tr th {\n",
       "        vertical-align: top;\n",
       "    }\n",
       "\n",
       "    .dataframe thead th {\n",
       "        text-align: right;\n",
       "    }\n",
       "</style>\n",
       "<table border=\"1\" class=\"dataframe\">\n",
       "  <thead>\n",
       "    <tr style=\"text-align: right;\">\n",
       "      <th></th>\n",
       "      <th>Primer trimestre</th>\n",
       "      <th>Segundo trimestre</th>\n",
       "      <th>Variacion trimestral</th>\n",
       "      <th>Variacion interanual</th>\n",
       "    </tr>\n",
       "    <tr>\n",
       "      <th>Comunidad Autonoma</th>\n",
       "      <th></th>\n",
       "      <th></th>\n",
       "      <th></th>\n",
       "      <th></th>\n",
       "    </tr>\n",
       "  </thead>\n",
       "  <tbody>\n",
       "    <tr>\n",
       "      <th>total nacional</th>\n",
       "      <td>167,4</td>\n",
       "      <td>166,6</td>\n",
       "      <td>-0,5</td>\n",
       "      <td>7,9</td>\n",
       "    </tr>\n",
       "    <tr>\n",
       "      <th>Andalucia</th>\n",
       "      <td>188,1</td>\n",
       "      <td>164,8</td>\n",
       "      <td>-12,4</td>\n",
       "      <td>-3,3</td>\n",
       "    </tr>\n",
       "    <tr>\n",
       "      <th>Almeria</th>\n",
       "      <td>149,4</td>\n",
       "      <td>157,4</td>\n",
       "      <td>5,3</td>\n",
       "      <td>-16,3</td>\n",
       "    </tr>\n",
       "    <tr>\n",
       "      <th>Cadiz</th>\n",
       "      <td>193,8</td>\n",
       "      <td>217</td>\n",
       "      <td>12</td>\n",
       "      <td>6,9</td>\n",
       "    </tr>\n",
       "    <tr>\n",
       "      <th>Cordoba</th>\n",
       "      <td>111</td>\n",
       "      <td>145</td>\n",
       "      <td>30,7</td>\n",
       "      <td>6,2</td>\n",
       "    </tr>\n",
       "    <tr>\n",
       "      <th>...</th>\n",
       "      <td>...</td>\n",
       "      <td>...</td>\n",
       "      <td>...</td>\n",
       "      <td>...</td>\n",
       "    </tr>\n",
       "    <tr>\n",
       "      <th>Alava</th>\n",
       "      <td>205,1</td>\n",
       "      <td>158,6</td>\n",
       "      <td>-22,7</td>\n",
       "      <td>-14</td>\n",
       "    </tr>\n",
       "    <tr>\n",
       "      <th>Guipuzcoa</th>\n",
       "      <td>248,2</td>\n",
       "      <td>143,3</td>\n",
       "      <td>-42,2</td>\n",
       "      <td>-48,8</td>\n",
       "    </tr>\n",
       "    <tr>\n",
       "      <th>Vizcaya</th>\n",
       "      <td>302,2</td>\n",
       "      <td>221,2</td>\n",
       "      <td>-26,8</td>\n",
       "      <td>-18,8</td>\n",
       "    </tr>\n",
       "    <tr>\n",
       "      <th>La Rioja</th>\n",
       "      <td>191</td>\n",
       "      <td>180,5</td>\n",
       "      <td>-5,5</td>\n",
       "      <td>29,4</td>\n",
       "    </tr>\n",
       "    <tr>\n",
       "      <th>Ceuta y Melilla</th>\n",
       "      <td>n.s.</td>\n",
       "      <td>n.s.</td>\n",
       "      <td>.</td>\n",
       "      <td>.</td>\n",
       "    </tr>\n",
       "  </tbody>\n",
       "</table>\n",
       "<p>62 rows × 4 columns</p>\n",
       "</div>"
      ],
      "text/plain": [
       "                   Primer trimestre Segundo trimestre Variacion trimestral  \\\n",
       "Comunidad Autonoma                                                           \n",
       "total nacional                167,4             166,6                 -0,5   \n",
       "Andalucia                     188,1             164,8                -12,4   \n",
       "Almeria                       149,4             157,4                  5,3   \n",
       "Cadiz                         193,8               217                   12   \n",
       "Cordoba                         111               145                 30,7   \n",
       "...                             ...               ...                  ...   \n",
       "Alava                         205,1             158,6                -22,7   \n",
       "Guipuzcoa                     248,2             143,3                -42,2   \n",
       "Vizcaya                       302,2             221,2                -26,8   \n",
       "La Rioja                        191             180,5                 -5,5   \n",
       "Ceuta y Melilla                n.s.              n.s.                    .   \n",
       "\n",
       "                   Variacion interanual  \n",
       "Comunidad Autonoma                       \n",
       "total nacional                      7,9  \n",
       "Andalucia                          -3,3  \n",
       "Almeria                           -16,3  \n",
       "Cadiz                               6,9  \n",
       "Cordoba                             6,2  \n",
       "...                                 ...  \n",
       "Alava                               -14  \n",
       "Guipuzcoa                         -48,8  \n",
       "Vizcaya                           -18,8  \n",
       "La Rioja                           29,4  \n",
       "Ceuta y Melilla                       .  \n",
       "\n",
       "[62 rows x 4 columns]"
      ]
     },
     "execution_count": 3,
     "metadata": {},
     "output_type": "execute_result"
    }
   ],
   "source": [
    "#Importamos el df y le especificamos que queremos las Comunidades Autónomas como columnas para posteriormente filtrar los datos por filas.\n",
    "archivo = (\"df_precio_metro_cuadrado - Hoja 1.csv\")\n",
    "sep = (\",\")\n",
    "header = 0\n",
    "\n",
    "df_1 = pd.read_csv(archivo, sep= sep, header=header)\n",
    "df_1.set_index(\"Comunidad Autonoma\", inplace=True)\n",
    "df_1"
   ]
  },
  {
   "cell_type": "markdown",
   "metadata": {},
   "source": [
    "### 1.2 Limpiamos los datos del DF para poder trabajar con ellos"
   ]
  },
  {
   "cell_type": "code",
   "execution_count": 4,
   "metadata": {},
   "outputs": [
    {
     "data": {
      "text/html": [
       "<div>\n",
       "<style scoped>\n",
       "    .dataframe tbody tr th:only-of-type {\n",
       "        vertical-align: middle;\n",
       "    }\n",
       "\n",
       "    .dataframe tbody tr th {\n",
       "        vertical-align: top;\n",
       "    }\n",
       "\n",
       "    .dataframe thead th {\n",
       "        text-align: right;\n",
       "    }\n",
       "</style>\n",
       "<table border=\"1\" class=\"dataframe\">\n",
       "  <thead>\n",
       "    <tr style=\"text-align: right;\">\n",
       "      <th></th>\n",
       "      <th>Primer trimestre</th>\n",
       "      <th>Segundo trimestre</th>\n",
       "      <th>Variacion trimestral</th>\n",
       "      <th>Variacion interanual</th>\n",
       "    </tr>\n",
       "    <tr>\n",
       "      <th>Comunidad Autonoma</th>\n",
       "      <th></th>\n",
       "      <th></th>\n",
       "      <th></th>\n",
       "      <th></th>\n",
       "    </tr>\n",
       "  </thead>\n",
       "  <tbody>\n",
       "    <tr>\n",
       "      <th>total nacional</th>\n",
       "      <td>167.4</td>\n",
       "      <td>166.6</td>\n",
       "      <td>-0.5</td>\n",
       "      <td>7.9</td>\n",
       "    </tr>\n",
       "    <tr>\n",
       "      <th>Andalucia</th>\n",
       "      <td>188.1</td>\n",
       "      <td>164.8</td>\n",
       "      <td>-12.4</td>\n",
       "      <td>-3.3</td>\n",
       "    </tr>\n",
       "    <tr>\n",
       "      <th>Almeria</th>\n",
       "      <td>149.4</td>\n",
       "      <td>157.4</td>\n",
       "      <td>5.3</td>\n",
       "      <td>-16.3</td>\n",
       "    </tr>\n",
       "    <tr>\n",
       "      <th>Cadiz</th>\n",
       "      <td>193.8</td>\n",
       "      <td>217</td>\n",
       "      <td>12</td>\n",
       "      <td>6.9</td>\n",
       "    </tr>\n",
       "    <tr>\n",
       "      <th>Cordoba</th>\n",
       "      <td>111</td>\n",
       "      <td>145</td>\n",
       "      <td>30.7</td>\n",
       "      <td>6.2</td>\n",
       "    </tr>\n",
       "    <tr>\n",
       "      <th>...</th>\n",
       "      <td>...</td>\n",
       "      <td>...</td>\n",
       "      <td>...</td>\n",
       "      <td>...</td>\n",
       "    </tr>\n",
       "    <tr>\n",
       "      <th>Alava</th>\n",
       "      <td>205.1</td>\n",
       "      <td>158.6</td>\n",
       "      <td>-22.7</td>\n",
       "      <td>-14</td>\n",
       "    </tr>\n",
       "    <tr>\n",
       "      <th>Guipuzcoa</th>\n",
       "      <td>248.2</td>\n",
       "      <td>143.3</td>\n",
       "      <td>-42.2</td>\n",
       "      <td>-48.8</td>\n",
       "    </tr>\n",
       "    <tr>\n",
       "      <th>Vizcaya</th>\n",
       "      <td>302.2</td>\n",
       "      <td>221.2</td>\n",
       "      <td>-26.8</td>\n",
       "      <td>-18.8</td>\n",
       "    </tr>\n",
       "    <tr>\n",
       "      <th>La Rioja</th>\n",
       "      <td>191</td>\n",
       "      <td>180.5</td>\n",
       "      <td>-5.5</td>\n",
       "      <td>29.4</td>\n",
       "    </tr>\n",
       "    <tr>\n",
       "      <th>Ceuta y Melilla</th>\n",
       "      <td>n.s.</td>\n",
       "      <td>n.s.</td>\n",
       "      <td>.</td>\n",
       "      <td>.</td>\n",
       "    </tr>\n",
       "  </tbody>\n",
       "</table>\n",
       "<p>62 rows × 4 columns</p>\n",
       "</div>"
      ],
      "text/plain": [
       "                   Primer trimestre Segundo trimestre Variacion trimestral  \\\n",
       "Comunidad Autonoma                                                           \n",
       "total nacional                167.4             166.6                 -0.5   \n",
       "Andalucia                     188.1             164.8                -12.4   \n",
       "Almeria                       149.4             157.4                  5.3   \n",
       "Cadiz                         193.8               217                   12   \n",
       "Cordoba                         111               145                 30.7   \n",
       "...                             ...               ...                  ...   \n",
       "Alava                         205.1             158.6                -22.7   \n",
       "Guipuzcoa                     248.2             143.3                -42.2   \n",
       "Vizcaya                       302.2             221.2                -26.8   \n",
       "La Rioja                        191             180.5                 -5.5   \n",
       "Ceuta y Melilla                n.s.              n.s.                    .   \n",
       "\n",
       "                   Variacion interanual  \n",
       "Comunidad Autonoma                       \n",
       "total nacional                      7.9  \n",
       "Andalucia                          -3.3  \n",
       "Almeria                           -16.3  \n",
       "Cadiz                               6.9  \n",
       "Cordoba                             6.2  \n",
       "...                                 ...  \n",
       "Alava                               -14  \n",
       "Guipuzcoa                         -48.8  \n",
       "Vizcaya                           -18.8  \n",
       "La Rioja                           29.4  \n",
       "Ceuta y Melilla                       .  \n",
       "\n",
       "[62 rows x 4 columns]"
      ]
     },
     "execution_count": 4,
     "metadata": {},
     "output_type": "execute_result"
    }
   ],
   "source": [
    "#Reemplazamos las (,) por (.)\n",
    "df_1 = df_1.replace(\",\", \".\", regex=True)\n",
    "df_1"
   ]
  },
  {
   "cell_type": "code",
   "execution_count": 5,
   "metadata": {},
   "outputs": [
    {
     "name": "stdout",
     "output_type": "stream",
     "text": [
      "<class 'pandas.core.frame.DataFrame'>\n",
      "Index: 62 entries, total nacional to Ceuta y Melilla\n",
      "Data columns (total 4 columns):\n",
      " #   Column                Non-Null Count  Dtype  \n",
      "---  ------                --------------  -----  \n",
      " 0   Primer trimestre      61 non-null     float64\n",
      " 1   Segundo trimestre     60 non-null     float64\n",
      " 2   Variacion trimestral  60 non-null     float64\n",
      " 3   Variacion interanual  60 non-null     float64\n",
      "dtypes: float64(4)\n",
      "memory usage: 2.4+ KB\n"
     ]
    }
   ],
   "source": [
    "#Convertimos los valores de las columnas a float\n",
    "df_1[\"Primer trimestre\"] = pd.to_numeric(df_1[\"Primer trimestre\"], errors=\"coerce\")\n",
    "df_1[\"Segundo trimestre\"] = pd.to_numeric(df_1[\"Segundo trimestre\"], errors=\"coerce\")\n",
    "df_1[\"Variacion trimestral\"] = pd.to_numeric(df_1[\"Variacion trimestral\"], errors=\"coerce\")\n",
    "df_1[\"Variacion interanual\"] = pd.to_numeric(df_1[\"Variacion interanual\"], errors=\"coerce\")\n",
    "\n",
    "df_1.info()"
   ]
  },
  {
   "cell_type": "markdown",
   "metadata": {},
   "source": [
    "### 1.3 Creamos un DF con sólo los datos con los que vamos a trabajar"
   ]
  },
  {
   "cell_type": "code",
   "execution_count": 6,
   "metadata": {},
   "outputs": [
    {
     "data": {
      "text/html": [
       "<div>\n",
       "<style scoped>\n",
       "    .dataframe tbody tr th:only-of-type {\n",
       "        vertical-align: middle;\n",
       "    }\n",
       "\n",
       "    .dataframe tbody tr th {\n",
       "        vertical-align: top;\n",
       "    }\n",
       "\n",
       "    .dataframe thead th {\n",
       "        text-align: right;\n",
       "    }\n",
       "</style>\n",
       "<table border=\"1\" class=\"dataframe\">\n",
       "  <thead>\n",
       "    <tr style=\"text-align: right;\">\n",
       "      <th></th>\n",
       "      <th>Segundo trimestre</th>\n",
       "    </tr>\n",
       "    <tr>\n",
       "      <th>Comunidad Autonoma</th>\n",
       "      <th></th>\n",
       "    </tr>\n",
       "  </thead>\n",
       "  <tbody>\n",
       "    <tr>\n",
       "      <th>Castilla y Leon</th>\n",
       "      <td>81.6</td>\n",
       "    </tr>\n",
       "    <tr>\n",
       "      <th>Castilla La Mancha</th>\n",
       "      <td>100.4</td>\n",
       "    </tr>\n",
       "    <tr>\n",
       "      <th>Extremadura</th>\n",
       "      <td>109.3</td>\n",
       "    </tr>\n",
       "    <tr>\n",
       "      <th>Galicia</th>\n",
       "      <td>112.2</td>\n",
       "    </tr>\n",
       "    <tr>\n",
       "      <th>Cantabria</th>\n",
       "      <td>122.5</td>\n",
       "    </tr>\n",
       "    <tr>\n",
       "      <th>Aragon</th>\n",
       "      <td>134.2</td>\n",
       "    </tr>\n",
       "    <tr>\n",
       "      <th>Asturias</th>\n",
       "      <td>135.1</td>\n",
       "    </tr>\n",
       "    <tr>\n",
       "      <th>Comunidad Foral de Navarra</th>\n",
       "      <td>136.0</td>\n",
       "    </tr>\n",
       "    <tr>\n",
       "      <th>Region de Murcia</th>\n",
       "      <td>144.2</td>\n",
       "    </tr>\n",
       "    <tr>\n",
       "      <th>Andalucia</th>\n",
       "      <td>164.8</td>\n",
       "    </tr>\n",
       "    <tr>\n",
       "      <th>Cataluña</th>\n",
       "      <td>174.7</td>\n",
       "    </tr>\n",
       "    <tr>\n",
       "      <th>La Rioja</th>\n",
       "      <td>180.5</td>\n",
       "    </tr>\n",
       "    <tr>\n",
       "      <th>Pais Vasco</th>\n",
       "      <td>192.6</td>\n",
       "    </tr>\n",
       "    <tr>\n",
       "      <th>Comunitat Valenciana</th>\n",
       "      <td>202.3</td>\n",
       "    </tr>\n",
       "    <tr>\n",
       "      <th>Canarias</th>\n",
       "      <td>243.6</td>\n",
       "    </tr>\n",
       "    <tr>\n",
       "      <th>Comunidad de Madrid</th>\n",
       "      <td>269.3</td>\n",
       "    </tr>\n",
       "    <tr>\n",
       "      <th>Baleares</th>\n",
       "      <td>340.5</td>\n",
       "    </tr>\n",
       "  </tbody>\n",
       "</table>\n",
       "</div>"
      ],
      "text/plain": [
       "                            Segundo trimestre\n",
       "Comunidad Autonoma                           \n",
       "Castilla y Leon                          81.6\n",
       "Castilla La Mancha                      100.4\n",
       "Extremadura                             109.3\n",
       "Galicia                                 112.2\n",
       "Cantabria                               122.5\n",
       "Aragon                                  134.2\n",
       "Asturias                                135.1\n",
       "Comunidad Foral de Navarra              136.0\n",
       "Region de Murcia                        144.2\n",
       "Andalucia                               164.8\n",
       "Cataluña                                174.7\n",
       "La Rioja                                180.5\n",
       "Pais Vasco                              192.6\n",
       "Comunitat Valenciana                    202.3\n",
       "Canarias                                243.6\n",
       "Comunidad de Madrid                     269.3\n",
       "Baleares                                340.5"
      ]
     },
     "execution_count": 6,
     "metadata": {},
     "output_type": "execute_result"
    }
   ],
   "source": [
    "#Seleccionamos las columnas con las que vamos a trabajar: Segundo trimestre de todas las Comunidades Autónomas y las ordenamos de menor a mayor:\n",
    "df_com_auto= df_1.loc[[\"Andalucia\", \"Aragon\",\"Asturias\", \"Baleares\",\"Canarias\", \"Cantabria\", \"Castilla y Leon\", \"Castilla La Mancha\", \"Cataluña\", \"Comunitat Valenciana\", \"Extremadura\", \"Galicia\", \"Comunidad de Madrid\", \"Region de Murcia\", \"Comunidad Foral de Navarra\", \"Pais Vasco\", \"La Rioja\"], [\"Segundo trimestre\"]]\n",
    "\n",
    "\n",
    "precio_comunidades_autonomas=df_com_auto.sort_values(by= \"Segundo trimestre\", ascending=True)\n",
    "precio_comunidades_autonomas"
   ]
  },
  {
   "cell_type": "code",
   "execution_count": 7,
   "metadata": {},
   "outputs": [
    {
     "data": {
      "text/html": [
       "<div>\n",
       "<style scoped>\n",
       "    .dataframe tbody tr th:only-of-type {\n",
       "        vertical-align: middle;\n",
       "    }\n",
       "\n",
       "    .dataframe tbody tr th {\n",
       "        vertical-align: top;\n",
       "    }\n",
       "\n",
       "    .dataframe thead th {\n",
       "        text-align: right;\n",
       "    }\n",
       "</style>\n",
       "<table border=\"1\" class=\"dataframe\">\n",
       "  <thead>\n",
       "    <tr style=\"text-align: right;\">\n",
       "      <th></th>\n",
       "      <th>Comunidad Autonoma</th>\n",
       "      <th>Segundo trimestre</th>\n",
       "    </tr>\n",
       "  </thead>\n",
       "  <tbody>\n",
       "    <tr>\n",
       "      <th>0</th>\n",
       "      <td>Castilla y Leon</td>\n",
       "      <td>81.6</td>\n",
       "    </tr>\n",
       "    <tr>\n",
       "      <th>1</th>\n",
       "      <td>Castilla La Mancha</td>\n",
       "      <td>100.4</td>\n",
       "    </tr>\n",
       "    <tr>\n",
       "      <th>2</th>\n",
       "      <td>Extremadura</td>\n",
       "      <td>109.3</td>\n",
       "    </tr>\n",
       "    <tr>\n",
       "      <th>3</th>\n",
       "      <td>Galicia</td>\n",
       "      <td>112.2</td>\n",
       "    </tr>\n",
       "    <tr>\n",
       "      <th>4</th>\n",
       "      <td>Cantabria</td>\n",
       "      <td>122.5</td>\n",
       "    </tr>\n",
       "    <tr>\n",
       "      <th>5</th>\n",
       "      <td>Aragon</td>\n",
       "      <td>134.2</td>\n",
       "    </tr>\n",
       "    <tr>\n",
       "      <th>6</th>\n",
       "      <td>Asturias</td>\n",
       "      <td>135.1</td>\n",
       "    </tr>\n",
       "    <tr>\n",
       "      <th>7</th>\n",
       "      <td>Comunidad Foral de Navarra</td>\n",
       "      <td>136.0</td>\n",
       "    </tr>\n",
       "    <tr>\n",
       "      <th>8</th>\n",
       "      <td>Region de Murcia</td>\n",
       "      <td>144.2</td>\n",
       "    </tr>\n",
       "    <tr>\n",
       "      <th>9</th>\n",
       "      <td>Andalucia</td>\n",
       "      <td>164.8</td>\n",
       "    </tr>\n",
       "    <tr>\n",
       "      <th>10</th>\n",
       "      <td>Cataluña</td>\n",
       "      <td>174.7</td>\n",
       "    </tr>\n",
       "    <tr>\n",
       "      <th>11</th>\n",
       "      <td>La Rioja</td>\n",
       "      <td>180.5</td>\n",
       "    </tr>\n",
       "    <tr>\n",
       "      <th>12</th>\n",
       "      <td>Pais Vasco</td>\n",
       "      <td>192.6</td>\n",
       "    </tr>\n",
       "    <tr>\n",
       "      <th>13</th>\n",
       "      <td>Comunitat Valenciana</td>\n",
       "      <td>202.3</td>\n",
       "    </tr>\n",
       "    <tr>\n",
       "      <th>14</th>\n",
       "      <td>Canarias</td>\n",
       "      <td>243.6</td>\n",
       "    </tr>\n",
       "    <tr>\n",
       "      <th>15</th>\n",
       "      <td>Comunidad de Madrid</td>\n",
       "      <td>269.3</td>\n",
       "    </tr>\n",
       "    <tr>\n",
       "      <th>16</th>\n",
       "      <td>Baleares</td>\n",
       "      <td>340.5</td>\n",
       "    </tr>\n",
       "  </tbody>\n",
       "</table>\n",
       "</div>"
      ],
      "text/plain": [
       "            Comunidad Autonoma  Segundo trimestre\n",
       "0              Castilla y Leon               81.6\n",
       "1           Castilla La Mancha              100.4\n",
       "2                  Extremadura              109.3\n",
       "3                      Galicia              112.2\n",
       "4                    Cantabria              122.5\n",
       "5                       Aragon              134.2\n",
       "6                     Asturias              135.1\n",
       "7   Comunidad Foral de Navarra              136.0\n",
       "8             Region de Murcia              144.2\n",
       "9                    Andalucia              164.8\n",
       "10                    Cataluña              174.7\n",
       "11                    La Rioja              180.5\n",
       "12                  Pais Vasco              192.6\n",
       "13        Comunitat Valenciana              202.3\n",
       "14                    Canarias              243.6\n",
       "15         Comunidad de Madrid              269.3\n",
       "16                    Baleares              340.5"
      ]
     },
     "execution_count": 7,
     "metadata": {},
     "output_type": "execute_result"
    }
   ],
   "source": [
    "#Volvemos a pasar el índice que eran las Comunidades Autónomas a columna para poder visualizar los datos y trabajamos sobre este df\n",
    "df1 = precio_comunidades_autonomas.reset_index()\n",
    "df1"
   ]
  },
  {
   "cell_type": "markdown",
   "metadata": {},
   "source": [
    "### 1.4 Creación de gráficas"
   ]
  },
  {
   "cell_type": "markdown",
   "metadata": {},
   "source": [
    "Para la visualización de los datos importaremos las librerías necesarias, trabajaremos con Plotly."
   ]
  },
  {
   "cell_type": "code",
   "execution_count": 8,
   "metadata": {},
   "outputs": [],
   "source": [
    "import ipywidgets as widgets\n",
    "import matplotlib.pyplot as plt\n",
    "import plotly.graph_objects as go"
   ]
  },
  {
   "cell_type": "code",
   "execution_count": 9,
   "metadata": {},
   "outputs": [
    {
     "data": {
      "application/vnd.plotly.v1+json": {
       "config": {
        "plotlyServerURL": "https://plot.ly"
       },
       "data": [
        {
         "marker": {
          "color": "red"
         },
         "type": "bar",
         "x": [
          "Castilla y Leon",
          "Castilla La Mancha",
          "Extremadura",
          "Galicia",
          "Cantabria",
          "Aragon",
          "Asturias",
          "Comunidad Foral de Navarra",
          "Region de Murcia",
          "Andalucia",
          "Cataluña",
          "La Rioja",
          "Pais Vasco",
          "Comunitat Valenciana",
          "Canarias",
          "Comunidad de Madrid",
          "Baleares"
         ],
         "y": [
          81.6,
          100.4,
          109.3,
          112.2,
          122.5,
          134.2,
          135.1,
          136,
          144.2,
          164.8,
          174.7,
          180.5,
          192.6,
          202.3,
          243.6,
          269.3,
          340.5
         ]
        }
       ],
       "layout": {
        "barmode": "group",
        "template": {
         "data": {
          "bar": [
           {
            "error_x": {
             "color": "#2a3f5f"
            },
            "error_y": {
             "color": "#2a3f5f"
            },
            "marker": {
             "line": {
              "color": "#E5ECF6",
              "width": 0.5
             },
             "pattern": {
              "fillmode": "overlay",
              "size": 10,
              "solidity": 0.2
             }
            },
            "type": "bar"
           }
          ],
          "barpolar": [
           {
            "marker": {
             "line": {
              "color": "#E5ECF6",
              "width": 0.5
             },
             "pattern": {
              "fillmode": "overlay",
              "size": 10,
              "solidity": 0.2
             }
            },
            "type": "barpolar"
           }
          ],
          "carpet": [
           {
            "aaxis": {
             "endlinecolor": "#2a3f5f",
             "gridcolor": "white",
             "linecolor": "white",
             "minorgridcolor": "white",
             "startlinecolor": "#2a3f5f"
            },
            "baxis": {
             "endlinecolor": "#2a3f5f",
             "gridcolor": "white",
             "linecolor": "white",
             "minorgridcolor": "white",
             "startlinecolor": "#2a3f5f"
            },
            "type": "carpet"
           }
          ],
          "choropleth": [
           {
            "colorbar": {
             "outlinewidth": 0,
             "ticks": ""
            },
            "type": "choropleth"
           }
          ],
          "contour": [
           {
            "colorbar": {
             "outlinewidth": 0,
             "ticks": ""
            },
            "colorscale": [
             [
              0,
              "#0d0887"
             ],
             [
              0.1111111111111111,
              "#46039f"
             ],
             [
              0.2222222222222222,
              "#7201a8"
             ],
             [
              0.3333333333333333,
              "#9c179e"
             ],
             [
              0.4444444444444444,
              "#bd3786"
             ],
             [
              0.5555555555555556,
              "#d8576b"
             ],
             [
              0.6666666666666666,
              "#ed7953"
             ],
             [
              0.7777777777777778,
              "#fb9f3a"
             ],
             [
              0.8888888888888888,
              "#fdca26"
             ],
             [
              1,
              "#f0f921"
             ]
            ],
            "type": "contour"
           }
          ],
          "contourcarpet": [
           {
            "colorbar": {
             "outlinewidth": 0,
             "ticks": ""
            },
            "type": "contourcarpet"
           }
          ],
          "heatmap": [
           {
            "colorbar": {
             "outlinewidth": 0,
             "ticks": ""
            },
            "colorscale": [
             [
              0,
              "#0d0887"
             ],
             [
              0.1111111111111111,
              "#46039f"
             ],
             [
              0.2222222222222222,
              "#7201a8"
             ],
             [
              0.3333333333333333,
              "#9c179e"
             ],
             [
              0.4444444444444444,
              "#bd3786"
             ],
             [
              0.5555555555555556,
              "#d8576b"
             ],
             [
              0.6666666666666666,
              "#ed7953"
             ],
             [
              0.7777777777777778,
              "#fb9f3a"
             ],
             [
              0.8888888888888888,
              "#fdca26"
             ],
             [
              1,
              "#f0f921"
             ]
            ],
            "type": "heatmap"
           }
          ],
          "heatmapgl": [
           {
            "colorbar": {
             "outlinewidth": 0,
             "ticks": ""
            },
            "colorscale": [
             [
              0,
              "#0d0887"
             ],
             [
              0.1111111111111111,
              "#46039f"
             ],
             [
              0.2222222222222222,
              "#7201a8"
             ],
             [
              0.3333333333333333,
              "#9c179e"
             ],
             [
              0.4444444444444444,
              "#bd3786"
             ],
             [
              0.5555555555555556,
              "#d8576b"
             ],
             [
              0.6666666666666666,
              "#ed7953"
             ],
             [
              0.7777777777777778,
              "#fb9f3a"
             ],
             [
              0.8888888888888888,
              "#fdca26"
             ],
             [
              1,
              "#f0f921"
             ]
            ],
            "type": "heatmapgl"
           }
          ],
          "histogram": [
           {
            "marker": {
             "pattern": {
              "fillmode": "overlay",
              "size": 10,
              "solidity": 0.2
             }
            },
            "type": "histogram"
           }
          ],
          "histogram2d": [
           {
            "colorbar": {
             "outlinewidth": 0,
             "ticks": ""
            },
            "colorscale": [
             [
              0,
              "#0d0887"
             ],
             [
              0.1111111111111111,
              "#46039f"
             ],
             [
              0.2222222222222222,
              "#7201a8"
             ],
             [
              0.3333333333333333,
              "#9c179e"
             ],
             [
              0.4444444444444444,
              "#bd3786"
             ],
             [
              0.5555555555555556,
              "#d8576b"
             ],
             [
              0.6666666666666666,
              "#ed7953"
             ],
             [
              0.7777777777777778,
              "#fb9f3a"
             ],
             [
              0.8888888888888888,
              "#fdca26"
             ],
             [
              1,
              "#f0f921"
             ]
            ],
            "type": "histogram2d"
           }
          ],
          "histogram2dcontour": [
           {
            "colorbar": {
             "outlinewidth": 0,
             "ticks": ""
            },
            "colorscale": [
             [
              0,
              "#0d0887"
             ],
             [
              0.1111111111111111,
              "#46039f"
             ],
             [
              0.2222222222222222,
              "#7201a8"
             ],
             [
              0.3333333333333333,
              "#9c179e"
             ],
             [
              0.4444444444444444,
              "#bd3786"
             ],
             [
              0.5555555555555556,
              "#d8576b"
             ],
             [
              0.6666666666666666,
              "#ed7953"
             ],
             [
              0.7777777777777778,
              "#fb9f3a"
             ],
             [
              0.8888888888888888,
              "#fdca26"
             ],
             [
              1,
              "#f0f921"
             ]
            ],
            "type": "histogram2dcontour"
           }
          ],
          "mesh3d": [
           {
            "colorbar": {
             "outlinewidth": 0,
             "ticks": ""
            },
            "type": "mesh3d"
           }
          ],
          "parcoords": [
           {
            "line": {
             "colorbar": {
              "outlinewidth": 0,
              "ticks": ""
             }
            },
            "type": "parcoords"
           }
          ],
          "pie": [
           {
            "automargin": true,
            "type": "pie"
           }
          ],
          "scatter": [
           {
            "fillpattern": {
             "fillmode": "overlay",
             "size": 10,
             "solidity": 0.2
            },
            "type": "scatter"
           }
          ],
          "scatter3d": [
           {
            "line": {
             "colorbar": {
              "outlinewidth": 0,
              "ticks": ""
             }
            },
            "marker": {
             "colorbar": {
              "outlinewidth": 0,
              "ticks": ""
             }
            },
            "type": "scatter3d"
           }
          ],
          "scattercarpet": [
           {
            "marker": {
             "colorbar": {
              "outlinewidth": 0,
              "ticks": ""
             }
            },
            "type": "scattercarpet"
           }
          ],
          "scattergeo": [
           {
            "marker": {
             "colorbar": {
              "outlinewidth": 0,
              "ticks": ""
             }
            },
            "type": "scattergeo"
           }
          ],
          "scattergl": [
           {
            "marker": {
             "colorbar": {
              "outlinewidth": 0,
              "ticks": ""
             }
            },
            "type": "scattergl"
           }
          ],
          "scattermapbox": [
           {
            "marker": {
             "colorbar": {
              "outlinewidth": 0,
              "ticks": ""
             }
            },
            "type": "scattermapbox"
           }
          ],
          "scatterpolar": [
           {
            "marker": {
             "colorbar": {
              "outlinewidth": 0,
              "ticks": ""
             }
            },
            "type": "scatterpolar"
           }
          ],
          "scatterpolargl": [
           {
            "marker": {
             "colorbar": {
              "outlinewidth": 0,
              "ticks": ""
             }
            },
            "type": "scatterpolargl"
           }
          ],
          "scatterternary": [
           {
            "marker": {
             "colorbar": {
              "outlinewidth": 0,
              "ticks": ""
             }
            },
            "type": "scatterternary"
           }
          ],
          "surface": [
           {
            "colorbar": {
             "outlinewidth": 0,
             "ticks": ""
            },
            "colorscale": [
             [
              0,
              "#0d0887"
             ],
             [
              0.1111111111111111,
              "#46039f"
             ],
             [
              0.2222222222222222,
              "#7201a8"
             ],
             [
              0.3333333333333333,
              "#9c179e"
             ],
             [
              0.4444444444444444,
              "#bd3786"
             ],
             [
              0.5555555555555556,
              "#d8576b"
             ],
             [
              0.6666666666666666,
              "#ed7953"
             ],
             [
              0.7777777777777778,
              "#fb9f3a"
             ],
             [
              0.8888888888888888,
              "#fdca26"
             ],
             [
              1,
              "#f0f921"
             ]
            ],
            "type": "surface"
           }
          ],
          "table": [
           {
            "cells": {
             "fill": {
              "color": "#EBF0F8"
             },
             "line": {
              "color": "white"
             }
            },
            "header": {
             "fill": {
              "color": "#C8D4E3"
             },
             "line": {
              "color": "white"
             }
            },
            "type": "table"
           }
          ]
         },
         "layout": {
          "annotationdefaults": {
           "arrowcolor": "#2a3f5f",
           "arrowhead": 0,
           "arrowwidth": 1
          },
          "autotypenumbers": "strict",
          "coloraxis": {
           "colorbar": {
            "outlinewidth": 0,
            "ticks": ""
           }
          },
          "colorscale": {
           "diverging": [
            [
             0,
             "#8e0152"
            ],
            [
             0.1,
             "#c51b7d"
            ],
            [
             0.2,
             "#de77ae"
            ],
            [
             0.3,
             "#f1b6da"
            ],
            [
             0.4,
             "#fde0ef"
            ],
            [
             0.5,
             "#f7f7f7"
            ],
            [
             0.6,
             "#e6f5d0"
            ],
            [
             0.7,
             "#b8e186"
            ],
            [
             0.8,
             "#7fbc41"
            ],
            [
             0.9,
             "#4d9221"
            ],
            [
             1,
             "#276419"
            ]
           ],
           "sequential": [
            [
             0,
             "#0d0887"
            ],
            [
             0.1111111111111111,
             "#46039f"
            ],
            [
             0.2222222222222222,
             "#7201a8"
            ],
            [
             0.3333333333333333,
             "#9c179e"
            ],
            [
             0.4444444444444444,
             "#bd3786"
            ],
            [
             0.5555555555555556,
             "#d8576b"
            ],
            [
             0.6666666666666666,
             "#ed7953"
            ],
            [
             0.7777777777777778,
             "#fb9f3a"
            ],
            [
             0.8888888888888888,
             "#fdca26"
            ],
            [
             1,
             "#f0f921"
            ]
           ],
           "sequentialminus": [
            [
             0,
             "#0d0887"
            ],
            [
             0.1111111111111111,
             "#46039f"
            ],
            [
             0.2222222222222222,
             "#7201a8"
            ],
            [
             0.3333333333333333,
             "#9c179e"
            ],
            [
             0.4444444444444444,
             "#bd3786"
            ],
            [
             0.5555555555555556,
             "#d8576b"
            ],
            [
             0.6666666666666666,
             "#ed7953"
            ],
            [
             0.7777777777777778,
             "#fb9f3a"
            ],
            [
             0.8888888888888888,
             "#fdca26"
            ],
            [
             1,
             "#f0f921"
            ]
           ]
          },
          "colorway": [
           "#636efa",
           "#EF553B",
           "#00cc96",
           "#ab63fa",
           "#FFA15A",
           "#19d3f3",
           "#FF6692",
           "#B6E880",
           "#FF97FF",
           "#FECB52"
          ],
          "font": {
           "color": "#2a3f5f"
          },
          "geo": {
           "bgcolor": "white",
           "lakecolor": "white",
           "landcolor": "#E5ECF6",
           "showlakes": true,
           "showland": true,
           "subunitcolor": "white"
          },
          "hoverlabel": {
           "align": "left"
          },
          "hovermode": "closest",
          "mapbox": {
           "style": "light"
          },
          "paper_bgcolor": "white",
          "plot_bgcolor": "#E5ECF6",
          "polar": {
           "angularaxis": {
            "gridcolor": "white",
            "linecolor": "white",
            "ticks": ""
           },
           "bgcolor": "#E5ECF6",
           "radialaxis": {
            "gridcolor": "white",
            "linecolor": "white",
            "ticks": ""
           }
          },
          "scene": {
           "xaxis": {
            "backgroundcolor": "#E5ECF6",
            "gridcolor": "white",
            "gridwidth": 2,
            "linecolor": "white",
            "showbackground": true,
            "ticks": "",
            "zerolinecolor": "white"
           },
           "yaxis": {
            "backgroundcolor": "#E5ECF6",
            "gridcolor": "white",
            "gridwidth": 2,
            "linecolor": "white",
            "showbackground": true,
            "ticks": "",
            "zerolinecolor": "white"
           },
           "zaxis": {
            "backgroundcolor": "#E5ECF6",
            "gridcolor": "white",
            "gridwidth": 2,
            "linecolor": "white",
            "showbackground": true,
            "ticks": "",
            "zerolinecolor": "white"
           }
          },
          "shapedefaults": {
           "line": {
            "color": "#2a3f5f"
           }
          },
          "ternary": {
           "aaxis": {
            "gridcolor": "white",
            "linecolor": "white",
            "ticks": ""
           },
           "baxis": {
            "gridcolor": "white",
            "linecolor": "white",
            "ticks": ""
           },
           "bgcolor": "#E5ECF6",
           "caxis": {
            "gridcolor": "white",
            "linecolor": "white",
            "ticks": ""
           }
          },
          "title": {
           "x": 0.05
          },
          "xaxis": {
           "automargin": true,
           "gridcolor": "white",
           "linecolor": "white",
           "ticks": "",
           "title": {
            "standoff": 15
           },
           "zerolinecolor": "white",
           "zerolinewidth": 2
          },
          "yaxis": {
           "automargin": true,
           "gridcolor": "white",
           "linecolor": "white",
           "ticks": "",
           "title": {
            "standoff": 15
           },
           "zerolinecolor": "white",
           "zerolinewidth": 2
          }
         }
        },
        "title": {
         "text": "Precio medio por m² de las principales ciudades de las Comunidades Autónomas"
        },
        "xaxis": {
         "title": {
          "text": "Comunidades Autónomas"
         }
        },
        "yaxis": {
         "title": {
          "text": "Precio medio por m²"
         }
        }
       }
      }
     },
     "metadata": {},
     "output_type": "display_data"
    }
   ],
   "source": [
    "#Visualizamos los datos\n",
    "\n",
    "fig = go.Figure()\n",
    "\n",
    "fig.add_trace(go.Bar(x=df1[\"Comunidad Autonoma\"], y=df1[\"Segundo trimestre\"], marker_color=\"red\"))\n",
    "\n",
    "# Configura el layout\n",
    "fig.update_layout(title=\"Precio medio por m² de las principales ciudades de las Comunidades Autónomas\",\n",
    "                  xaxis_title=\"Comunidades Autónomas\",\n",
    "                  yaxis_title=\"Precio medio por m²\",\n",
    "                  barmode='group')\n",
    "\n",
    "fig.show()"
   ]
  },
  {
   "cell_type": "markdown",
   "metadata": {},
   "source": [
    "- Gráfico 1. Precio medio por m² de las principales ciudades de las Comunidades Autónomas"
   ]
  },
  {
   "cell_type": "markdown",
   "metadata": {},
   "source": [
    "### 1.5 Conclusión Comunidades Autónomas"
   ]
  },
  {
   "cell_type": "markdown",
   "metadata": {},
   "source": [
    "Partimos de la siguiente premisa: las Comunidades Autónomas con los precios más bajos del m² son Castilla y León (81,6 €/m²), Castilla-La Mancha (100,4 €/m²), Extremadura (109,3 €/m²) y Galicia (112,2 €/m²). Por otro lado, las regiones con los precios más altos son Baleares (340,5 €/m²), la Comunidad de Madrid (269,3 €/m²), Canarias (243,6 €/m²) y la Comunidad Valenciana (202,3 €/m²).\n",
    "\n",
    "Este estudio se basa en el precio medio del m² en las principales ciudades de cada Comunidad Autónoma, pero, ¿qué sucede si nos centramos en el precio del m² en las periferias de esas ciudades?\n",
    "\n",
    "Para profundizar en este aspecto, analizaremos el precio medio del m² en suelo urbano de municipios con poblaciones de entre 10.000 y 50.000 habitantes.\n"
   ]
  },
  {
   "cell_type": "markdown",
   "metadata": {},
   "source": [
    "## 2. COMUNIDADES AUTONOMAS. MUNICIPIOS DE 10000 Y 50000 HABITANTES"
   ]
  },
  {
   "cell_type": "markdown",
   "metadata": {},
   "source": [
    "### 2.1 Importamos el DF"
   ]
  },
  {
   "cell_type": "code",
   "execution_count": 10,
   "metadata": {},
   "outputs": [
    {
     "data": {
      "text/html": [
       "<div>\n",
       "<style scoped>\n",
       "    .dataframe tbody tr th:only-of-type {\n",
       "        vertical-align: middle;\n",
       "    }\n",
       "\n",
       "    .dataframe tbody tr th {\n",
       "        vertical-align: top;\n",
       "    }\n",
       "\n",
       "    .dataframe thead th {\n",
       "        text-align: right;\n",
       "    }\n",
       "</style>\n",
       "<table border=\"1\" class=\"dataframe\">\n",
       "  <thead>\n",
       "    <tr style=\"text-align: right;\">\n",
       "      <th></th>\n",
       "      <th>Primer trimestre</th>\n",
       "      <th>Segundo trimestre</th>\n",
       "      <th>Variacion trimestral</th>\n",
       "      <th>Variacion interanual</th>\n",
       "    </tr>\n",
       "    <tr>\n",
       "      <th>Comunidad Autonoma</th>\n",
       "      <th></th>\n",
       "      <th></th>\n",
       "      <th></th>\n",
       "      <th></th>\n",
       "    </tr>\n",
       "  </thead>\n",
       "  <tbody>\n",
       "    <tr>\n",
       "      <th>TOTAL NACIONAL</th>\n",
       "      <td>141,1</td>\n",
       "      <td>122,6</td>\n",
       "      <td>-13,1</td>\n",
       "      <td>5,4</td>\n",
       "    </tr>\n",
       "    <tr>\n",
       "      <th>Andalucia</th>\n",
       "      <td>123,8</td>\n",
       "      <td>90</td>\n",
       "      <td>-27,3</td>\n",
       "      <td>-23,6</td>\n",
       "    </tr>\n",
       "    <tr>\n",
       "      <th>Almeria</th>\n",
       "      <td>82,3</td>\n",
       "      <td>168,6</td>\n",
       "      <td>104,9</td>\n",
       "      <td>22,8</td>\n",
       "    </tr>\n",
       "    <tr>\n",
       "      <th>Cadiz</th>\n",
       "      <td>88,2</td>\n",
       "      <td>137,5</td>\n",
       "      <td>55,8</td>\n",
       "      <td>17,7</td>\n",
       "    </tr>\n",
       "    <tr>\n",
       "      <th>Cordoba</th>\n",
       "      <td>115,4</td>\n",
       "      <td>111,2</td>\n",
       "      <td>-3,6</td>\n",
       "      <td>24,6</td>\n",
       "    </tr>\n",
       "    <tr>\n",
       "      <th>...</th>\n",
       "      <td>...</td>\n",
       "      <td>...</td>\n",
       "      <td>...</td>\n",
       "      <td>...</td>\n",
       "    </tr>\n",
       "    <tr>\n",
       "      <th>Alava</th>\n",
       "      <td>.</td>\n",
       "      <td>.</td>\n",
       "      <td>.</td>\n",
       "      <td>.</td>\n",
       "    </tr>\n",
       "    <tr>\n",
       "      <th>Guipuzcoa</th>\n",
       "      <td>.</td>\n",
       "      <td>n.s.</td>\n",
       "      <td>.</td>\n",
       "      <td>.</td>\n",
       "    </tr>\n",
       "    <tr>\n",
       "      <th>Vizcaya</th>\n",
       "      <td>n.s</td>\n",
       "      <td>n.s.</td>\n",
       "      <td>.</td>\n",
       "      <td>.</td>\n",
       "    </tr>\n",
       "    <tr>\n",
       "      <th>La Rioja</th>\n",
       "      <td>285</td>\n",
       "      <td>208,9</td>\n",
       "      <td>-26,7</td>\n",
       "      <td>.</td>\n",
       "    </tr>\n",
       "    <tr>\n",
       "      <th>Ceuta y Melilla</th>\n",
       "      <td>.</td>\n",
       "      <td>.</td>\n",
       "      <td>.</td>\n",
       "      <td>.</td>\n",
       "    </tr>\n",
       "  </tbody>\n",
       "</table>\n",
       "<p>62 rows × 4 columns</p>\n",
       "</div>"
      ],
      "text/plain": [
       "                   Primer trimestre Segundo trimestre Variacion trimestral  \\\n",
       "Comunidad Autonoma                                                           \n",
       "TOTAL NACIONAL                141,1             122,6                -13,1   \n",
       "Andalucia                     123,8                90                -27,3   \n",
       "Almeria                        82,3             168,6                104,9   \n",
       "Cadiz                          88,2             137,5                 55,8   \n",
       "Cordoba                       115,4             111,2                 -3,6   \n",
       "...                             ...               ...                  ...   \n",
       "Alava                             .                 .                    .   \n",
       "Guipuzcoa                         .              n.s.                    .   \n",
       "Vizcaya                         n.s              n.s.                    .   \n",
       "La Rioja                        285             208,9                -26,7   \n",
       "Ceuta y Melilla                   .                 .                    .   \n",
       "\n",
       "                   Variacion interanual  \n",
       "Comunidad Autonoma                       \n",
       "TOTAL NACIONAL                      5,4  \n",
       "Andalucia                         -23,6  \n",
       "Almeria                            22,8  \n",
       "Cadiz                              17,7  \n",
       "Cordoba                            24,6  \n",
       "...                                 ...  \n",
       "Alava                                 .  \n",
       "Guipuzcoa                             .  \n",
       "Vizcaya                               .  \n",
       "La Rioja                              .  \n",
       "Ceuta y Melilla                       .  \n",
       "\n",
       "[62 rows x 4 columns]"
      ]
     },
     "execution_count": 10,
     "metadata": {},
     "output_type": "execute_result"
    }
   ],
   "source": [
    "#Seguimos los mismos pasos que en el anterior:\n",
    "archivo = (\"df_precio_metro_cuadrado_hab - Hoja 1.csv\")\n",
    "sep = (\",\")\n",
    "header = 0\n",
    "\n",
    "df_hab1 = pd.read_csv(archivo, sep=sep, header=header)\n",
    "df_hab1\n",
    "\n",
    "df_hab1.set_index(\"Comunidad Autonoma\", inplace=True)\n",
    "df_hab1"
   ]
  },
  {
   "cell_type": "markdown",
   "metadata": {},
   "source": [
    "### 2.2 Limpiamos los datos del DF para poder trabajar con ellos"
   ]
  },
  {
   "cell_type": "code",
   "execution_count": 11,
   "metadata": {},
   "outputs": [
    {
     "data": {
      "text/html": [
       "<div>\n",
       "<style scoped>\n",
       "    .dataframe tbody tr th:only-of-type {\n",
       "        vertical-align: middle;\n",
       "    }\n",
       "\n",
       "    .dataframe tbody tr th {\n",
       "        vertical-align: top;\n",
       "    }\n",
       "\n",
       "    .dataframe thead th {\n",
       "        text-align: right;\n",
       "    }\n",
       "</style>\n",
       "<table border=\"1\" class=\"dataframe\">\n",
       "  <thead>\n",
       "    <tr style=\"text-align: right;\">\n",
       "      <th></th>\n",
       "      <th>Primer trimestre</th>\n",
       "      <th>Segundo trimestre</th>\n",
       "      <th>Variacion trimestral</th>\n",
       "      <th>Variacion interanual</th>\n",
       "    </tr>\n",
       "    <tr>\n",
       "      <th>Comunidad Autonoma</th>\n",
       "      <th></th>\n",
       "      <th></th>\n",
       "      <th></th>\n",
       "      <th></th>\n",
       "    </tr>\n",
       "  </thead>\n",
       "  <tbody>\n",
       "    <tr>\n",
       "      <th>TOTAL NACIONAL</th>\n",
       "      <td>141.1</td>\n",
       "      <td>122.6</td>\n",
       "      <td>-13.1</td>\n",
       "      <td>5.4</td>\n",
       "    </tr>\n",
       "    <tr>\n",
       "      <th>Andalucia</th>\n",
       "      <td>123.8</td>\n",
       "      <td>90</td>\n",
       "      <td>-27.3</td>\n",
       "      <td>-23.6</td>\n",
       "    </tr>\n",
       "    <tr>\n",
       "      <th>Almeria</th>\n",
       "      <td>82.3</td>\n",
       "      <td>168.6</td>\n",
       "      <td>104.9</td>\n",
       "      <td>22.8</td>\n",
       "    </tr>\n",
       "    <tr>\n",
       "      <th>Cadiz</th>\n",
       "      <td>88.2</td>\n",
       "      <td>137.5</td>\n",
       "      <td>55.8</td>\n",
       "      <td>17.7</td>\n",
       "    </tr>\n",
       "    <tr>\n",
       "      <th>Cordoba</th>\n",
       "      <td>115.4</td>\n",
       "      <td>111.2</td>\n",
       "      <td>-3.6</td>\n",
       "      <td>24.6</td>\n",
       "    </tr>\n",
       "    <tr>\n",
       "      <th>...</th>\n",
       "      <td>...</td>\n",
       "      <td>...</td>\n",
       "      <td>...</td>\n",
       "      <td>...</td>\n",
       "    </tr>\n",
       "    <tr>\n",
       "      <th>Alava</th>\n",
       "      <td>.</td>\n",
       "      <td>.</td>\n",
       "      <td>.</td>\n",
       "      <td>.</td>\n",
       "    </tr>\n",
       "    <tr>\n",
       "      <th>Guipuzcoa</th>\n",
       "      <td>.</td>\n",
       "      <td>n.s.</td>\n",
       "      <td>.</td>\n",
       "      <td>.</td>\n",
       "    </tr>\n",
       "    <tr>\n",
       "      <th>Vizcaya</th>\n",
       "      <td>n.s</td>\n",
       "      <td>n.s.</td>\n",
       "      <td>.</td>\n",
       "      <td>.</td>\n",
       "    </tr>\n",
       "    <tr>\n",
       "      <th>La Rioja</th>\n",
       "      <td>285</td>\n",
       "      <td>208.9</td>\n",
       "      <td>-26.7</td>\n",
       "      <td>.</td>\n",
       "    </tr>\n",
       "    <tr>\n",
       "      <th>Ceuta y Melilla</th>\n",
       "      <td>.</td>\n",
       "      <td>.</td>\n",
       "      <td>.</td>\n",
       "      <td>.</td>\n",
       "    </tr>\n",
       "  </tbody>\n",
       "</table>\n",
       "<p>62 rows × 4 columns</p>\n",
       "</div>"
      ],
      "text/plain": [
       "                   Primer trimestre Segundo trimestre Variacion trimestral  \\\n",
       "Comunidad Autonoma                                                           \n",
       "TOTAL NACIONAL                141.1             122.6                -13.1   \n",
       "Andalucia                     123.8                90                -27.3   \n",
       "Almeria                        82.3             168.6                104.9   \n",
       "Cadiz                          88.2             137.5                 55.8   \n",
       "Cordoba                       115.4             111.2                 -3.6   \n",
       "...                             ...               ...                  ...   \n",
       "Alava                             .                 .                    .   \n",
       "Guipuzcoa                         .              n.s.                    .   \n",
       "Vizcaya                         n.s              n.s.                    .   \n",
       "La Rioja                        285             208.9                -26.7   \n",
       "Ceuta y Melilla                   .                 .                    .   \n",
       "\n",
       "                   Variacion interanual  \n",
       "Comunidad Autonoma                       \n",
       "TOTAL NACIONAL                      5.4  \n",
       "Andalucia                         -23.6  \n",
       "Almeria                            22.8  \n",
       "Cadiz                              17.7  \n",
       "Cordoba                            24.6  \n",
       "...                                 ...  \n",
       "Alava                                 .  \n",
       "Guipuzcoa                             .  \n",
       "Vizcaya                               .  \n",
       "La Rioja                              .  \n",
       "Ceuta y Melilla                       .  \n",
       "\n",
       "[62 rows x 4 columns]"
      ]
     },
     "execution_count": 11,
     "metadata": {},
     "output_type": "execute_result"
    }
   ],
   "source": [
    "df_hab1 = df_hab1.replace(\",\", \".\", regex=True)\n",
    "df_hab1"
   ]
  },
  {
   "cell_type": "code",
   "execution_count": 12,
   "metadata": {},
   "outputs": [
    {
     "name": "stdout",
     "output_type": "stream",
     "text": [
      "<class 'pandas.core.frame.DataFrame'>\n",
      "Index: 62 entries, TOTAL NACIONAL to Ceuta y Melilla\n",
      "Data columns (total 4 columns):\n",
      " #   Column                Non-Null Count  Dtype  \n",
      "---  ------                --------------  -----  \n",
      " 0   Primer trimestre      62 non-null     object \n",
      " 1   Segundo trimestre     48 non-null     float64\n",
      " 2   Variacion trimestral  62 non-null     object \n",
      " 3   Variacion interanual  62 non-null     object \n",
      "dtypes: float64(1), object(3)\n",
      "memory usage: 2.4+ KB\n"
     ]
    }
   ],
   "source": [
    "#Como sólo vamos a necesitar la columna \"seguno trimestre\" pasámos únicamente esta a float\n",
    "df_hab1[\"Segundo trimestre\"] = pd.to_numeric(df_hab1[\"Segundo trimestre\"], errors=\"coerce\")\n",
    "df_hab1.info()"
   ]
  },
  {
   "cell_type": "markdown",
   "metadata": {},
   "source": [
    "### 2.3 Creamos un DF con sólo los datos con los que vamos a trabajar"
   ]
  },
  {
   "cell_type": "code",
   "execution_count": 13,
   "metadata": {},
   "outputs": [
    {
     "data": {
      "text/html": [
       "<div>\n",
       "<style scoped>\n",
       "    .dataframe tbody tr th:only-of-type {\n",
       "        vertical-align: middle;\n",
       "    }\n",
       "\n",
       "    .dataframe tbody tr th {\n",
       "        vertical-align: top;\n",
       "    }\n",
       "\n",
       "    .dataframe thead th {\n",
       "        text-align: right;\n",
       "    }\n",
       "</style>\n",
       "<table border=\"1\" class=\"dataframe\">\n",
       "  <thead>\n",
       "    <tr style=\"text-align: right;\">\n",
       "      <th></th>\n",
       "      <th>Segundo trimestre</th>\n",
       "    </tr>\n",
       "    <tr>\n",
       "      <th>Comunidad Autonoma</th>\n",
       "      <th></th>\n",
       "    </tr>\n",
       "  </thead>\n",
       "  <tbody>\n",
       "    <tr>\n",
       "      <th>Cantabria</th>\n",
       "      <td>31.2</td>\n",
       "    </tr>\n",
       "    <tr>\n",
       "      <th>Galicia</th>\n",
       "      <td>65.3</td>\n",
       "    </tr>\n",
       "    <tr>\n",
       "      <th>Comunidad Foral de Navarra</th>\n",
       "      <td>72.8</td>\n",
       "    </tr>\n",
       "    <tr>\n",
       "      <th>Andalucia</th>\n",
       "      <td>90.0</td>\n",
       "    </tr>\n",
       "    <tr>\n",
       "      <th>Castilla La Mancha</th>\n",
       "      <td>91.2</td>\n",
       "    </tr>\n",
       "    <tr>\n",
       "      <th>Asturias</th>\n",
       "      <td>100.0</td>\n",
       "    </tr>\n",
       "    <tr>\n",
       "      <th>Aragon</th>\n",
       "      <td>102.1</td>\n",
       "    </tr>\n",
       "    <tr>\n",
       "      <th>Castilla y Leon</th>\n",
       "      <td>108.3</td>\n",
       "    </tr>\n",
       "    <tr>\n",
       "      <th>Extremadura</th>\n",
       "      <td>111.0</td>\n",
       "    </tr>\n",
       "    <tr>\n",
       "      <th>Region de Murcia</th>\n",
       "      <td>114.7</td>\n",
       "    </tr>\n",
       "    <tr>\n",
       "      <th>Pais Vasco</th>\n",
       "      <td>125.0</td>\n",
       "    </tr>\n",
       "    <tr>\n",
       "      <th>Cataluña</th>\n",
       "      <td>144.1</td>\n",
       "    </tr>\n",
       "    <tr>\n",
       "      <th>Comunidad de Madrid</th>\n",
       "      <td>150.7</td>\n",
       "    </tr>\n",
       "    <tr>\n",
       "      <th>Comunitat Valenciana</th>\n",
       "      <td>158.7</td>\n",
       "    </tr>\n",
       "    <tr>\n",
       "      <th>Canarias</th>\n",
       "      <td>205.5</td>\n",
       "    </tr>\n",
       "    <tr>\n",
       "      <th>La Rioja</th>\n",
       "      <td>208.9</td>\n",
       "    </tr>\n",
       "    <tr>\n",
       "      <th>Baleares</th>\n",
       "      <td>240.1</td>\n",
       "    </tr>\n",
       "  </tbody>\n",
       "</table>\n",
       "</div>"
      ],
      "text/plain": [
       "                            Segundo trimestre\n",
       "Comunidad Autonoma                           \n",
       "Cantabria                                31.2\n",
       "Galicia                                  65.3\n",
       "Comunidad Foral de Navarra               72.8\n",
       "Andalucia                                90.0\n",
       "Castilla La Mancha                       91.2\n",
       "Asturias                                100.0\n",
       "Aragon                                  102.1\n",
       "Castilla y Leon                         108.3\n",
       "Extremadura                             111.0\n",
       "Region de Murcia                        114.7\n",
       "Pais Vasco                              125.0\n",
       "Cataluña                                144.1\n",
       "Comunidad de Madrid                     150.7\n",
       "Comunitat Valenciana                    158.7\n",
       "Canarias                                205.5\n",
       "La Rioja                                208.9\n",
       "Baleares                                240.1"
      ]
     },
     "execution_count": 13,
     "metadata": {},
     "output_type": "execute_result"
    }
   ],
   "source": [
    "df_hab1 = df_hab1.loc[[\"Andalucia\", \"Aragon\",\"Asturias\", \"Baleares\",\"Canarias\", \"Cantabria\", \"Castilla y Leon\", \"Castilla La Mancha\", \"Cataluña\", \"Comunitat Valenciana\", \"Extremadura\", \"Galicia\", \"Comunidad de Madrid\", \"Region de Murcia\", \"Comunidad Foral de Navarra\", \"Pais Vasco\", \"La Rioja\"], [\"Segundo trimestre\"]]\n",
    "\n",
    "comunidad_auto_hab = df_hab1.sort_values(by=\"Segundo trimestre\")\n",
    "comunidad_auto_hab"
   ]
  },
  {
   "cell_type": "code",
   "execution_count": 14,
   "metadata": {},
   "outputs": [
    {
     "data": {
      "text/html": [
       "<div>\n",
       "<style scoped>\n",
       "    .dataframe tbody tr th:only-of-type {\n",
       "        vertical-align: middle;\n",
       "    }\n",
       "\n",
       "    .dataframe tbody tr th {\n",
       "        vertical-align: top;\n",
       "    }\n",
       "\n",
       "    .dataframe thead th {\n",
       "        text-align: right;\n",
       "    }\n",
       "</style>\n",
       "<table border=\"1\" class=\"dataframe\">\n",
       "  <thead>\n",
       "    <tr style=\"text-align: right;\">\n",
       "      <th></th>\n",
       "      <th>Comunidad Autonoma</th>\n",
       "      <th>Segundo trimestre</th>\n",
       "    </tr>\n",
       "  </thead>\n",
       "  <tbody>\n",
       "    <tr>\n",
       "      <th>0</th>\n",
       "      <td>Cantabria</td>\n",
       "      <td>31.2</td>\n",
       "    </tr>\n",
       "    <tr>\n",
       "      <th>1</th>\n",
       "      <td>Galicia</td>\n",
       "      <td>65.3</td>\n",
       "    </tr>\n",
       "    <tr>\n",
       "      <th>2</th>\n",
       "      <td>Comunidad Foral de Navarra</td>\n",
       "      <td>72.8</td>\n",
       "    </tr>\n",
       "    <tr>\n",
       "      <th>3</th>\n",
       "      <td>Andalucia</td>\n",
       "      <td>90.0</td>\n",
       "    </tr>\n",
       "    <tr>\n",
       "      <th>4</th>\n",
       "      <td>Castilla La Mancha</td>\n",
       "      <td>91.2</td>\n",
       "    </tr>\n",
       "    <tr>\n",
       "      <th>5</th>\n",
       "      <td>Asturias</td>\n",
       "      <td>100.0</td>\n",
       "    </tr>\n",
       "    <tr>\n",
       "      <th>6</th>\n",
       "      <td>Aragon</td>\n",
       "      <td>102.1</td>\n",
       "    </tr>\n",
       "    <tr>\n",
       "      <th>7</th>\n",
       "      <td>Castilla y Leon</td>\n",
       "      <td>108.3</td>\n",
       "    </tr>\n",
       "    <tr>\n",
       "      <th>8</th>\n",
       "      <td>Extremadura</td>\n",
       "      <td>111.0</td>\n",
       "    </tr>\n",
       "    <tr>\n",
       "      <th>9</th>\n",
       "      <td>Region de Murcia</td>\n",
       "      <td>114.7</td>\n",
       "    </tr>\n",
       "    <tr>\n",
       "      <th>10</th>\n",
       "      <td>Pais Vasco</td>\n",
       "      <td>125.0</td>\n",
       "    </tr>\n",
       "    <tr>\n",
       "      <th>11</th>\n",
       "      <td>Cataluña</td>\n",
       "      <td>144.1</td>\n",
       "    </tr>\n",
       "    <tr>\n",
       "      <th>12</th>\n",
       "      <td>Comunidad de Madrid</td>\n",
       "      <td>150.7</td>\n",
       "    </tr>\n",
       "    <tr>\n",
       "      <th>13</th>\n",
       "      <td>Comunitat Valenciana</td>\n",
       "      <td>158.7</td>\n",
       "    </tr>\n",
       "    <tr>\n",
       "      <th>14</th>\n",
       "      <td>Canarias</td>\n",
       "      <td>205.5</td>\n",
       "    </tr>\n",
       "    <tr>\n",
       "      <th>15</th>\n",
       "      <td>La Rioja</td>\n",
       "      <td>208.9</td>\n",
       "    </tr>\n",
       "    <tr>\n",
       "      <th>16</th>\n",
       "      <td>Baleares</td>\n",
       "      <td>240.1</td>\n",
       "    </tr>\n",
       "  </tbody>\n",
       "</table>\n",
       "</div>"
      ],
      "text/plain": [
       "            Comunidad Autonoma  Segundo trimestre\n",
       "0                    Cantabria               31.2\n",
       "1                      Galicia               65.3\n",
       "2   Comunidad Foral de Navarra               72.8\n",
       "3                    Andalucia               90.0\n",
       "4           Castilla La Mancha               91.2\n",
       "5                     Asturias              100.0\n",
       "6                       Aragon              102.1\n",
       "7              Castilla y Leon              108.3\n",
       "8                  Extremadura              111.0\n",
       "9             Region de Murcia              114.7\n",
       "10                  Pais Vasco              125.0\n",
       "11                    Cataluña              144.1\n",
       "12         Comunidad de Madrid              150.7\n",
       "13        Comunitat Valenciana              158.7\n",
       "14                    Canarias              205.5\n",
       "15                    La Rioja              208.9\n",
       "16                    Baleares              240.1"
      ]
     },
     "execution_count": 14,
     "metadata": {},
     "output_type": "execute_result"
    }
   ],
   "source": [
    "df2 = comunidad_auto_hab.reset_index()\n",
    "df2"
   ]
  },
  {
   "cell_type": "markdown",
   "metadata": {},
   "source": [
    "### 2.4 Creación de gráficas"
   ]
  },
  {
   "cell_type": "code",
   "execution_count": 15,
   "metadata": {},
   "outputs": [
    {
     "data": {
      "application/vnd.plotly.v1+json": {
       "config": {
        "plotlyServerURL": "https://plot.ly"
       },
       "data": [
        {
         "marker": {
          "color": "orange"
         },
         "type": "bar",
         "x": [
          "Cantabria",
          "Galicia",
          "Comunidad Foral de Navarra",
          "Andalucia",
          "Castilla La Mancha",
          "Asturias",
          "Aragon",
          "Castilla y Leon",
          "Extremadura",
          "Region de Murcia",
          "Pais Vasco",
          "Cataluña",
          "Comunidad de Madrid",
          "Comunitat Valenciana",
          "Canarias",
          "La Rioja",
          "Baleares"
         ],
         "y": [
          31.2,
          65.3,
          72.8,
          90,
          91.2,
          100,
          102.1,
          108.3,
          111,
          114.7,
          125,
          144.1,
          150.7,
          158.7,
          205.5,
          208.9,
          240.1
         ]
        }
       ],
       "layout": {
        "barmode": "group",
        "template": {
         "data": {
          "bar": [
           {
            "error_x": {
             "color": "#2a3f5f"
            },
            "error_y": {
             "color": "#2a3f5f"
            },
            "marker": {
             "line": {
              "color": "#E5ECF6",
              "width": 0.5
             },
             "pattern": {
              "fillmode": "overlay",
              "size": 10,
              "solidity": 0.2
             }
            },
            "type": "bar"
           }
          ],
          "barpolar": [
           {
            "marker": {
             "line": {
              "color": "#E5ECF6",
              "width": 0.5
             },
             "pattern": {
              "fillmode": "overlay",
              "size": 10,
              "solidity": 0.2
             }
            },
            "type": "barpolar"
           }
          ],
          "carpet": [
           {
            "aaxis": {
             "endlinecolor": "#2a3f5f",
             "gridcolor": "white",
             "linecolor": "white",
             "minorgridcolor": "white",
             "startlinecolor": "#2a3f5f"
            },
            "baxis": {
             "endlinecolor": "#2a3f5f",
             "gridcolor": "white",
             "linecolor": "white",
             "minorgridcolor": "white",
             "startlinecolor": "#2a3f5f"
            },
            "type": "carpet"
           }
          ],
          "choropleth": [
           {
            "colorbar": {
             "outlinewidth": 0,
             "ticks": ""
            },
            "type": "choropleth"
           }
          ],
          "contour": [
           {
            "colorbar": {
             "outlinewidth": 0,
             "ticks": ""
            },
            "colorscale": [
             [
              0,
              "#0d0887"
             ],
             [
              0.1111111111111111,
              "#46039f"
             ],
             [
              0.2222222222222222,
              "#7201a8"
             ],
             [
              0.3333333333333333,
              "#9c179e"
             ],
             [
              0.4444444444444444,
              "#bd3786"
             ],
             [
              0.5555555555555556,
              "#d8576b"
             ],
             [
              0.6666666666666666,
              "#ed7953"
             ],
             [
              0.7777777777777778,
              "#fb9f3a"
             ],
             [
              0.8888888888888888,
              "#fdca26"
             ],
             [
              1,
              "#f0f921"
             ]
            ],
            "type": "contour"
           }
          ],
          "contourcarpet": [
           {
            "colorbar": {
             "outlinewidth": 0,
             "ticks": ""
            },
            "type": "contourcarpet"
           }
          ],
          "heatmap": [
           {
            "colorbar": {
             "outlinewidth": 0,
             "ticks": ""
            },
            "colorscale": [
             [
              0,
              "#0d0887"
             ],
             [
              0.1111111111111111,
              "#46039f"
             ],
             [
              0.2222222222222222,
              "#7201a8"
             ],
             [
              0.3333333333333333,
              "#9c179e"
             ],
             [
              0.4444444444444444,
              "#bd3786"
             ],
             [
              0.5555555555555556,
              "#d8576b"
             ],
             [
              0.6666666666666666,
              "#ed7953"
             ],
             [
              0.7777777777777778,
              "#fb9f3a"
             ],
             [
              0.8888888888888888,
              "#fdca26"
             ],
             [
              1,
              "#f0f921"
             ]
            ],
            "type": "heatmap"
           }
          ],
          "heatmapgl": [
           {
            "colorbar": {
             "outlinewidth": 0,
             "ticks": ""
            },
            "colorscale": [
             [
              0,
              "#0d0887"
             ],
             [
              0.1111111111111111,
              "#46039f"
             ],
             [
              0.2222222222222222,
              "#7201a8"
             ],
             [
              0.3333333333333333,
              "#9c179e"
             ],
             [
              0.4444444444444444,
              "#bd3786"
             ],
             [
              0.5555555555555556,
              "#d8576b"
             ],
             [
              0.6666666666666666,
              "#ed7953"
             ],
             [
              0.7777777777777778,
              "#fb9f3a"
             ],
             [
              0.8888888888888888,
              "#fdca26"
             ],
             [
              1,
              "#f0f921"
             ]
            ],
            "type": "heatmapgl"
           }
          ],
          "histogram": [
           {
            "marker": {
             "pattern": {
              "fillmode": "overlay",
              "size": 10,
              "solidity": 0.2
             }
            },
            "type": "histogram"
           }
          ],
          "histogram2d": [
           {
            "colorbar": {
             "outlinewidth": 0,
             "ticks": ""
            },
            "colorscale": [
             [
              0,
              "#0d0887"
             ],
             [
              0.1111111111111111,
              "#46039f"
             ],
             [
              0.2222222222222222,
              "#7201a8"
             ],
             [
              0.3333333333333333,
              "#9c179e"
             ],
             [
              0.4444444444444444,
              "#bd3786"
             ],
             [
              0.5555555555555556,
              "#d8576b"
             ],
             [
              0.6666666666666666,
              "#ed7953"
             ],
             [
              0.7777777777777778,
              "#fb9f3a"
             ],
             [
              0.8888888888888888,
              "#fdca26"
             ],
             [
              1,
              "#f0f921"
             ]
            ],
            "type": "histogram2d"
           }
          ],
          "histogram2dcontour": [
           {
            "colorbar": {
             "outlinewidth": 0,
             "ticks": ""
            },
            "colorscale": [
             [
              0,
              "#0d0887"
             ],
             [
              0.1111111111111111,
              "#46039f"
             ],
             [
              0.2222222222222222,
              "#7201a8"
             ],
             [
              0.3333333333333333,
              "#9c179e"
             ],
             [
              0.4444444444444444,
              "#bd3786"
             ],
             [
              0.5555555555555556,
              "#d8576b"
             ],
             [
              0.6666666666666666,
              "#ed7953"
             ],
             [
              0.7777777777777778,
              "#fb9f3a"
             ],
             [
              0.8888888888888888,
              "#fdca26"
             ],
             [
              1,
              "#f0f921"
             ]
            ],
            "type": "histogram2dcontour"
           }
          ],
          "mesh3d": [
           {
            "colorbar": {
             "outlinewidth": 0,
             "ticks": ""
            },
            "type": "mesh3d"
           }
          ],
          "parcoords": [
           {
            "line": {
             "colorbar": {
              "outlinewidth": 0,
              "ticks": ""
             }
            },
            "type": "parcoords"
           }
          ],
          "pie": [
           {
            "automargin": true,
            "type": "pie"
           }
          ],
          "scatter": [
           {
            "fillpattern": {
             "fillmode": "overlay",
             "size": 10,
             "solidity": 0.2
            },
            "type": "scatter"
           }
          ],
          "scatter3d": [
           {
            "line": {
             "colorbar": {
              "outlinewidth": 0,
              "ticks": ""
             }
            },
            "marker": {
             "colorbar": {
              "outlinewidth": 0,
              "ticks": ""
             }
            },
            "type": "scatter3d"
           }
          ],
          "scattercarpet": [
           {
            "marker": {
             "colorbar": {
              "outlinewidth": 0,
              "ticks": ""
             }
            },
            "type": "scattercarpet"
           }
          ],
          "scattergeo": [
           {
            "marker": {
             "colorbar": {
              "outlinewidth": 0,
              "ticks": ""
             }
            },
            "type": "scattergeo"
           }
          ],
          "scattergl": [
           {
            "marker": {
             "colorbar": {
              "outlinewidth": 0,
              "ticks": ""
             }
            },
            "type": "scattergl"
           }
          ],
          "scattermapbox": [
           {
            "marker": {
             "colorbar": {
              "outlinewidth": 0,
              "ticks": ""
             }
            },
            "type": "scattermapbox"
           }
          ],
          "scatterpolar": [
           {
            "marker": {
             "colorbar": {
              "outlinewidth": 0,
              "ticks": ""
             }
            },
            "type": "scatterpolar"
           }
          ],
          "scatterpolargl": [
           {
            "marker": {
             "colorbar": {
              "outlinewidth": 0,
              "ticks": ""
             }
            },
            "type": "scatterpolargl"
           }
          ],
          "scatterternary": [
           {
            "marker": {
             "colorbar": {
              "outlinewidth": 0,
              "ticks": ""
             }
            },
            "type": "scatterternary"
           }
          ],
          "surface": [
           {
            "colorbar": {
             "outlinewidth": 0,
             "ticks": ""
            },
            "colorscale": [
             [
              0,
              "#0d0887"
             ],
             [
              0.1111111111111111,
              "#46039f"
             ],
             [
              0.2222222222222222,
              "#7201a8"
             ],
             [
              0.3333333333333333,
              "#9c179e"
             ],
             [
              0.4444444444444444,
              "#bd3786"
             ],
             [
              0.5555555555555556,
              "#d8576b"
             ],
             [
              0.6666666666666666,
              "#ed7953"
             ],
             [
              0.7777777777777778,
              "#fb9f3a"
             ],
             [
              0.8888888888888888,
              "#fdca26"
             ],
             [
              1,
              "#f0f921"
             ]
            ],
            "type": "surface"
           }
          ],
          "table": [
           {
            "cells": {
             "fill": {
              "color": "#EBF0F8"
             },
             "line": {
              "color": "white"
             }
            },
            "header": {
             "fill": {
              "color": "#C8D4E3"
             },
             "line": {
              "color": "white"
             }
            },
            "type": "table"
           }
          ]
         },
         "layout": {
          "annotationdefaults": {
           "arrowcolor": "#2a3f5f",
           "arrowhead": 0,
           "arrowwidth": 1
          },
          "autotypenumbers": "strict",
          "coloraxis": {
           "colorbar": {
            "outlinewidth": 0,
            "ticks": ""
           }
          },
          "colorscale": {
           "diverging": [
            [
             0,
             "#8e0152"
            ],
            [
             0.1,
             "#c51b7d"
            ],
            [
             0.2,
             "#de77ae"
            ],
            [
             0.3,
             "#f1b6da"
            ],
            [
             0.4,
             "#fde0ef"
            ],
            [
             0.5,
             "#f7f7f7"
            ],
            [
             0.6,
             "#e6f5d0"
            ],
            [
             0.7,
             "#b8e186"
            ],
            [
             0.8,
             "#7fbc41"
            ],
            [
             0.9,
             "#4d9221"
            ],
            [
             1,
             "#276419"
            ]
           ],
           "sequential": [
            [
             0,
             "#0d0887"
            ],
            [
             0.1111111111111111,
             "#46039f"
            ],
            [
             0.2222222222222222,
             "#7201a8"
            ],
            [
             0.3333333333333333,
             "#9c179e"
            ],
            [
             0.4444444444444444,
             "#bd3786"
            ],
            [
             0.5555555555555556,
             "#d8576b"
            ],
            [
             0.6666666666666666,
             "#ed7953"
            ],
            [
             0.7777777777777778,
             "#fb9f3a"
            ],
            [
             0.8888888888888888,
             "#fdca26"
            ],
            [
             1,
             "#f0f921"
            ]
           ],
           "sequentialminus": [
            [
             0,
             "#0d0887"
            ],
            [
             0.1111111111111111,
             "#46039f"
            ],
            [
             0.2222222222222222,
             "#7201a8"
            ],
            [
             0.3333333333333333,
             "#9c179e"
            ],
            [
             0.4444444444444444,
             "#bd3786"
            ],
            [
             0.5555555555555556,
             "#d8576b"
            ],
            [
             0.6666666666666666,
             "#ed7953"
            ],
            [
             0.7777777777777778,
             "#fb9f3a"
            ],
            [
             0.8888888888888888,
             "#fdca26"
            ],
            [
             1,
             "#f0f921"
            ]
           ]
          },
          "colorway": [
           "#636efa",
           "#EF553B",
           "#00cc96",
           "#ab63fa",
           "#FFA15A",
           "#19d3f3",
           "#FF6692",
           "#B6E880",
           "#FF97FF",
           "#FECB52"
          ],
          "font": {
           "color": "#2a3f5f"
          },
          "geo": {
           "bgcolor": "white",
           "lakecolor": "white",
           "landcolor": "#E5ECF6",
           "showlakes": true,
           "showland": true,
           "subunitcolor": "white"
          },
          "hoverlabel": {
           "align": "left"
          },
          "hovermode": "closest",
          "mapbox": {
           "style": "light"
          },
          "paper_bgcolor": "white",
          "plot_bgcolor": "#E5ECF6",
          "polar": {
           "angularaxis": {
            "gridcolor": "white",
            "linecolor": "white",
            "ticks": ""
           },
           "bgcolor": "#E5ECF6",
           "radialaxis": {
            "gridcolor": "white",
            "linecolor": "white",
            "ticks": ""
           }
          },
          "scene": {
           "xaxis": {
            "backgroundcolor": "#E5ECF6",
            "gridcolor": "white",
            "gridwidth": 2,
            "linecolor": "white",
            "showbackground": true,
            "ticks": "",
            "zerolinecolor": "white"
           },
           "yaxis": {
            "backgroundcolor": "#E5ECF6",
            "gridcolor": "white",
            "gridwidth": 2,
            "linecolor": "white",
            "showbackground": true,
            "ticks": "",
            "zerolinecolor": "white"
           },
           "zaxis": {
            "backgroundcolor": "#E5ECF6",
            "gridcolor": "white",
            "gridwidth": 2,
            "linecolor": "white",
            "showbackground": true,
            "ticks": "",
            "zerolinecolor": "white"
           }
          },
          "shapedefaults": {
           "line": {
            "color": "#2a3f5f"
           }
          },
          "ternary": {
           "aaxis": {
            "gridcolor": "white",
            "linecolor": "white",
            "ticks": ""
           },
           "baxis": {
            "gridcolor": "white",
            "linecolor": "white",
            "ticks": ""
           },
           "bgcolor": "#E5ECF6",
           "caxis": {
            "gridcolor": "white",
            "linecolor": "white",
            "ticks": ""
           }
          },
          "title": {
           "x": 0.05
          },
          "xaxis": {
           "automargin": true,
           "gridcolor": "white",
           "linecolor": "white",
           "ticks": "",
           "title": {
            "standoff": 15
           },
           "zerolinecolor": "white",
           "zerolinewidth": 2
          },
          "yaxis": {
           "automargin": true,
           "gridcolor": "white",
           "linecolor": "white",
           "ticks": "",
           "title": {
            "standoff": 15
           },
           "zerolinecolor": "white",
           "zerolinewidth": 2
          }
         }
        },
        "title": {
         "text": "Precio medio por m² de los municipios de las Comunidades Autónomas entre 10000 y 50000 habitantes"
        },
        "xaxis": {
         "title": {
          "text": "Comunidades Autónomas"
         }
        },
        "yaxis": {
         "title": {
          "text": "Precio medio por m²"
         }
        }
       }
      }
     },
     "metadata": {},
     "output_type": "display_data"
    }
   ],
   "source": [
    "#Visualizamos los datos\n",
    "\n",
    "fig = go.Figure()\n",
    "\n",
    "fig.add_trace(go.Bar(x=df2[\"Comunidad Autonoma\"], y=df2[\"Segundo trimestre\"], marker_color=\"orange\"))\n",
    "\n",
    "# Configura el layout\n",
    "fig.update_layout(title=\"Precio medio por m² de los municipios de las Comunidades Autónomas entre 10000 y 50000 habitantes\",\n",
    "                  xaxis_title=\"Comunidades Autónomas\",\n",
    "                  yaxis_title=\"Precio medio por m²\",\n",
    "                  barmode=\"group\")\n",
    "\n",
    "fig.show()"
   ]
  },
  {
   "cell_type": "markdown",
   "metadata": {},
   "source": [
    "- Gráfico 2. Precio medio por m² de los municipios de las Comunidades Autónomas entre 10000 y 50000 habitantes"
   ]
  },
  {
   "cell_type": "markdown",
   "metadata": {},
   "source": [
    "### 2.5 Conclusión por Comunidades Autónomas de municipios de 10000 y 50000 habitantes"
   ]
  },
  {
   "cell_type": "markdown",
   "metadata": {},
   "source": [
    "Del siguiente dataframe podemos observar que el precio medio por m² de las poblaciones con habitantes de entre 5000 y 10000 varia mucho en cuanto a las Comunidades Autónomas. Las zonas más económicas son Cantabria (31,2 euros/m²), Galicia (65.3 euros/m²), Comunidad de Navarra (72.8 euros/m²) y Andalucia (90 euros/m²). Mientras que las más caras siguen siendo Baleares (240 euros/m²), se suma La Rioja (208 euros/m²), Canarias (205.5 euros/m²) y la Comunidad Valenciana (158.7 euros/m²). "
   ]
  },
  {
   "cell_type": "markdown",
   "metadata": {},
   "source": [
    "### 3. COMPARACIÓN DE LOS DATOS OBTENIDOS"
   ]
  },
  {
   "cell_type": "markdown",
   "metadata": {},
   "source": [
    "Ya sabemos cuánto es el precio por m² de las ciudades y de los municipios, ahora analizaremos la diferencia que hay entre ambas y para ello, nos centraemos en las Comunidades Autónomas en las que la diferencia sea siginificativa. Esto nos indicará en qué Comunidades Autónomas caro vivir en las ciudades y que por ello, las personas prefieren vivir en la periféria de las grandes ciudades. "
   ]
  },
  {
   "cell_type": "markdown",
   "metadata": {},
   "source": [
    "### 3.1 Creación de gráficos"
   ]
  },
  {
   "cell_type": "code",
   "execution_count": 17,
   "metadata": {},
   "outputs": [
    {
     "data": {
      "application/vnd.plotly.v1+json": {
       "config": {
        "plotlyServerURL": "https://plot.ly"
       },
       "data": [
        {
         "name": "Precio medio por m² de las Comunidades Autónomas",
         "type": "bar",
         "x": [
          "Castilla y Leon",
          "Castilla La Mancha",
          "Extremadura",
          "Galicia",
          "Cantabria",
          "Aragon",
          "Asturias",
          "Comunidad Foral de Navarra",
          "Region de Murcia",
          "Andalucia",
          "Cataluña",
          "La Rioja",
          "Pais Vasco",
          "Comunitat Valenciana",
          "Canarias",
          "Comunidad de Madrid",
          "Baleares"
         ],
         "y": [
          81.6,
          100.4,
          109.3,
          112.2,
          122.5,
          134.2,
          135.1,
          136,
          144.2,
          164.8,
          174.7,
          180.5,
          192.6,
          202.3,
          243.6,
          269.3,
          340.5
         ]
        },
        {
         "name": "Precio medio del m² en municipios de 10000 y 50000 habitantes ",
         "type": "bar",
         "x": [
          "Cantabria",
          "Galicia",
          "Comunidad Foral de Navarra",
          "Andalucia",
          "Castilla La Mancha",
          "Asturias",
          "Aragon",
          "Castilla y Leon",
          "Extremadura",
          "Region de Murcia",
          "Pais Vasco",
          "Cataluña",
          "Comunidad de Madrid",
          "Comunitat Valenciana",
          "Canarias",
          "La Rioja",
          "Baleares"
         ],
         "y": [
          31.2,
          65.3,
          72.8,
          90,
          91.2,
          100,
          102.1,
          108.3,
          111,
          114.7,
          125,
          144.1,
          150.7,
          158.7,
          205.5,
          208.9,
          240.1
         ]
        }
       ],
       "layout": {
        "barmode": "group",
        "template": {
         "data": {
          "bar": [
           {
            "error_x": {
             "color": "#2a3f5f"
            },
            "error_y": {
             "color": "#2a3f5f"
            },
            "marker": {
             "line": {
              "color": "#E5ECF6",
              "width": 0.5
             },
             "pattern": {
              "fillmode": "overlay",
              "size": 10,
              "solidity": 0.2
             }
            },
            "type": "bar"
           }
          ],
          "barpolar": [
           {
            "marker": {
             "line": {
              "color": "#E5ECF6",
              "width": 0.5
             },
             "pattern": {
              "fillmode": "overlay",
              "size": 10,
              "solidity": 0.2
             }
            },
            "type": "barpolar"
           }
          ],
          "carpet": [
           {
            "aaxis": {
             "endlinecolor": "#2a3f5f",
             "gridcolor": "white",
             "linecolor": "white",
             "minorgridcolor": "white",
             "startlinecolor": "#2a3f5f"
            },
            "baxis": {
             "endlinecolor": "#2a3f5f",
             "gridcolor": "white",
             "linecolor": "white",
             "minorgridcolor": "white",
             "startlinecolor": "#2a3f5f"
            },
            "type": "carpet"
           }
          ],
          "choropleth": [
           {
            "colorbar": {
             "outlinewidth": 0,
             "ticks": ""
            },
            "type": "choropleth"
           }
          ],
          "contour": [
           {
            "colorbar": {
             "outlinewidth": 0,
             "ticks": ""
            },
            "colorscale": [
             [
              0,
              "#0d0887"
             ],
             [
              0.1111111111111111,
              "#46039f"
             ],
             [
              0.2222222222222222,
              "#7201a8"
             ],
             [
              0.3333333333333333,
              "#9c179e"
             ],
             [
              0.4444444444444444,
              "#bd3786"
             ],
             [
              0.5555555555555556,
              "#d8576b"
             ],
             [
              0.6666666666666666,
              "#ed7953"
             ],
             [
              0.7777777777777778,
              "#fb9f3a"
             ],
             [
              0.8888888888888888,
              "#fdca26"
             ],
             [
              1,
              "#f0f921"
             ]
            ],
            "type": "contour"
           }
          ],
          "contourcarpet": [
           {
            "colorbar": {
             "outlinewidth": 0,
             "ticks": ""
            },
            "type": "contourcarpet"
           }
          ],
          "heatmap": [
           {
            "colorbar": {
             "outlinewidth": 0,
             "ticks": ""
            },
            "colorscale": [
             [
              0,
              "#0d0887"
             ],
             [
              0.1111111111111111,
              "#46039f"
             ],
             [
              0.2222222222222222,
              "#7201a8"
             ],
             [
              0.3333333333333333,
              "#9c179e"
             ],
             [
              0.4444444444444444,
              "#bd3786"
             ],
             [
              0.5555555555555556,
              "#d8576b"
             ],
             [
              0.6666666666666666,
              "#ed7953"
             ],
             [
              0.7777777777777778,
              "#fb9f3a"
             ],
             [
              0.8888888888888888,
              "#fdca26"
             ],
             [
              1,
              "#f0f921"
             ]
            ],
            "type": "heatmap"
           }
          ],
          "heatmapgl": [
           {
            "colorbar": {
             "outlinewidth": 0,
             "ticks": ""
            },
            "colorscale": [
             [
              0,
              "#0d0887"
             ],
             [
              0.1111111111111111,
              "#46039f"
             ],
             [
              0.2222222222222222,
              "#7201a8"
             ],
             [
              0.3333333333333333,
              "#9c179e"
             ],
             [
              0.4444444444444444,
              "#bd3786"
             ],
             [
              0.5555555555555556,
              "#d8576b"
             ],
             [
              0.6666666666666666,
              "#ed7953"
             ],
             [
              0.7777777777777778,
              "#fb9f3a"
             ],
             [
              0.8888888888888888,
              "#fdca26"
             ],
             [
              1,
              "#f0f921"
             ]
            ],
            "type": "heatmapgl"
           }
          ],
          "histogram": [
           {
            "marker": {
             "pattern": {
              "fillmode": "overlay",
              "size": 10,
              "solidity": 0.2
             }
            },
            "type": "histogram"
           }
          ],
          "histogram2d": [
           {
            "colorbar": {
             "outlinewidth": 0,
             "ticks": ""
            },
            "colorscale": [
             [
              0,
              "#0d0887"
             ],
             [
              0.1111111111111111,
              "#46039f"
             ],
             [
              0.2222222222222222,
              "#7201a8"
             ],
             [
              0.3333333333333333,
              "#9c179e"
             ],
             [
              0.4444444444444444,
              "#bd3786"
             ],
             [
              0.5555555555555556,
              "#d8576b"
             ],
             [
              0.6666666666666666,
              "#ed7953"
             ],
             [
              0.7777777777777778,
              "#fb9f3a"
             ],
             [
              0.8888888888888888,
              "#fdca26"
             ],
             [
              1,
              "#f0f921"
             ]
            ],
            "type": "histogram2d"
           }
          ],
          "histogram2dcontour": [
           {
            "colorbar": {
             "outlinewidth": 0,
             "ticks": ""
            },
            "colorscale": [
             [
              0,
              "#0d0887"
             ],
             [
              0.1111111111111111,
              "#46039f"
             ],
             [
              0.2222222222222222,
              "#7201a8"
             ],
             [
              0.3333333333333333,
              "#9c179e"
             ],
             [
              0.4444444444444444,
              "#bd3786"
             ],
             [
              0.5555555555555556,
              "#d8576b"
             ],
             [
              0.6666666666666666,
              "#ed7953"
             ],
             [
              0.7777777777777778,
              "#fb9f3a"
             ],
             [
              0.8888888888888888,
              "#fdca26"
             ],
             [
              1,
              "#f0f921"
             ]
            ],
            "type": "histogram2dcontour"
           }
          ],
          "mesh3d": [
           {
            "colorbar": {
             "outlinewidth": 0,
             "ticks": ""
            },
            "type": "mesh3d"
           }
          ],
          "parcoords": [
           {
            "line": {
             "colorbar": {
              "outlinewidth": 0,
              "ticks": ""
             }
            },
            "type": "parcoords"
           }
          ],
          "pie": [
           {
            "automargin": true,
            "type": "pie"
           }
          ],
          "scatter": [
           {
            "fillpattern": {
             "fillmode": "overlay",
             "size": 10,
             "solidity": 0.2
            },
            "type": "scatter"
           }
          ],
          "scatter3d": [
           {
            "line": {
             "colorbar": {
              "outlinewidth": 0,
              "ticks": ""
             }
            },
            "marker": {
             "colorbar": {
              "outlinewidth": 0,
              "ticks": ""
             }
            },
            "type": "scatter3d"
           }
          ],
          "scattercarpet": [
           {
            "marker": {
             "colorbar": {
              "outlinewidth": 0,
              "ticks": ""
             }
            },
            "type": "scattercarpet"
           }
          ],
          "scattergeo": [
           {
            "marker": {
             "colorbar": {
              "outlinewidth": 0,
              "ticks": ""
             }
            },
            "type": "scattergeo"
           }
          ],
          "scattergl": [
           {
            "marker": {
             "colorbar": {
              "outlinewidth": 0,
              "ticks": ""
             }
            },
            "type": "scattergl"
           }
          ],
          "scattermapbox": [
           {
            "marker": {
             "colorbar": {
              "outlinewidth": 0,
              "ticks": ""
             }
            },
            "type": "scattermapbox"
           }
          ],
          "scatterpolar": [
           {
            "marker": {
             "colorbar": {
              "outlinewidth": 0,
              "ticks": ""
             }
            },
            "type": "scatterpolar"
           }
          ],
          "scatterpolargl": [
           {
            "marker": {
             "colorbar": {
              "outlinewidth": 0,
              "ticks": ""
             }
            },
            "type": "scatterpolargl"
           }
          ],
          "scatterternary": [
           {
            "marker": {
             "colorbar": {
              "outlinewidth": 0,
              "ticks": ""
             }
            },
            "type": "scatterternary"
           }
          ],
          "surface": [
           {
            "colorbar": {
             "outlinewidth": 0,
             "ticks": ""
            },
            "colorscale": [
             [
              0,
              "#0d0887"
             ],
             [
              0.1111111111111111,
              "#46039f"
             ],
             [
              0.2222222222222222,
              "#7201a8"
             ],
             [
              0.3333333333333333,
              "#9c179e"
             ],
             [
              0.4444444444444444,
              "#bd3786"
             ],
             [
              0.5555555555555556,
              "#d8576b"
             ],
             [
              0.6666666666666666,
              "#ed7953"
             ],
             [
              0.7777777777777778,
              "#fb9f3a"
             ],
             [
              0.8888888888888888,
              "#fdca26"
             ],
             [
              1,
              "#f0f921"
             ]
            ],
            "type": "surface"
           }
          ],
          "table": [
           {
            "cells": {
             "fill": {
              "color": "#EBF0F8"
             },
             "line": {
              "color": "white"
             }
            },
            "header": {
             "fill": {
              "color": "#C8D4E3"
             },
             "line": {
              "color": "white"
             }
            },
            "type": "table"
           }
          ]
         },
         "layout": {
          "annotationdefaults": {
           "arrowcolor": "#2a3f5f",
           "arrowhead": 0,
           "arrowwidth": 1
          },
          "autotypenumbers": "strict",
          "coloraxis": {
           "colorbar": {
            "outlinewidth": 0,
            "ticks": ""
           }
          },
          "colorscale": {
           "diverging": [
            [
             0,
             "#8e0152"
            ],
            [
             0.1,
             "#c51b7d"
            ],
            [
             0.2,
             "#de77ae"
            ],
            [
             0.3,
             "#f1b6da"
            ],
            [
             0.4,
             "#fde0ef"
            ],
            [
             0.5,
             "#f7f7f7"
            ],
            [
             0.6,
             "#e6f5d0"
            ],
            [
             0.7,
             "#b8e186"
            ],
            [
             0.8,
             "#7fbc41"
            ],
            [
             0.9,
             "#4d9221"
            ],
            [
             1,
             "#276419"
            ]
           ],
           "sequential": [
            [
             0,
             "#0d0887"
            ],
            [
             0.1111111111111111,
             "#46039f"
            ],
            [
             0.2222222222222222,
             "#7201a8"
            ],
            [
             0.3333333333333333,
             "#9c179e"
            ],
            [
             0.4444444444444444,
             "#bd3786"
            ],
            [
             0.5555555555555556,
             "#d8576b"
            ],
            [
             0.6666666666666666,
             "#ed7953"
            ],
            [
             0.7777777777777778,
             "#fb9f3a"
            ],
            [
             0.8888888888888888,
             "#fdca26"
            ],
            [
             1,
             "#f0f921"
            ]
           ],
           "sequentialminus": [
            [
             0,
             "#0d0887"
            ],
            [
             0.1111111111111111,
             "#46039f"
            ],
            [
             0.2222222222222222,
             "#7201a8"
            ],
            [
             0.3333333333333333,
             "#9c179e"
            ],
            [
             0.4444444444444444,
             "#bd3786"
            ],
            [
             0.5555555555555556,
             "#d8576b"
            ],
            [
             0.6666666666666666,
             "#ed7953"
            ],
            [
             0.7777777777777778,
             "#fb9f3a"
            ],
            [
             0.8888888888888888,
             "#fdca26"
            ],
            [
             1,
             "#f0f921"
            ]
           ]
          },
          "colorway": [
           "#636efa",
           "#EF553B",
           "#00cc96",
           "#ab63fa",
           "#FFA15A",
           "#19d3f3",
           "#FF6692",
           "#B6E880",
           "#FF97FF",
           "#FECB52"
          ],
          "font": {
           "color": "#2a3f5f"
          },
          "geo": {
           "bgcolor": "white",
           "lakecolor": "white",
           "landcolor": "#E5ECF6",
           "showlakes": true,
           "showland": true,
           "subunitcolor": "white"
          },
          "hoverlabel": {
           "align": "left"
          },
          "hovermode": "closest",
          "mapbox": {
           "style": "light"
          },
          "paper_bgcolor": "white",
          "plot_bgcolor": "#E5ECF6",
          "polar": {
           "angularaxis": {
            "gridcolor": "white",
            "linecolor": "white",
            "ticks": ""
           },
           "bgcolor": "#E5ECF6",
           "radialaxis": {
            "gridcolor": "white",
            "linecolor": "white",
            "ticks": ""
           }
          },
          "scene": {
           "xaxis": {
            "backgroundcolor": "#E5ECF6",
            "gridcolor": "white",
            "gridwidth": 2,
            "linecolor": "white",
            "showbackground": true,
            "ticks": "",
            "zerolinecolor": "white"
           },
           "yaxis": {
            "backgroundcolor": "#E5ECF6",
            "gridcolor": "white",
            "gridwidth": 2,
            "linecolor": "white",
            "showbackground": true,
            "ticks": "",
            "zerolinecolor": "white"
           },
           "zaxis": {
            "backgroundcolor": "#E5ECF6",
            "gridcolor": "white",
            "gridwidth": 2,
            "linecolor": "white",
            "showbackground": true,
            "ticks": "",
            "zerolinecolor": "white"
           }
          },
          "shapedefaults": {
           "line": {
            "color": "#2a3f5f"
           }
          },
          "ternary": {
           "aaxis": {
            "gridcolor": "white",
            "linecolor": "white",
            "ticks": ""
           },
           "baxis": {
            "gridcolor": "white",
            "linecolor": "white",
            "ticks": ""
           },
           "bgcolor": "#E5ECF6",
           "caxis": {
            "gridcolor": "white",
            "linecolor": "white",
            "ticks": ""
           }
          },
          "title": {
           "x": 0.05
          },
          "xaxis": {
           "automargin": true,
           "gridcolor": "white",
           "linecolor": "white",
           "ticks": "",
           "title": {
            "standoff": 15
           },
           "zerolinecolor": "white",
           "zerolinewidth": 2
          },
          "yaxis": {
           "automargin": true,
           "gridcolor": "white",
           "linecolor": "white",
           "ticks": "",
           "title": {
            "standoff": 15
           },
           "zerolinecolor": "white",
           "zerolinewidth": 2
          }
         }
        },
        "title": {
         "text": "Comparación entre el precio medio por m² de las Comunidades Autónomas vs municipios de 10000 y 50000 habitantes"
        },
        "xaxis": {
         "title": {
          "text": "Comunidades Autónomas"
         }
        },
        "yaxis": {
         "title": {
          "text": "Precio medio por m² en euros"
         }
        }
       }
      }
     },
     "metadata": {},
     "output_type": "display_data"
    }
   ],
   "source": [
    "fig = go.Figure()\n",
    "\n",
    "fig.add_trace(go.Bar(x=df1[\"Comunidad Autonoma\"], y=df1[\"Segundo trimestre\"], name=\"Precio medio por m² de las Comunidades Autónomas\"))\n",
    "fig.add_trace(go.Bar(x=df2[\"Comunidad Autonoma\"], y=df2[\"Segundo trimestre\"], name= \"Precio medio del m² en municipios de 10000 y 50000 habitantes \"))\n",
    "\n",
    "# Configura el layout\n",
    "fig.update_layout(title=\"Comparación entre el precio medio por m² de las Comunidades Autónomas vs municipios de 10000 y 50000 habitantes\",\n",
    "                  xaxis_title=\"Comunidades Autónomas\",\n",
    "                  yaxis_title=\"Precio medio por m² en euros\",\n",
    "                  barmode='group')\n",
    "\n",
    "fig.show()"
   ]
  },
  {
   "cell_type": "markdown",
   "metadata": {},
   "source": [
    "- Gráfico 3. Comparación entre el precio medio por m² de las Comunidades Autónomas vs municipios de 10000 y 50000 habitantes"
   ]
  },
  {
   "cell_type": "markdown",
   "metadata": {},
   "source": [
    "### 3.2 Conclusión"
   ]
  },
  {
   "cell_type": "markdown",
   "metadata": {},
   "source": [
    "Al analizar ambos dataframes, se puede observar que el precio por metro cuadrado en las ciudades es significativamente más alto que en las áreas periféricas.\n",
    "\n",
    "Prestando especial atención a Cantabria, notamos que en las principales ciudades el precio alcanza los 122,3 euros por metro cuadrado, mientras que en las zonas periféricas se reduce a solo 31,2 euros por metro cuadrado. Un patrón similar se encuentra en Galicia, donde el precio en las ciudades es de 112,2 euros por metro cuadrado, frente a 65,3 euros en las áreas periféricas. En Navarra, la diferencia también es notable, con un costo de 136 euros por metro cuadrado en las ciudades y 72,8 euros en la periferia.\n",
    "\n",
    "Asimismo, en Andalucía, el precio en las ciudades es de 164,8 euros por metro cuadrado, en contraste con los 90 euros por metro cuadrado en los pueblos.\n",
    "\n",
    "Dicha conclusión ha sido fundamental para acotar nuestra búsqueda, por lo que, para el siguiente análisis (2_climatología) nos centraremos en las dos Comunidades Autónomas anteriormente nombradas: Cantabria, Galicia, Navarra y Andalucía. "
   ]
  }
 ],
 "metadata": {
  "kernelspec": {
   "display_name": "data_env",
   "language": "python",
   "name": "python3"
  },
  "language_info": {
   "codemirror_mode": {
    "name": "ipython",
    "version": 3
   },
   "file_extension": ".py",
   "mimetype": "text/x-python",
   "name": "python",
   "nbconvert_exporter": "python",
   "pygments_lexer": "ipython3",
   "version": "3.11.10"
  }
 },
 "nbformat": 4,
 "nbformat_minor": 2
}

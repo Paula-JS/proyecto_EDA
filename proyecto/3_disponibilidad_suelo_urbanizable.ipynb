{
 "cells": [
  {
   "cell_type": "markdown",
   "metadata": {},
   "source": [
    "## DISPONIBILIDAD DE SUELO URBANIZABLE\n",
    "\n",
    "Como bien hemos comentado anteriormente a lo que la climatología se refiere, nos centraremos en analizar la disponibilidad de suelo urbanizable en los territorios de Cantabria y Andalucía. \n",
    "\n",
    "Por lo que con ésta última parte del proyecto, concluiremos en qué zona es la indicada para constituir la empresa de nuestro cliente, en base al precio medio y la disponibilidad de suelo urbanizable. \n",
    "\n",
    "Para la obtención de datos, hemos accedido al portal inmobiliario fotocasa, del cual hemos podido filtrar por zona los terrenos disponibles, así como sus precios. "
   ]
  },
  {
   "cell_type": "code",
   "execution_count": 122,
   "metadata": {},
   "outputs": [],
   "source": [
    "from selenium.webdriver.common.keys import Keys\n",
    "from selenium import webdriver\n",
    "import pandas as pd\n",
    "import numpy as np\n",
    "from selenium.webdriver.common.by import By\n",
    "from bs4 import BeautifulSoup as bs4\n",
    "import requests\n"
   ]
  },
  {
   "cell_type": "markdown",
   "metadata": {},
   "source": [
    "## SUELO URBANIZABLE ANDALUCÍA"
   ]
  },
  {
   "cell_type": "markdown",
   "metadata": {},
   "source": [
    "PRIMERA PÁGINA"
   ]
  },
  {
   "cell_type": "code",
   "execution_count": 393,
   "metadata": {},
   "outputs": [],
   "source": [
    "headers = {\n",
    "    'User-Agent': 'Mozilla/5.0 (Windows NT 10.0; Win64; x64) AppleWebKit/537.36 (KHTML, like Gecko) Chrome/58.0.3029.110 Safari/537.3'\n",
    "}\n",
    "url = \"https://www.fotocasa.es/es/comprar/terrenos/andalucia/todas-las-zonas/l?searchArea=7153mlisfyx_nL0iswHm-lpK1qkwHz3srjB2iswHnz6vBji1nL_182Gs5y9Dshk8B5g71Pshk8BxzwrDrlg8Blmt9D3qkwHig_Lrlg8Bl2zvBrlg8B2trrD6twSrlg8Bl2zvBhpuSig_L6twS7o8Llmt9D8y8vH1qlnMj70vH617wEu_p8wBwjtvHmjvsoC-x6zfhyxmMq4ysT0v961CxwmjZjr6sO3ovgiHx55mJ17ikZpu0oNr4oz4C4rviSzqnphBqsinJ_1nmM7pmsT617wEx6jy5B_0vwEqm0szEg4_oNx6jy5Bpu0oN-96m9_D_0vwEgpiimQ4pkqIwq9lF4pkqIwq9lFkz5oNg1r3U4pkqIgq78yC0r67Bhq2mcl1ywEw-q0uB4pkqIwq9lFkz5oNvpvoNy14wE2zvsO4pkqIwq9lF5usqIhq2mc5usqIzvr7kB60swEz4g7wD5usqIwq9lFvpvoNx55mJ-8jpNx6jy5BzigsTvv7o01C617wEhpuSwp87Bzm6pCr11wEhpuSwp87Bzm6pC5t47B17ikZ5t47Bwq9lFyjtvHhpuSwp87Br11wEhpuSyp87BhpuSwp87Bwq9lFyp87B7o8Lm91pCjslvHosoqIwp87Br11wEu8-kLr11wE7qplL209uHr11wE7qplL_0vwE5t47Br11wEmy07Br11wE4x6LhpuSz628Dv91uH6twS-mryP_hk5Qpu2kL5t47Bv1r8Dx-_6d564Lm91pCz628Dmy07B564Lzm6pC564Lmy07BhpuS2vivBzm6pC2vivB32w7B6twS2vivBmy07BhpuS2vivBumuuH-h-uBm91pC2vivBumuuHtz_wP_j3Lmy07B_j3L32w7Bg1vwE_j3LvvmuH-h-uBpri4d-h-uBvvmuH_j3L00jwE6_67Doy07BgpnjL-wg8D32w7B9m4uBvvmuHmu0iL5hyvPnwj3dy50uB04_tHy50uB7h3tH357uPnt1Lou0iLnt1L109vE81wuPqrvtHy50uBhpuSlgp7Bmh5oDzm6pCmh5oDhpuSu7s7BrsxuBhpuSnt1Llgp7BhpuS02zL52w7B02zLlgp7BhpuSnt1Lu7s7Bppq7D309vE02zL50ntH02zL309vE02zLlgp7B6twS02zLill7B02zLlgp7B6twSlgp7B02zLm91pC02zLs7yLx4zpCv_-sH2mtS4_ujM2qr_R8h4pC-kn-Y7jljMrxmyqCvr-80B00-oIx17hnD00-oImw1mJo-tuB8h4pCnt1Lzzq1Q580tP2mtS02zL2mtS02zLtrvS02zL2mtSyin7BtrvS02zL2mtSpyquB2mtS59q7B2mtSj2_sP2mtS02zLyin7B9_h7D2jv29CpyquB81-sX9vosP-00vEkt0sHulnuBmt0sH9_h7Dxnj7BulnuBl3ssHulnuB2mtSlgyL0in7B9l04Fxnj7Bw-o-vE2mtSzupgXp826DksguB2mtShy8hdirx6DzzuLznj7B1-8tB7x76B6pwL7x76Bkrx6D411rHkpm6DtrvSh6r6D2mtSh4qoiC51ovE7x76Bzth9R9ljoI184hMmyxmN0u18R7_tjtC184hM-ljoI184hM-ljoI7vp8RtrvStolhMtrvS7x76Bs2ivE2mtS7x76Bs2ivEm336B51ovEm336Bs2ivE784sd2mtS2s-6Bw9sL2mtSm336Bw9sLt4g6Dm336Bx07tRm336Bzvvs2Io336B5gq1W4mw5D18z6Bsx9lD3uhmPv3otBv2q5Dv3otB38z6B9v4lDu2nqH7w60F38z6B2xpLoiw6B2xpLoiw6BxnrL2mtS8rltBtrvS-7nL1hgqHtrvS63t6Rp_ynI2mtSg8k6Yvj6lFwkqyyG-ml3U1w_00B88i7kB_5quEswnwwJ74mnImw1mJzrjlN9y9nThoqsOllu6Bs5tuE9i_mJs5tuEllu6Bx4zpCt4zuE2mtSjlu6B-ml3Uu8unI8h4pCjlu6Bmj5x5Bw-x6BhoqsO62oL8ykomHs5tuEvj6lFllu6Bs5tuE62oL8h4pCu-x6B2mtSt4zuE8h4pC62oLmw1mJjlu6B-ml3Uw-x6Bw1zlFw-x6Bm2grzEjlu6Bx15mmH-516B2l9jpRs5tuE24y_zYoiw6Bs-0sOu2nqHp_ynI38z6Bx4zpCw2nqHp_ynIj38uEx4zpCzh_-L3hgqHx4zpCw2nqH2mtS2xpLtt7uQ8h4pC-7nL_32uEgt4pH8h4pCzh_-Lw2o5Y83t6Rvj6lFoiw6B94wuEvj6lF-ns6B2mtSoiw6B8h4pCp2-4DtrvS3izioB-ns6B8715R38z6B-ovhoBr2-4D2mtS8715Rit4pH8h4pC-ns6B9uq-Lv4wpH_715R-ns6B41g-L2mtSqiw6Bj_p5Rit4pHw1zlFhos6B2-94vG9plpHt69mc8qq6B8h4pC67huEs-0sOx6nuEtrvS8qq6Bvj6lFq_spH2mtS8qq6BtrvSx6nuE8h4pCq_spHx4zpC5y0pHx4zpClhnLllu6Bx4zpCs_84Dx4zpCs_84Dx6nuE74mnIu5tuEo_spHt4zuE8h4pClhnL8qq6B2mtSlhnLk5y1tBq_84Dxrv-Lsn8pH6675Rpui5DtrvSq_84D2mtS62oLllu6B_9wlDjlu6Bpui5D98jpngBtrvS__y5Dg76qHqtqtBx4zpCj5ttBtrvS9516B32-uE2mtSu-x6BwisLvj6lFzsqL8h4pCwisL2yr3nLu35uE-ml3UzsqLmw1mJ32-uEwisL8h4pCwisL9516B2mtSzlqmDy056BwisL9516BglxtB2mtSnwirH2mtSglxtBvj6lFhx0tB2mtSnwirH-vyghBwrghMylqrHvlqhMuv5moBvlqhMyr9noBpv96Bx4zpC32-uE8h4pC12-uE8h4pCw056B25umcqv58Y0wvuyBs2ivEg06ghBvj6lFktip7Bx4zpC51ovEmqz8iBwivhM8h4pC-rqghBq2ivEtpnmNmx97R8h4pCzzuLh38uE8h4pCh38uE9x76B25umcw9sL8h4pC-ljoIx4zpC-ljoIs2ivEx4zpCvolhMtrvSh38uEtrvSm336Bmw1mJ1yx7R8h4pC8qmrH-ljoIh38uEii7nI9x76Bvj6lFw9sL2mtSxnrLvj6lF7lzqHwisLw35uE3p_9KwisL__y5D9516B3p_9KglxtB2mtSwisLtrvSu35uEwisLtrvSwisL2mtSgg_5D8h4pC_66qHwisLtrvSx4tL2mtS9516BtrvS9516Bwwj8RwisL8h4pCx4tL8h4pC9516B2mtSx4tL8h4pCl9630BtrvSgk-nIx4zpCx4tL8h4pC9516BtrvSw056B-nnoI9516By-zhMgg_5D8h4pCm93tB2mtSx4tLpv96B12-uEpv96B3wj6Dw056Bi2lvEx4tLwlqrH-t_mD8h4pCswjnD0w5rHrxx_Iw056Bvp7tBnv96Bx4tL2j06Dx4tLjt1pP1v2-Kw056B81_tB4t36V2j06D81_tBpmhsH81_tBh_h-J2mtSr4ynD2mtS-kxLnv96B1skgJtrvS2uvLiqh7Bo73nDiqh7Bk53hkBxt86Dls_4FgnhgKivluBxwn7DnjpniHqpxqaw5y5F7lgnO51vuBh7v7Dk8p40L2rhvPnw2uB49q7Byo2Lj5u7Bnw2uBhpuSh5u7Bwq9lF3o6ygChsy5vG6s7vqBhq2mcnmnrTzm6pC00gwEzm6pC20gwEhpuSh5u7Bzvr7kB00gwEggloNx55mJ00tmhB00gwEzm6pC9x0Lzm6pCs1ivuB80swE7397D30mwEh5u7Bg1jvfyo2L1kllMh5u7Byo2LhpuSjh5wP_ysiW64gvBgqj8Dwj3vqB_qquHpq61U8v7lc4uu8Dyosg1B2uu8D64hkWw0nvB64hkW-v27B8163UtwhvHw0nvBghnijBi55uH-t01G5zmocvp5jjBrwhvH8hqkjB-qkmW71l_kB9hj2Gj1ywEk7j7Q70mvOw14wE1m-8Duk9Ly14wEpt7L_8zmLp-ltjCgsq2GhpuS1sq9Duk9Ltn_7Bst1vBtn_7Bpt7L0pwojBuk9Li0g2P_24vH-nmoK4-v9D2g52Gt-l8Bg0g2P_1n3G37_LhpuS6pvoK6twS4-v9Dqji8Bwm79D37_Lhz19D42kxE37_L0mowH37_Lqji8B6twS37_Lh2_wE37_L6twSkzgMh2_wEt-l8BhpuSr-l8B37_L6twSqji8BkzgMwt-hex3qxEqji8Bum79Dv-3s4DhpuS2tm_DhpuS823wHhpuSr-l8B6twSkzgMhpuSkzgMr-l8Bwq9lF-5g_Dx3qxEr-l8B6twS22kxEy7p8BhpuSu4wxEr-l8Bwq9lF47xoMwq9lFjv-wHzm6pC0_krI547oMzm6pC22kxEzm6pC22kxE6twSw7p8Bwq9lFr-l8Bzm6pCu4wxEx55mJr-l8Bhx_-lrB8uhMm91pCroxq8C8uhM05r8B0yqsDt9n8Bt7u_D0yqsDhpuS8uhMt9n8BwnygGmg_9DwnygG6twSlslsDhpuSt3-Lt9n8BlslsDv9n8Bmg_9D8uhM3s49D5whwB6twS5whwB0lnie_h_vBzm6pCt3-L0iswHt3-L6twSqhk8Bt3-LhpuSqhk8Bt3-L\"\n",
    "\n",
    "r = requests.get(url, headers=headers)\n",
    "soup = bs4(r.content)"
   ]
  },
  {
   "cell_type": "code",
   "execution_count": 394,
   "metadata": {},
   "outputs": [],
   "source": [
    "with open(\"andalucia_1.txt\") as fp:\n",
    "    soup = bs4(fp)"
   ]
  },
  {
   "cell_type": "code",
   "execution_count": 388,
   "metadata": {},
   "outputs": [],
   "source": [
    "andalucia_precios = []\n",
    "\n",
    "for precio in soup.select(\"span.re-CardPrice\"):\n",
    "    andalucia_precios.append(precio.text)\n"
   ]
  },
  {
   "cell_type": "code",
   "execution_count": 395,
   "metadata": {},
   "outputs": [],
   "source": [
    "andalucia_metro_cuadrado = []\n",
    "\n",
    "for metro_cuadrado  in soup.select(\"span.re-CardFeaturesWithIcons-feature-icon.re-CardFeaturesWithIcons-feature-icon--surface\"):\n",
    "    andalucia_metro_cuadrado.append(metro_cuadrado.text)\n"
   ]
  },
  {
   "cell_type": "markdown",
   "metadata": {},
   "source": [
    "Repetimos los mismos pasos para las siguientes 9 páginas:"
   ]
  },
  {
   "cell_type": "markdown",
   "metadata": {},
   "source": [
    "SEGUNDA PÁGINA"
   ]
  },
  {
   "cell_type": "code",
   "execution_count": 398,
   "metadata": {},
   "outputs": [],
   "source": [
    "headers = {\n",
    "    'User-Agent': 'Mozilla/5.0 (Windows NT 10.0; Win64; x64) AppleWebKit/537.36 (KHTML, like Gecko) Chrome/58.0.3029.110 Safari/537.3'\n",
    "}\n",
    "url= \"https://www.fotocasa.es/es/comprar/terrenos/andalucia/todas-las-zonas/l/2?searchArea=7153mlisfyx_nL0iswHm-lpK1qkwHz3srjB2iswHnz6vBji1nL_182Gs5y9Dshk8B5g71Pshk8BxzwrDrlg8Blmt9D3qkwHig_Lrlg8Bl2zvBrlg8B2trrD6twSrlg8Bl2zvBhpuSig_L6twS7o8Llmt9D8y8vH1qlnMj70vH617wEu_p8wBwjtvHmjvsoC-x6zfhyxmMq4ysT0v961CxwmjZjr6sO3ovgiHx55mJ17ikZpu0oNr4oz4C4rviSzqnphBqsinJ_1nmM7pmsT617wEx6jy5B_0vwEqm0szEg4_oNx6jy5Bpu0oN-96m9_D_0vwEgpiimQ4pkqIwq9lF4pkqIwq9lFkz5oNg1r3U4pkqIgq78yC0r67Bhq2mcl1ywEw-q0uB4pkqIwq9lFkz5oNvpvoNy14wE2zvsO4pkqIwq9lF5usqIhq2mc5usqIzvr7kB60swEz4g7wD5usqIwq9lFvpvoNx55mJ-8jpNx6jy5BzigsTvv7o01C617wEhpuSwp87Bzm6pCr11wEhpuSwp87Bzm6pC5t47B17ikZ5t47Bwq9lFyjtvHhpuSwp87Br11wEhpuSyp87BhpuSwp87Bwq9lFyp87B7o8Lm91pCjslvHosoqIwp87Br11wEu8-kLr11wE7qplL209uHr11wE7qplL_0vwE5t47Br11wEmy07Br11wE4x6LhpuSz628Dv91uH6twS-mryP_hk5Qpu2kL5t47Bv1r8Dx-_6d564Lm91pCz628Dmy07B564Lzm6pC564Lmy07BhpuS2vivBzm6pC2vivB32w7B6twS2vivBmy07BhpuS2vivBumuuH-h-uBm91pC2vivBumuuHtz_wP_j3Lmy07B_j3L32w7Bg1vwE_j3LvvmuH-h-uBpri4d-h-uBvvmuH_j3L00jwE6_67Doy07BgpnjL-wg8D32w7B9m4uBvvmuHmu0iL5hyvPnwj3dy50uB04_tHy50uB7h3tH357uPnt1Lou0iLnt1L109vE81wuPqrvtHy50uBhpuSlgp7Bmh5oDzm6pCmh5oDhpuSu7s7BrsxuBhpuSnt1Llgp7BhpuS02zL52w7B02zLlgp7BhpuSnt1Lu7s7Bppq7D309vE02zL50ntH02zL309vE02zLlgp7B6twS02zLill7B02zLlgp7B6twSlgp7B02zLm91pC02zLs7yLx4zpCv_-sH2mtS4_ujM2qr_R8h4pC-kn-Y7jljMrxmyqCvr-80B00-oIx17hnD00-oImw1mJo-tuB8h4pCnt1Lzzq1Q580tP2mtS02zL2mtS02zLtrvS02zL2mtSyin7BtrvS02zL2mtSpyquB2mtS59q7B2mtSj2_sP2mtS02zLyin7B9_h7D2jv29CpyquB81-sX9vosP-00vEkt0sHulnuBmt0sH9_h7Dxnj7BulnuBl3ssHulnuB2mtSlgyL0in7B9l04Fxnj7Bw-o-vE2mtSzupgXp826DksguB2mtShy8hdirx6DzzuLznj7B1-8tB7x76B6pwL7x76Bkrx6D411rHkpm6DtrvSh6r6D2mtSh4qoiC51ovE7x76Bzth9R9ljoI184hMmyxmN0u18R7_tjtC184hM-ljoI184hM-ljoI7vp8RtrvStolhMtrvS7x76Bs2ivE2mtS7x76Bs2ivEm336B51ovEm336Bs2ivE784sd2mtS2s-6Bw9sL2mtSm336Bw9sLt4g6Dm336Bx07tRm336Bzvvs2Io336B5gq1W4mw5D18z6Bsx9lD3uhmPv3otBv2q5Dv3otB38z6B9v4lDu2nqH7w60F38z6B2xpLoiw6B2xpLoiw6BxnrL2mtS8rltBtrvS-7nL1hgqHtrvS63t6Rp_ynI2mtSg8k6Yvj6lFwkqyyG-ml3U1w_00B88i7kB_5quEswnwwJ74mnImw1mJzrjlN9y9nThoqsOllu6Bs5tuE9i_mJs5tuEllu6Bx4zpCt4zuE2mtSjlu6B-ml3Uu8unI8h4pCjlu6Bmj5x5Bw-x6BhoqsO62oL8ykomHs5tuEvj6lFllu6Bs5tuE62oL8h4pCu-x6B2mtSt4zuE8h4pC62oLmw1mJjlu6B-ml3Uw-x6Bw1zlFw-x6Bm2grzEjlu6Bx15mmH-516B2l9jpRs5tuE24y_zYoiw6Bs-0sOu2nqHp_ynI38z6Bx4zpCw2nqHp_ynIj38uEx4zpCzh_-L3hgqHx4zpCw2nqH2mtS2xpLtt7uQ8h4pC-7nL_32uEgt4pH8h4pCzh_-Lw2o5Y83t6Rvj6lFoiw6B94wuEvj6lF-ns6B2mtSoiw6B8h4pCp2-4DtrvS3izioB-ns6B8715R38z6B-ovhoBr2-4D2mtS8715Rit4pH8h4pC-ns6B9uq-Lv4wpH_715R-ns6B41g-L2mtSqiw6Bj_p5Rit4pHw1zlFhos6B2-94vG9plpHt69mc8qq6B8h4pC67huEs-0sOx6nuEtrvS8qq6Bvj6lFq_spH2mtS8qq6BtrvSx6nuE8h4pCq_spHx4zpC5y0pHx4zpClhnLllu6Bx4zpCs_84Dx4zpCs_84Dx6nuE74mnIu5tuEo_spHt4zuE8h4pClhnL8qq6B2mtSlhnLk5y1tBq_84Dxrv-Lsn8pH6675Rpui5DtrvSq_84D2mtS62oLllu6B_9wlDjlu6Bpui5D98jpngBtrvS__y5Dg76qHqtqtBx4zpCj5ttBtrvS9516B32-uE2mtSu-x6BwisLvj6lFzsqL8h4pCwisL2yr3nLu35uE-ml3UzsqLmw1mJ32-uEwisL8h4pCwisL9516B2mtSzlqmDy056BwisL9516BglxtB2mtSnwirH2mtSglxtBvj6lFhx0tB2mtSnwirH-vyghBwrghMylqrHvlqhMuv5moBvlqhMyr9noBpv96Bx4zpC32-uE8h4pC12-uE8h4pCw056B25umcqv58Y0wvuyBs2ivEg06ghBvj6lFktip7Bx4zpC51ovEmqz8iBwivhM8h4pC-rqghBq2ivEtpnmNmx97R8h4pCzzuLh38uE8h4pCh38uE9x76B25umcw9sL8h4pC-ljoIx4zpC-ljoIs2ivEx4zpCvolhMtrvSh38uEtrvSm336Bmw1mJ1yx7R8h4pC8qmrH-ljoIh38uEii7nI9x76Bvj6lFw9sL2mtSxnrLvj6lF7lzqHwisLw35uE3p_9KwisL__y5D9516B3p_9KglxtB2mtSwisLtrvSu35uEwisLtrvSwisL2mtSgg_5D8h4pC_66qHwisLtrvSx4tL2mtS9516BtrvS9516Bwwj8RwisL8h4pCx4tL8h4pC9516B2mtSx4tL8h4pCl9630BtrvSgk-nIx4zpCx4tL8h4pC9516BtrvSw056B-nnoI9516By-zhMgg_5D8h4pCm93tB2mtSx4tLpv96B12-uEpv96B3wj6Dw056Bi2lvEx4tLwlqrH-t_mD8h4pCswjnD0w5rHrxx_Iw056Bvp7tBnv96Bx4tL2j06Dx4tLjt1pP1v2-Kw056B81_tB4t36V2j06D81_tBpmhsH81_tBh_h-J2mtSr4ynD2mtS-kxLnv96B1skgJtrvS2uvLiqh7Bo73nDiqh7Bk53hkBxt86Dls_4FgnhgKivluBxwn7DnjpniHqpxqaw5y5F7lgnO51vuBh7v7Dk8p40L2rhvPnw2uB49q7Byo2Lj5u7Bnw2uBhpuSh5u7Bwq9lF3o6ygChsy5vG6s7vqBhq2mcnmnrTzm6pC00gwEzm6pC20gwEhpuSh5u7Bzvr7kB00gwEggloNx55mJ00tmhB00gwEzm6pC9x0Lzm6pCs1ivuB80swE7397D30mwEh5u7Bg1jvfyo2L1kllMh5u7Byo2LhpuSjh5wP_ysiW64gvBgqj8Dwj3vqB_qquHpq61U8v7lc4uu8Dyosg1B2uu8D64hkWw0nvB64hkW-v27B8163UtwhvHw0nvBghnijBi55uH-t01G5zmocvp5jjBrwhvH8hqkjB-qkmW71l_kB9hj2Gj1ywEk7j7Q70mvOw14wE1m-8Duk9Ly14wEpt7L_8zmLp-ltjCgsq2GhpuS1sq9Duk9Ltn_7Bst1vBtn_7Bpt7L0pwojBuk9Li0g2P_24vH-nmoK4-v9D2g52Gt-l8Bg0g2P_1n3G37_LhpuS6pvoK6twS4-v9Dqji8Bwm79D37_Lhz19D42kxE37_L0mowH37_Lqji8B6twS37_Lh2_wE37_L6twSkzgMh2_wEt-l8BhpuSr-l8B37_L6twSqji8BkzgMwt-hex3qxEqji8Bum79Dv-3s4DhpuS2tm_DhpuS823wHhpuSr-l8B6twSkzgMhpuSkzgMr-l8Bwq9lF-5g_Dx3qxEr-l8B6twS22kxEy7p8BhpuSu4wxEr-l8Bwq9lF47xoMwq9lFjv-wHzm6pC0_krI547oMzm6pC22kxEzm6pC22kxE6twSw7p8Bwq9lFr-l8Bzm6pCu4wxEx55mJr-l8Bhx_-lrB8uhMm91pCroxq8C8uhM05r8B0yqsDt9n8Bt7u_D0yqsDhpuS8uhMt9n8BwnygGmg_9DwnygG6twSlslsDhpuSt3-Lt9n8BlslsDv9n8Bmg_9D8uhM3s49D5whwB6twS5whwB0lnie_h_vBzm6pCt3-L0iswHt3-L6twSqhk8Bt3-LhpuSqhk8Bt3-L\"\n",
    "r = requests.get(url, headers=headers)\n",
    "soup = bs4(r.content)"
   ]
  },
  {
   "cell_type": "code",
   "execution_count": 399,
   "metadata": {},
   "outputs": [],
   "source": [
    "with open(\"andalucia_2.txt\") as fp:\n",
    "    soup = bs4(fp)"
   ]
  },
  {
   "cell_type": "code",
   "execution_count": 400,
   "metadata": {},
   "outputs": [],
   "source": [
    "for precio in soup.select(\"span.re-CardPrice\"):\n",
    "    andalucia_precios.append(precio.text)\n"
   ]
  },
  {
   "cell_type": "code",
   "execution_count": 402,
   "metadata": {},
   "outputs": [],
   "source": [
    "for metro_cuadrado  in soup.select(\"span.re-CardFeaturesWithIcons-feature-icon.re-CardFeaturesWithIcons-feature-icon--surface\"):\n",
    "    andalucia_metro_cuadrado.append(metro_cuadrado.text)"
   ]
  },
  {
   "cell_type": "markdown",
   "metadata": {},
   "source": [
    "TERCERA PÁGINA"
   ]
  },
  {
   "cell_type": "code",
   "execution_count": 404,
   "metadata": {},
   "outputs": [],
   "source": [
    "headers = {\n",
    "    'User-Agent': 'Mozilla/5.0 (Windows NT 10.0; Win64; x64) AppleWebKit/537.36 (KHTML, like Gecko) Chrome/58.0.3029.110 Safari/537.3'\n",
    "}\n",
    "url= \"https://www.fotocasa.es/es/comprar/terrenos/andalucia/todas-las-zonas/l/3?searchArea=7153mlisfyx_nL0iswHm-lpK1qkwHz3srjB2iswHnz6vBji1nL_182Gs5y9Dshk8B5g71Pshk8BxzwrDrlg8Blmt9D3qkwHig_Lrlg8Bl2zvBrlg8B2trrD6twSrlg8Bl2zvBhpuSig_L6twS7o8Llmt9D8y8vH1qlnMj70vH617wEu_p8wBwjtvHmjvsoC-x6zfhyxmMq4ysT0v961CxwmjZjr6sO3ovgiHx55mJ17ikZpu0oNr4oz4C4rviSzqnphBqsinJ_1nmM7pmsT617wEx6jy5B_0vwEqm0szEg4_oNx6jy5Bpu0oN-96m9_D_0vwEgpiimQ4pkqIwq9lF4pkqIwq9lFkz5oNg1r3U4pkqIgq78yC0r67Bhq2mcl1ywEw-q0uB4pkqIwq9lFkz5oNvpvoNy14wE2zvsO4pkqIwq9lF5usqIhq2mc5usqIzvr7kB60swEz4g7wD5usqIwq9lFvpvoNx55mJ-8jpNx6jy5BzigsTvv7o01C617wEhpuSwp87Bzm6pCr11wEhpuSwp87Bzm6pC5t47B17ikZ5t47Bwq9lFyjtvHhpuSwp87Br11wEhpuSyp87BhpuSwp87Bwq9lFyp87B7o8Lm91pCjslvHosoqIwp87Br11wEu8-kLr11wE7qplL209uHr11wE7qplL_0vwE5t47Br11wEmy07Br11wE4x6LhpuSz628Dv91uH6twS-mryP_hk5Qpu2kL5t47Bv1r8Dx-_6d564Lm91pCz628Dmy07B564Lzm6pC564Lmy07BhpuS2vivBzm6pC2vivB32w7B6twS2vivBmy07BhpuS2vivBumuuH-h-uBm91pC2vivBumuuHtz_wP_j3Lmy07B_j3L32w7Bg1vwE_j3LvvmuH-h-uBpri4d-h-uBvvmuH_j3L00jwE6_67Doy07BgpnjL-wg8D32w7B9m4uBvvmuHmu0iL5hyvPnwj3dy50uB04_tHy50uB7h3tH357uPnt1Lou0iLnt1L109vE81wuPqrvtHy50uBhpuSlgp7Bmh5oDzm6pCmh5oDhpuSu7s7BrsxuBhpuSnt1Llgp7BhpuS02zL52w7B02zLlgp7BhpuSnt1Lu7s7Bppq7D309vE02zL50ntH02zL309vE02zLlgp7B6twS02zLill7B02zLlgp7B6twSlgp7B02zLm91pC02zLs7yLx4zpCv_-sH2mtS4_ujM2qr_R8h4pC-kn-Y7jljMrxmyqCvr-80B00-oIx17hnD00-oImw1mJo-tuB8h4pCnt1Lzzq1Q580tP2mtS02zL2mtS02zLtrvS02zL2mtSyin7BtrvS02zL2mtSpyquB2mtS59q7B2mtSj2_sP2mtS02zLyin7B9_h7D2jv29CpyquB81-sX9vosP-00vEkt0sHulnuBmt0sH9_h7Dxnj7BulnuBl3ssHulnuB2mtSlgyL0in7B9l04Fxnj7Bw-o-vE2mtSzupgXp826DksguB2mtShy8hdirx6DzzuLznj7B1-8tB7x76B6pwL7x76Bkrx6D411rHkpm6DtrvSh6r6D2mtSh4qoiC51ovE7x76Bzth9R9ljoI184hMmyxmN0u18R7_tjtC184hM-ljoI184hM-ljoI7vp8RtrvStolhMtrvS7x76Bs2ivE2mtS7x76Bs2ivEm336B51ovEm336Bs2ivE784sd2mtS2s-6Bw9sL2mtSm336Bw9sLt4g6Dm336Bx07tRm336Bzvvs2Io336B5gq1W4mw5D18z6Bsx9lD3uhmPv3otBv2q5Dv3otB38z6B9v4lDu2nqH7w60F38z6B2xpLoiw6B2xpLoiw6BxnrL2mtS8rltBtrvS-7nL1hgqHtrvS63t6Rp_ynI2mtSg8k6Yvj6lFwkqyyG-ml3U1w_00B88i7kB_5quEswnwwJ74mnImw1mJzrjlN9y9nThoqsOllu6Bs5tuE9i_mJs5tuEllu6Bx4zpCt4zuE2mtSjlu6B-ml3Uu8unI8h4pCjlu6Bmj5x5Bw-x6BhoqsO62oL8ykomHs5tuEvj6lFllu6Bs5tuE62oL8h4pCu-x6B2mtSt4zuE8h4pC62oLmw1mJjlu6B-ml3Uw-x6Bw1zlFw-x6Bm2grzEjlu6Bx15mmH-516B2l9jpRs5tuE24y_zYoiw6Bs-0sOu2nqHp_ynI38z6Bx4zpCw2nqHp_ynIj38uEx4zpCzh_-L3hgqHx4zpCw2nqH2mtS2xpLtt7uQ8h4pC-7nL_32uEgt4pH8h4pCzh_-Lw2o5Y83t6Rvj6lFoiw6B94wuEvj6lF-ns6B2mtSoiw6B8h4pCp2-4DtrvS3izioB-ns6B8715R38z6B-ovhoBr2-4D2mtS8715Rit4pH8h4pC-ns6B9uq-Lv4wpH_715R-ns6B41g-L2mtSqiw6Bj_p5Rit4pHw1zlFhos6B2-94vG9plpHt69mc8qq6B8h4pC67huEs-0sOx6nuEtrvS8qq6Bvj6lFq_spH2mtS8qq6BtrvSx6nuE8h4pCq_spHx4zpC5y0pHx4zpClhnLllu6Bx4zpCs_84Dx4zpCs_84Dx6nuE74mnIu5tuEo_spHt4zuE8h4pClhnL8qq6B2mtSlhnLk5y1tBq_84Dxrv-Lsn8pH6675Rpui5DtrvSq_84D2mtS62oLllu6B_9wlDjlu6Bpui5D98jpngBtrvS__y5Dg76qHqtqtBx4zpCj5ttBtrvS9516B32-uE2mtSu-x6BwisLvj6lFzsqL8h4pCwisL2yr3nLu35uE-ml3UzsqLmw1mJ32-uEwisL8h4pCwisL9516B2mtSzlqmDy056BwisL9516BglxtB2mtSnwirH2mtSglxtBvj6lFhx0tB2mtSnwirH-vyghBwrghMylqrHvlqhMuv5moBvlqhMyr9noBpv96Bx4zpC32-uE8h4pC12-uE8h4pCw056B25umcqv58Y0wvuyBs2ivEg06ghBvj6lFktip7Bx4zpC51ovEmqz8iBwivhM8h4pC-rqghBq2ivEtpnmNmx97R8h4pCzzuLh38uE8h4pCh38uE9x76B25umcw9sL8h4pC-ljoIx4zpC-ljoIs2ivEx4zpCvolhMtrvSh38uEtrvSm336Bmw1mJ1yx7R8h4pC8qmrH-ljoIh38uEii7nI9x76Bvj6lFw9sL2mtSxnrLvj6lF7lzqHwisLw35uE3p_9KwisL__y5D9516B3p_9KglxtB2mtSwisLtrvSu35uEwisLtrvSwisL2mtSgg_5D8h4pC_66qHwisLtrvSx4tL2mtS9516BtrvS9516Bwwj8RwisL8h4pCx4tL8h4pC9516B2mtSx4tL8h4pCl9630BtrvSgk-nIx4zpCx4tL8h4pC9516BtrvSw056B-nnoI9516By-zhMgg_5D8h4pCm93tB2mtSx4tLpv96B12-uEpv96B3wj6Dw056Bi2lvEx4tLwlqrH-t_mD8h4pCswjnD0w5rHrxx_Iw056Bvp7tBnv96Bx4tL2j06Dx4tLjt1pP1v2-Kw056B81_tB4t36V2j06D81_tBpmhsH81_tBh_h-J2mtSr4ynD2mtS-kxLnv96B1skgJtrvS2uvLiqh7Bo73nDiqh7Bk53hkBxt86Dls_4FgnhgKivluBxwn7DnjpniHqpxqaw5y5F7lgnO51vuBh7v7Dk8p40L2rhvPnw2uB49q7Byo2Lj5u7Bnw2uBhpuSh5u7Bwq9lF3o6ygChsy5vG6s7vqBhq2mcnmnrTzm6pC00gwEzm6pC20gwEhpuSh5u7Bzvr7kB00gwEggloNx55mJ00tmhB00gwEzm6pC9x0Lzm6pCs1ivuB80swE7397D30mwEh5u7Bg1jvfyo2L1kllMh5u7Byo2LhpuSjh5wP_ysiW64gvBgqj8Dwj3vqB_qquHpq61U8v7lc4uu8Dyosg1B2uu8D64hkWw0nvB64hkW-v27B8163UtwhvHw0nvBghnijBi55uH-t01G5zmocvp5jjBrwhvH8hqkjB-qkmW71l_kB9hj2Gj1ywEk7j7Q70mvOw14wE1m-8Duk9Ly14wEpt7L_8zmLp-ltjCgsq2GhpuS1sq9Duk9Ltn_7Bst1vBtn_7Bpt7L0pwojBuk9Li0g2P_24vH-nmoK4-v9D2g52Gt-l8Bg0g2P_1n3G37_LhpuS6pvoK6twS4-v9Dqji8Bwm79D37_Lhz19D42kxE37_L0mowH37_Lqji8B6twS37_Lh2_wE37_L6twSkzgMh2_wEt-l8BhpuSr-l8B37_L6twSqji8BkzgMwt-hex3qxEqji8Bum79Dv-3s4DhpuS2tm_DhpuS823wHhpuSr-l8B6twSkzgMhpuSkzgMr-l8Bwq9lF-5g_Dx3qxEr-l8B6twS22kxEy7p8BhpuSu4wxEr-l8Bwq9lF47xoMwq9lFjv-wHzm6pC0_krI547oMzm6pC22kxEzm6pC22kxE6twSw7p8Bwq9lFr-l8Bzm6pCu4wxEx55mJr-l8Bhx_-lrB8uhMm91pCroxq8C8uhM05r8B0yqsDt9n8Bt7u_D0yqsDhpuS8uhMt9n8BwnygGmg_9DwnygG6twSlslsDhpuSt3-Lt9n8BlslsDv9n8Bmg_9D8uhM3s49D5whwB6twS5whwB0lnie_h_vBzm6pCt3-L0iswHt3-L6twSqhk8Bt3-LhpuSqhk8Bt3-L\"\n",
    "r = requests.get(url, headers=headers)\n",
    "soup = bs4(r.content)"
   ]
  },
  {
   "cell_type": "code",
   "execution_count": 405,
   "metadata": {},
   "outputs": [],
   "source": [
    "with open(\"andalucia_3.txt\") as fp:\n",
    "    soup = bs4(fp)"
   ]
  },
  {
   "cell_type": "code",
   "execution_count": 406,
   "metadata": {},
   "outputs": [],
   "source": [
    "for precio in soup.select(\"span.re-CardPrice\"):\n",
    "    andalucia_precios.append(precio.text)"
   ]
  },
  {
   "cell_type": "code",
   "execution_count": 407,
   "metadata": {},
   "outputs": [],
   "source": [
    "for metro_cuadrado  in soup.select(\"span.re-CardFeaturesWithIcons-feature-icon.re-CardFeaturesWithIcons-feature-icon--surface\"):\n",
    "    andalucia_metro_cuadrado.append(metro_cuadrado.text)"
   ]
  },
  {
   "cell_type": "markdown",
   "metadata": {},
   "source": [
    "CUARTA PÁGINA"
   ]
  },
  {
   "cell_type": "code",
   "execution_count": 409,
   "metadata": {},
   "outputs": [],
   "source": [
    "headers = {\n",
    "    'User-Agent': 'Mozilla/5.0 (Windows NT 10.0; Win64; x64) AppleWebKit/537.36 (KHTML, like Gecko) Chrome/58.0.3029.110 Safari/537.3'\n",
    "}\n",
    "url = \"https://www.fotocasa.es/es/comprar/terrenos/andalucia/todas-las-zonas/l/4?searchArea=7153mlisfyx_nL0iswHm-lpK1qkwHz3srjB2iswHnz6vBji1nL_182Gs5y9Dshk8B5g71Pshk8BxzwrDrlg8Blmt9D3qkwHig_Lrlg8Bl2zvBrlg8B2trrD6twSrlg8Bl2zvBhpuSig_L6twS7o8Llmt9D8y8vH1qlnMj70vH617wEu_p8wBwjtvHmjvsoC-x6zfhyxmMq4ysT0v961CxwmjZjr6sO3ovgiHx55mJ17ikZpu0oNr4oz4C4rviSzqnphBqsinJ_1nmM7pmsT617wEx6jy5B_0vwEqm0szEg4_oNx6jy5Bpu0oN-96m9_D_0vwEgpiimQ4pkqIwq9lF4pkqIwq9lFkz5oNg1r3U4pkqIgq78yC0r67Bhq2mcl1ywEw-q0uB4pkqIwq9lFkz5oNvpvoNy14wE2zvsO4pkqIwq9lF5usqIhq2mc5usqIzvr7kB60swEz4g7wD5usqIwq9lFvpvoNx55mJ-8jpNx6jy5BzigsTvv7o01C617wEhpuSwp87Bzm6pCr11wEhpuSwp87Bzm6pC5t47B17ikZ5t47Bwq9lFyjtvHhpuSwp87Br11wEhpuSyp87BhpuSwp87Bwq9lFyp87B7o8Lm91pCjslvHosoqIwp87Br11wEu8-kLr11wE7qplL209uHr11wE7qplL_0vwE5t47Br11wEmy07Br11wE4x6LhpuSz628Dv91uH6twS-mryP_hk5Qpu2kL5t47Bv1r8Dx-_6d564Lm91pCz628Dmy07B564Lzm6pC564Lmy07BhpuS2vivBzm6pC2vivB32w7B6twS2vivBmy07BhpuS2vivBumuuH-h-uBm91pC2vivBumuuHtz_wP_j3Lmy07B_j3L32w7Bg1vwE_j3LvvmuH-h-uBpri4d-h-uBvvmuH_j3L00jwE6_67Doy07BgpnjL-wg8D32w7B9m4uBvvmuHmu0iL5hyvPnwj3dy50uB04_tHy50uB7h3tH357uPnt1Lou0iLnt1L109vE81wuPqrvtHy50uBhpuSlgp7Bmh5oDzm6pCmh5oDhpuSu7s7BrsxuBhpuSnt1Llgp7BhpuS02zL52w7B02zLlgp7BhpuSnt1Lu7s7Bppq7D309vE02zL50ntH02zL309vE02zLlgp7B6twS02zLill7B02zLlgp7B6twSlgp7B02zLm91pC02zLs7yLx4zpCv_-sH2mtS4_ujM2qr_R8h4pC-kn-Y7jljMrxmyqCvr-80B00-oIx17hnD00-oImw1mJo-tuB8h4pCnt1Lzzq1Q580tP2mtS02zL2mtS02zLtrvS02zL2mtSyin7BtrvS02zL2mtSpyquB2mtS59q7B2mtSj2_sP2mtS02zLyin7B9_h7D2jv29CpyquB81-sX9vosP-00vEkt0sHulnuBmt0sH9_h7Dxnj7BulnuBl3ssHulnuB2mtSlgyL0in7B9l04Fxnj7Bw-o-vE2mtSzupgXp826DksguB2mtShy8hdirx6DzzuLznj7B1-8tB7x76B6pwL7x76Bkrx6D411rHkpm6DtrvSh6r6D2mtSh4qoiC51ovE7x76Bzth9R9ljoI184hMmyxmN0u18R7_tjtC184hM-ljoI184hM-ljoI7vp8RtrvStolhMtrvS7x76Bs2ivE2mtS7x76Bs2ivEm336B51ovEm336Bs2ivE784sd2mtS2s-6Bw9sL2mtSm336Bw9sLt4g6Dm336Bx07tRm336Bzvvs2Io336B5gq1W4mw5D18z6Bsx9lD3uhmPv3otBv2q5Dv3otB38z6B9v4lDu2nqH7w60F38z6B2xpLoiw6B2xpLoiw6BxnrL2mtS8rltBtrvS-7nL1hgqHtrvS63t6Rp_ynI2mtSg8k6Yvj6lFwkqyyG-ml3U1w_00B88i7kB_5quEswnwwJ74mnImw1mJzrjlN9y9nThoqsOllu6Bs5tuE9i_mJs5tuEllu6Bx4zpCt4zuE2mtSjlu6B-ml3Uu8unI8h4pCjlu6Bmj5x5Bw-x6BhoqsO62oL8ykomHs5tuEvj6lFllu6Bs5tuE62oL8h4pCu-x6B2mtSt4zuE8h4pC62oLmw1mJjlu6B-ml3Uw-x6Bw1zlFw-x6Bm2grzEjlu6Bx15mmH-516B2l9jpRs5tuE24y_zYoiw6Bs-0sOu2nqHp_ynI38z6Bx4zpCw2nqHp_ynIj38uEx4zpCzh_-L3hgqHx4zpCw2nqH2mtS2xpLtt7uQ8h4pC-7nL_32uEgt4pH8h4pCzh_-Lw2o5Y83t6Rvj6lFoiw6B94wuEvj6lF-ns6B2mtSoiw6B8h4pCp2-4DtrvS3izioB-ns6B8715R38z6B-ovhoBr2-4D2mtS8715Rit4pH8h4pC-ns6B9uq-Lv4wpH_715R-ns6B41g-L2mtSqiw6Bj_p5Rit4pHw1zlFhos6B2-94vG9plpHt69mc8qq6B8h4pC67huEs-0sOx6nuEtrvS8qq6Bvj6lFq_spH2mtS8qq6BtrvSx6nuE8h4pCq_spHx4zpC5y0pHx4zpClhnLllu6Bx4zpCs_84Dx4zpCs_84Dx6nuE74mnIu5tuEo_spHt4zuE8h4pClhnL8qq6B2mtSlhnLk5y1tBq_84Dxrv-Lsn8pH6675Rpui5DtrvSq_84D2mtS62oLllu6B_9wlDjlu6Bpui5D98jpngBtrvS__y5Dg76qHqtqtBx4zpCj5ttBtrvS9516B32-uE2mtSu-x6BwisLvj6lFzsqL8h4pCwisL2yr3nLu35uE-ml3UzsqLmw1mJ32-uEwisL8h4pCwisL9516B2mtSzlqmDy056BwisL9516BglxtB2mtSnwirH2mtSglxtBvj6lFhx0tB2mtSnwirH-vyghBwrghMylqrHvlqhMuv5moBvlqhMyr9noBpv96Bx4zpC32-uE8h4pC12-uE8h4pCw056B25umcqv58Y0wvuyBs2ivEg06ghBvj6lFktip7Bx4zpC51ovEmqz8iBwivhM8h4pC-rqghBq2ivEtpnmNmx97R8h4pCzzuLh38uE8h4pCh38uE9x76B25umcw9sL8h4pC-ljoIx4zpC-ljoIs2ivEx4zpCvolhMtrvSh38uEtrvSm336Bmw1mJ1yx7R8h4pC8qmrH-ljoIh38uEii7nI9x76Bvj6lFw9sL2mtSxnrLvj6lF7lzqHwisLw35uE3p_9KwisL__y5D9516B3p_9KglxtB2mtSwisLtrvSu35uEwisLtrvSwisL2mtSgg_5D8h4pC_66qHwisLtrvSx4tL2mtS9516BtrvS9516Bwwj8RwisL8h4pCx4tL8h4pC9516B2mtSx4tL8h4pCl9630BtrvSgk-nIx4zpCx4tL8h4pC9516BtrvSw056B-nnoI9516By-zhMgg_5D8h4pCm93tB2mtSx4tLpv96B12-uEpv96B3wj6Dw056Bi2lvEx4tLwlqrH-t_mD8h4pCswjnD0w5rHrxx_Iw056Bvp7tBnv96Bx4tL2j06Dx4tLjt1pP1v2-Kw056B81_tB4t36V2j06D81_tBpmhsH81_tBh_h-J2mtSr4ynD2mtS-kxLnv96B1skgJtrvS2uvLiqh7Bo73nDiqh7Bk53hkBxt86Dls_4FgnhgKivluBxwn7DnjpniHqpxqaw5y5F7lgnO51vuBh7v7Dk8p40L2rhvPnw2uB49q7Byo2Lj5u7Bnw2uBhpuSh5u7Bwq9lF3o6ygChsy5vG6s7vqBhq2mcnmnrTzm6pC00gwEzm6pC20gwEhpuSh5u7Bzvr7kB00gwEggloNx55mJ00tmhB00gwEzm6pC9x0Lzm6pCs1ivuB80swE7397D30mwEh5u7Bg1jvfyo2L1kllMh5u7Byo2LhpuSjh5wP_ysiW64gvBgqj8Dwj3vqB_qquHpq61U8v7lc4uu8Dyosg1B2uu8D64hkWw0nvB64hkW-v27B8163UtwhvHw0nvBghnijBi55uH-t01G5zmocvp5jjBrwhvH8hqkjB-qkmW71l_kB9hj2Gj1ywEk7j7Q70mvOw14wE1m-8Duk9Ly14wEpt7L_8zmLp-ltjCgsq2GhpuS1sq9Duk9Ltn_7Bst1vBtn_7Bpt7L0pwojBuk9Li0g2P_24vH-nmoK4-v9D2g52Gt-l8Bg0g2P_1n3G37_LhpuS6pvoK6twS4-v9Dqji8Bwm79D37_Lhz19D42kxE37_L0mowH37_Lqji8B6twS37_Lh2_wE37_L6twSkzgMh2_wEt-l8BhpuSr-l8B37_L6twSqji8BkzgMwt-hex3qxEqji8Bum79Dv-3s4DhpuS2tm_DhpuS823wHhpuSr-l8B6twSkzgMhpuSkzgMr-l8Bwq9lF-5g_Dx3qxEr-l8B6twS22kxEy7p8BhpuSu4wxEr-l8Bwq9lF47xoMwq9lFjv-wHzm6pC0_krI547oMzm6pC22kxEzm6pC22kxE6twSw7p8Bwq9lFr-l8Bzm6pCu4wxEx55mJr-l8Bhx_-lrB8uhMm91pCroxq8C8uhM05r8B0yqsDt9n8Bt7u_D0yqsDhpuS8uhMt9n8BwnygGmg_9DwnygG6twSlslsDhpuSt3-Lt9n8BlslsDv9n8Bmg_9D8uhM3s49D5whwB6twS5whwB0lnie_h_vBzm6pCt3-L0iswHt3-L6twSqhk8Bt3-LhpuSqhk8Bt3-L\"\n",
    "r = requests.get(url, headers=headers)\n",
    "soup = bs4(r.content)"
   ]
  },
  {
   "cell_type": "code",
   "execution_count": 410,
   "metadata": {},
   "outputs": [],
   "source": [
    "with open(\"andalucia_4.txt\") as fp:\n",
    "    soup = bs4(fp)"
   ]
  },
  {
   "cell_type": "code",
   "execution_count": 411,
   "metadata": {},
   "outputs": [],
   "source": [
    "for precio in soup.select(\"span.re-CardPrice\"):\n",
    "    andalucia_precios.append(precio.text)"
   ]
  },
  {
   "cell_type": "code",
   "execution_count": 413,
   "metadata": {},
   "outputs": [],
   "source": [
    "for metro_cuadrado  in soup.select(\"span.re-CardFeaturesWithIcons-feature-icon.re-CardFeaturesWithIcons-feature-icon--surface\"):\n",
    "    andalucia_metro_cuadrado.append(metro_cuadrado.text)"
   ]
  },
  {
   "cell_type": "markdown",
   "metadata": {},
   "source": [
    "QUINTA PÁGINA"
   ]
  },
  {
   "cell_type": "code",
   "execution_count": 415,
   "metadata": {},
   "outputs": [],
   "source": [
    "headers = {\n",
    "    'User-Agent': 'Mozilla/5.0 (Windows NT 10.0; Win64; x64) AppleWebKit/537.36 (KHTML, like Gecko) Chrome/58.0.3029.110 Safari/537.3'\n",
    "}\n",
    "url = \"https://www.fotocasa.es/es/comprar/terrenos/andalucia/todas-las-zonas/l/5?searchArea=7153mlisfyx_nL0iswHm-lpK1qkwHz3srjB2iswHnz6vBji1nL_182Gs5y9Dshk8B5g71Pshk8BxzwrDrlg8Blmt9D3qkwHig_Lrlg8Bl2zvBrlg8B2trrD6twSrlg8Bl2zvBhpuSig_L6twS7o8Llmt9D8y8vH1qlnMj70vH617wEu_p8wBwjtvHmjvsoC-x6zfhyxmMq4ysT0v961CxwmjZjr6sO3ovgiHx55mJ17ikZpu0oNr4oz4C4rviSzqnphBqsinJ_1nmM7pmsT617wEx6jy5B_0vwEqm0szEg4_oNx6jy5Bpu0oN-96m9_D_0vwEgpiimQ4pkqIwq9lF4pkqIwq9lFkz5oNg1r3U4pkqIgq78yC0r67Bhq2mcl1ywEw-q0uB4pkqIwq9lFkz5oNvpvoNy14wE2zvsO4pkqIwq9lF5usqIhq2mc5usqIzvr7kB60swEz4g7wD5usqIwq9lFvpvoNx55mJ-8jpNx6jy5BzigsTvv7o01C617wEhpuSwp87Bzm6pCr11wEhpuSwp87Bzm6pC5t47B17ikZ5t47Bwq9lFyjtvHhpuSwp87Br11wEhpuSyp87BhpuSwp87Bwq9lFyp87B7o8Lm91pCjslvHosoqIwp87Br11wEu8-kLr11wE7qplL209uHr11wE7qplL_0vwE5t47Br11wEmy07Br11wE4x6LhpuSz628Dv91uH6twS-mryP_hk5Qpu2kL5t47Bv1r8Dx-_6d564Lm91pCz628Dmy07B564Lzm6pC564Lmy07BhpuS2vivBzm6pC2vivB32w7B6twS2vivBmy07BhpuS2vivBumuuH-h-uBm91pC2vivBumuuHtz_wP_j3Lmy07B_j3L32w7Bg1vwE_j3LvvmuH-h-uBpri4d-h-uBvvmuH_j3L00jwE6_67Doy07BgpnjL-wg8D32w7B9m4uBvvmuHmu0iL5hyvPnwj3dy50uB04_tHy50uB7h3tH357uPnt1Lou0iLnt1L109vE81wuPqrvtHy50uBhpuSlgp7Bmh5oDzm6pCmh5oDhpuSu7s7BrsxuBhpuSnt1Llgp7BhpuS02zL52w7B02zLlgp7BhpuSnt1Lu7s7Bppq7D309vE02zL50ntH02zL309vE02zLlgp7B6twS02zLill7B02zLlgp7B6twSlgp7B02zLm91pC02zLs7yLx4zpCv_-sH2mtS4_ujM2qr_R8h4pC-kn-Y7jljMrxmyqCvr-80B00-oIx17hnD00-oImw1mJo-tuB8h4pCnt1Lzzq1Q580tP2mtS02zL2mtS02zLtrvS02zL2mtSyin7BtrvS02zL2mtSpyquB2mtS59q7B2mtSj2_sP2mtS02zLyin7B9_h7D2jv29CpyquB81-sX9vosP-00vEkt0sHulnuBmt0sH9_h7Dxnj7BulnuBl3ssHulnuB2mtSlgyL0in7B9l04Fxnj7Bw-o-vE2mtSzupgXp826DksguB2mtShy8hdirx6DzzuLznj7B1-8tB7x76B6pwL7x76Bkrx6D411rHkpm6DtrvSh6r6D2mtSh4qoiC51ovE7x76Bzth9R9ljoI184hMmyxmN0u18R7_tjtC184hM-ljoI184hM-ljoI7vp8RtrvStolhMtrvS7x76Bs2ivE2mtS7x76Bs2ivEm336B51ovEm336Bs2ivE784sd2mtS2s-6Bw9sL2mtSm336Bw9sLt4g6Dm336Bx07tRm336Bzvvs2Io336B5gq1W4mw5D18z6Bsx9lD3uhmPv3otBv2q5Dv3otB38z6B9v4lDu2nqH7w60F38z6B2xpLoiw6B2xpLoiw6BxnrL2mtS8rltBtrvS-7nL1hgqHtrvS63t6Rp_ynI2mtSg8k6Yvj6lFwkqyyG-ml3U1w_00B88i7kB_5quEswnwwJ74mnImw1mJzrjlN9y9nThoqsOllu6Bs5tuE9i_mJs5tuEllu6Bx4zpCt4zuE2mtSjlu6B-ml3Uu8unI8h4pCjlu6Bmj5x5Bw-x6BhoqsO62oL8ykomHs5tuEvj6lFllu6Bs5tuE62oL8h4pCu-x6B2mtSt4zuE8h4pC62oLmw1mJjlu6B-ml3Uw-x6Bw1zlFw-x6Bm2grzEjlu6Bx15mmH-516B2l9jpRs5tuE24y_zYoiw6Bs-0sOu2nqHp_ynI38z6Bx4zpCw2nqHp_ynIj38uEx4zpCzh_-L3hgqHx4zpCw2nqH2mtS2xpLtt7uQ8h4pC-7nL_32uEgt4pH8h4pCzh_-Lw2o5Y83t6Rvj6lFoiw6B94wuEvj6lF-ns6B2mtSoiw6B8h4pCp2-4DtrvS3izioB-ns6B8715R38z6B-ovhoBr2-4D2mtS8715Rit4pH8h4pC-ns6B9uq-Lv4wpH_715R-ns6B41g-L2mtSqiw6Bj_p5Rit4pHw1zlFhos6B2-94vG9plpHt69mc8qq6B8h4pC67huEs-0sOx6nuEtrvS8qq6Bvj6lFq_spH2mtS8qq6BtrvSx6nuE8h4pCq_spHx4zpC5y0pHx4zpClhnLllu6Bx4zpCs_84Dx4zpCs_84Dx6nuE74mnIu5tuEo_spHt4zuE8h4pClhnL8qq6B2mtSlhnLk5y1tBq_84Dxrv-Lsn8pH6675Rpui5DtrvSq_84D2mtS62oLllu6B_9wlDjlu6Bpui5D98jpngBtrvS__y5Dg76qHqtqtBx4zpCj5ttBtrvS9516B32-uE2mtSu-x6BwisLvj6lFzsqL8h4pCwisL2yr3nLu35uE-ml3UzsqLmw1mJ32-uEwisL8h4pCwisL9516B2mtSzlqmDy056BwisL9516BglxtB2mtSnwirH2mtSglxtBvj6lFhx0tB2mtSnwirH-vyghBwrghMylqrHvlqhMuv5moBvlqhMyr9noBpv96Bx4zpC32-uE8h4pC12-uE8h4pCw056B25umcqv58Y0wvuyBs2ivEg06ghBvj6lFktip7Bx4zpC51ovEmqz8iBwivhM8h4pC-rqghBq2ivEtpnmNmx97R8h4pCzzuLh38uE8h4pCh38uE9x76B25umcw9sL8h4pC-ljoIx4zpC-ljoIs2ivEx4zpCvolhMtrvSh38uEtrvSm336Bmw1mJ1yx7R8h4pC8qmrH-ljoIh38uEii7nI9x76Bvj6lFw9sL2mtSxnrLvj6lF7lzqHwisLw35uE3p_9KwisL__y5D9516B3p_9KglxtB2mtSwisLtrvSu35uEwisLtrvSwisL2mtSgg_5D8h4pC_66qHwisLtrvSx4tL2mtS9516BtrvS9516Bwwj8RwisL8h4pCx4tL8h4pC9516B2mtSx4tL8h4pCl9630BtrvSgk-nIx4zpCx4tL8h4pC9516BtrvSw056B-nnoI9516By-zhMgg_5D8h4pCm93tB2mtSx4tLpv96B12-uEpv96B3wj6Dw056Bi2lvEx4tLwlqrH-t_mD8h4pCswjnD0w5rHrxx_Iw056Bvp7tBnv96Bx4tL2j06Dx4tLjt1pP1v2-Kw056B81_tB4t36V2j06D81_tBpmhsH81_tBh_h-J2mtSr4ynD2mtS-kxLnv96B1skgJtrvS2uvLiqh7Bo73nDiqh7Bk53hkBxt86Dls_4FgnhgKivluBxwn7DnjpniHqpxqaw5y5F7lgnO51vuBh7v7Dk8p40L2rhvPnw2uB49q7Byo2Lj5u7Bnw2uBhpuSh5u7Bwq9lF3o6ygChsy5vG6s7vqBhq2mcnmnrTzm6pC00gwEzm6pC20gwEhpuSh5u7Bzvr7kB00gwEggloNx55mJ00tmhB00gwEzm6pC9x0Lzm6pCs1ivuB80swE7397D30mwEh5u7Bg1jvfyo2L1kllMh5u7Byo2LhpuSjh5wP_ysiW64gvBgqj8Dwj3vqB_qquHpq61U8v7lc4uu8Dyosg1B2uu8D64hkWw0nvB64hkW-v27B8163UtwhvHw0nvBghnijBi55uH-t01G5zmocvp5jjBrwhvH8hqkjB-qkmW71l_kB9hj2Gj1ywEk7j7Q70mvOw14wE1m-8Duk9Ly14wEpt7L_8zmLp-ltjCgsq2GhpuS1sq9Duk9Ltn_7Bst1vBtn_7Bpt7L0pwojBuk9Li0g2P_24vH-nmoK4-v9D2g52Gt-l8Bg0g2P_1n3G37_LhpuS6pvoK6twS4-v9Dqji8Bwm79D37_Lhz19D42kxE37_L0mowH37_Lqji8B6twS37_Lh2_wE37_L6twSkzgMh2_wEt-l8BhpuSr-l8B37_L6twSqji8BkzgMwt-hex3qxEqji8Bum79Dv-3s4DhpuS2tm_DhpuS823wHhpuSr-l8B6twSkzgMhpuSkzgMr-l8Bwq9lF-5g_Dx3qxEr-l8B6twS22kxEy7p8BhpuSu4wxEr-l8Bwq9lF47xoMwq9lFjv-wHzm6pC0_krI547oMzm6pC22kxEzm6pC22kxE6twSw7p8Bwq9lFr-l8Bzm6pCu4wxEx55mJr-l8Bhx_-lrB8uhMm91pCroxq8C8uhM05r8B0yqsDt9n8Bt7u_D0yqsDhpuS8uhMt9n8BwnygGmg_9DwnygG6twSlslsDhpuSt3-Lt9n8BlslsDv9n8Bmg_9D8uhM3s49D5whwB6twS5whwB0lnie_h_vBzm6pCt3-L0iswHt3-L6twSqhk8Bt3-LhpuSqhk8Bt3-L\"\n",
    "r = requests.get(url, headers=headers)\n",
    "soup = bs4(r.content)"
   ]
  },
  {
   "cell_type": "code",
   "execution_count": 416,
   "metadata": {},
   "outputs": [],
   "source": [
    "with open(\"andalucia_5.txt\") as fp:\n",
    "    soup = bs4(fp)"
   ]
  },
  {
   "cell_type": "code",
   "execution_count": 417,
   "metadata": {},
   "outputs": [],
   "source": [
    "for precio in soup.select(\"span.re-CardPrice\"):\n",
    "    andalucia_precios.append(precio.text)"
   ]
  },
  {
   "cell_type": "code",
   "execution_count": 419,
   "metadata": {},
   "outputs": [],
   "source": [
    "for metro_cuadrado  in soup.select(\"span.re-CardFeaturesWithIcons-feature-icon.re-CardFeaturesWithIcons-feature-icon--surface\"):\n",
    "    andalucia_metro_cuadrado.append(metro_cuadrado.text)"
   ]
  },
  {
   "cell_type": "markdown",
   "metadata": {},
   "source": [
    "SEXTA PÁGINA"
   ]
  },
  {
   "cell_type": "code",
   "execution_count": 420,
   "metadata": {},
   "outputs": [],
   "source": [
    "headers = {\n",
    "    'User-Agent': 'Mozilla/5.0 (Windows NT 10.0; Win64; x64) AppleWebKit/537.36 (KHTML, like Gecko) Chrome/58.0.3029.110 Safari/537.3'\n",
    "}\n",
    "url = \"https://www.fotocasa.es/es/comprar/terrenos/andalucia/todas-las-zonas/l/6?searchArea=7153mlisfyx_nL0iswHm-lpK1qkwHz3srjB2iswHnz6vBji1nL_182Gs5y9Dshk8B5g71Pshk8BxzwrDrlg8Blmt9D3qkwHig_Lrlg8Bl2zvBrlg8B2trrD6twSrlg8Bl2zvBhpuSig_L6twS7o8Llmt9D8y8vH1qlnMj70vH617wEu_p8wBwjtvHmjvsoC-x6zfhyxmMq4ysT0v961CxwmjZjr6sO3ovgiHx55mJ17ikZpu0oNr4oz4C4rviSzqnphBqsinJ_1nmM7pmsT617wEx6jy5B_0vwEqm0szEg4_oNx6jy5Bpu0oN-96m9_D_0vwEgpiimQ4pkqIwq9lF4pkqIwq9lFkz5oNg1r3U4pkqIgq78yC0r67Bhq2mcl1ywEw-q0uB4pkqIwq9lFkz5oNvpvoNy14wE2zvsO4pkqIwq9lF5usqIhq2mc5usqIzvr7kB60swEz4g7wD5usqIwq9lFvpvoNx55mJ-8jpNx6jy5BzigsTvv7o01C617wEhpuSwp87Bzm6pCr11wEhpuSwp87Bzm6pC5t47B17ikZ5t47Bwq9lFyjtvHhpuSwp87Br11wEhpuSyp87BhpuSwp87Bwq9lFyp87B7o8Lm91pCjslvHosoqIwp87Br11wEu8-kLr11wE7qplL209uHr11wE7qplL_0vwE5t47Br11wEmy07Br11wE4x6LhpuSz628Dv91uH6twS-mryP_hk5Qpu2kL5t47Bv1r8Dx-_6d564Lm91pCz628Dmy07B564Lzm6pC564Lmy07BhpuS2vivBzm6pC2vivB32w7B6twS2vivBmy07BhpuS2vivBumuuH-h-uBm91pC2vivBumuuHtz_wP_j3Lmy07B_j3L32w7Bg1vwE_j3LvvmuH-h-uBpri4d-h-uBvvmuH_j3L00jwE6_67Doy07BgpnjL-wg8D32w7B9m4uBvvmuHmu0iL5hyvPnwj3dy50uB04_tHy50uB7h3tH357uPnt1Lou0iLnt1L109vE81wuPqrvtHy50uBhpuSlgp7Bmh5oDzm6pCmh5oDhpuSu7s7BrsxuBhpuSnt1Llgp7BhpuS02zL52w7B02zLlgp7BhpuSnt1Lu7s7Bppq7D309vE02zL50ntH02zL309vE02zLlgp7B6twS02zLill7B02zLlgp7B6twSlgp7B02zLm91pC02zLs7yLx4zpCv_-sH2mtS4_ujM2qr_R8h4pC-kn-Y7jljMrxmyqCvr-80B00-oIx17hnD00-oImw1mJo-tuB8h4pCnt1Lzzq1Q580tP2mtS02zL2mtS02zLtrvS02zL2mtSyin7BtrvS02zL2mtSpyquB2mtS59q7B2mtSj2_sP2mtS02zLyin7B9_h7D2jv29CpyquB81-sX9vosP-00vEkt0sHulnuBmt0sH9_h7Dxnj7BulnuBl3ssHulnuB2mtSlgyL0in7B9l04Fxnj7Bw-o-vE2mtSzupgXp826DksguB2mtShy8hdirx6DzzuLznj7B1-8tB7x76B6pwL7x76Bkrx6D411rHkpm6DtrvSh6r6D2mtSh4qoiC51ovE7x76Bzth9R9ljoI184hMmyxmN0u18R7_tjtC184hM-ljoI184hM-ljoI7vp8RtrvStolhMtrvS7x76Bs2ivE2mtS7x76Bs2ivEm336B51ovEm336Bs2ivE784sd2mtS2s-6Bw9sL2mtSm336Bw9sLt4g6Dm336Bx07tRm336Bzvvs2Io336B5gq1W4mw5D18z6Bsx9lD3uhmPv3otBv2q5Dv3otB38z6B9v4lDu2nqH7w60F38z6B2xpLoiw6B2xpLoiw6BxnrL2mtS8rltBtrvS-7nL1hgqHtrvS63t6Rp_ynI2mtSg8k6Yvj6lFwkqyyG-ml3U1w_00B88i7kB_5quEswnwwJ74mnImw1mJzrjlN9y9nThoqsOllu6Bs5tuE9i_mJs5tuEllu6Bx4zpCt4zuE2mtSjlu6B-ml3Uu8unI8h4pCjlu6Bmj5x5Bw-x6BhoqsO62oL8ykomHs5tuEvj6lFllu6Bs5tuE62oL8h4pCu-x6B2mtSt4zuE8h4pC62oLmw1mJjlu6B-ml3Uw-x6Bw1zlFw-x6Bm2grzEjlu6Bx15mmH-516B2l9jpRs5tuE24y_zYoiw6Bs-0sOu2nqHp_ynI38z6Bx4zpCw2nqHp_ynIj38uEx4zpCzh_-L3hgqHx4zpCw2nqH2mtS2xpLtt7uQ8h4pC-7nL_32uEgt4pH8h4pCzh_-Lw2o5Y83t6Rvj6lFoiw6B94wuEvj6lF-ns6B2mtSoiw6B8h4pCp2-4DtrvS3izioB-ns6B8715R38z6B-ovhoBr2-4D2mtS8715Rit4pH8h4pC-ns6B9uq-Lv4wpH_715R-ns6B41g-L2mtSqiw6Bj_p5Rit4pHw1zlFhos6B2-94vG9plpHt69mc8qq6B8h4pC67huEs-0sOx6nuEtrvS8qq6Bvj6lFq_spH2mtS8qq6BtrvSx6nuE8h4pCq_spHx4zpC5y0pHx4zpClhnLllu6Bx4zpCs_84Dx4zpCs_84Dx6nuE74mnIu5tuEo_spHt4zuE8h4pClhnL8qq6B2mtSlhnLk5y1tBq_84Dxrv-Lsn8pH6675Rpui5DtrvSq_84D2mtS62oLllu6B_9wlDjlu6Bpui5D98jpngBtrvS__y5Dg76qHqtqtBx4zpCj5ttBtrvS9516B32-uE2mtSu-x6BwisLvj6lFzsqL8h4pCwisL2yr3nLu35uE-ml3UzsqLmw1mJ32-uEwisL8h4pCwisL9516B2mtSzlqmDy056BwisL9516BglxtB2mtSnwirH2mtSglxtBvj6lFhx0tB2mtSnwirH-vyghBwrghMylqrHvlqhMuv5moBvlqhMyr9noBpv96Bx4zpC32-uE8h4pC12-uE8h4pCw056B25umcqv58Y0wvuyBs2ivEg06ghBvj6lFktip7Bx4zpC51ovEmqz8iBwivhM8h4pC-rqghBq2ivEtpnmNmx97R8h4pCzzuLh38uE8h4pCh38uE9x76B25umcw9sL8h4pC-ljoIx4zpC-ljoIs2ivEx4zpCvolhMtrvSh38uEtrvSm336Bmw1mJ1yx7R8h4pC8qmrH-ljoIh38uEii7nI9x76Bvj6lFw9sL2mtSxnrLvj6lF7lzqHwisLw35uE3p_9KwisL__y5D9516B3p_9KglxtB2mtSwisLtrvSu35uEwisLtrvSwisL2mtSgg_5D8h4pC_66qHwisLtrvSx4tL2mtS9516BtrvS9516Bwwj8RwisL8h4pCx4tL8h4pC9516B2mtSx4tL8h4pCl9630BtrvSgk-nIx4zpCx4tL8h4pC9516BtrvSw056B-nnoI9516By-zhMgg_5D8h4pCm93tB2mtSx4tLpv96B12-uEpv96B3wj6Dw056Bi2lvEx4tLwlqrH-t_mD8h4pCswjnD0w5rHrxx_Iw056Bvp7tBnv96Bx4tL2j06Dx4tLjt1pP1v2-Kw056B81_tB4t36V2j06D81_tBpmhsH81_tBh_h-J2mtSr4ynD2mtS-kxLnv96B1skgJtrvS2uvLiqh7Bo73nDiqh7Bk53hkBxt86Dls_4FgnhgKivluBxwn7DnjpniHqpxqaw5y5F7lgnO51vuBh7v7Dk8p40L2rhvPnw2uB49q7Byo2Lj5u7Bnw2uBhpuSh5u7Bwq9lF3o6ygChsy5vG6s7vqBhq2mcnmnrTzm6pC00gwEzm6pC20gwEhpuSh5u7Bzvr7kB00gwEggloNx55mJ00tmhB00gwEzm6pC9x0Lzm6pCs1ivuB80swE7397D30mwEh5u7Bg1jvfyo2L1kllMh5u7Byo2LhpuSjh5wP_ysiW64gvBgqj8Dwj3vqB_qquHpq61U8v7lc4uu8Dyosg1B2uu8D64hkWw0nvB64hkW-v27B8163UtwhvHw0nvBghnijBi55uH-t01G5zmocvp5jjBrwhvH8hqkjB-qkmW71l_kB9hj2Gj1ywEk7j7Q70mvOw14wE1m-8Duk9Ly14wEpt7L_8zmLp-ltjCgsq2GhpuS1sq9Duk9Ltn_7Bst1vBtn_7Bpt7L0pwojBuk9Li0g2P_24vH-nmoK4-v9D2g52Gt-l8Bg0g2P_1n3G37_LhpuS6pvoK6twS4-v9Dqji8Bwm79D37_Lhz19D42kxE37_L0mowH37_Lqji8B6twS37_Lh2_wE37_L6twSkzgMh2_wEt-l8BhpuSr-l8B37_L6twSqji8BkzgMwt-hex3qxEqji8Bum79Dv-3s4DhpuS2tm_DhpuS823wHhpuSr-l8B6twSkzgMhpuSkzgMr-l8Bwq9lF-5g_Dx3qxEr-l8B6twS22kxEy7p8BhpuSu4wxEr-l8Bwq9lF47xoMwq9lFjv-wHzm6pC0_krI547oMzm6pC22kxEzm6pC22kxE6twSw7p8Bwq9lFr-l8Bzm6pCu4wxEx55mJr-l8Bhx_-lrB8uhMm91pCroxq8C8uhM05r8B0yqsDt9n8Bt7u_D0yqsDhpuS8uhMt9n8BwnygGmg_9DwnygG6twSlslsDhpuSt3-Lt9n8BlslsDv9n8Bmg_9D8uhM3s49D5whwB6twS5whwB0lnie_h_vBzm6pCt3-L0iswHt3-L6twSqhk8Bt3-LhpuSqhk8Bt3-L\"\n",
    "r = requests.get(url, headers=headers)\n",
    "soup = bs4(r.content)"
   ]
  },
  {
   "cell_type": "code",
   "execution_count": 421,
   "metadata": {},
   "outputs": [],
   "source": [
    "with open(\"andalucia_6.txt\") as fp:\n",
    "    soup = bs4(fp)"
   ]
  },
  {
   "cell_type": "code",
   "execution_count": 423,
   "metadata": {},
   "outputs": [],
   "source": [
    "for precio in soup.select(\"span.re-CardPrice\"):\n",
    "    andalucia_precios.append(precio.text)"
   ]
  },
  {
   "cell_type": "code",
   "execution_count": 424,
   "metadata": {},
   "outputs": [],
   "source": [
    "for metro_cuadrado  in soup.select(\"span.re-CardFeaturesWithIcons-feature-icon.re-CardFeaturesWithIcons-feature-icon--surface\"):\n",
    "    andalucia_metro_cuadrado.append(metro_cuadrado.text)"
   ]
  },
  {
   "cell_type": "markdown",
   "metadata": {},
   "source": [
    "SÉPTIMA PÁGINA"
   ]
  },
  {
   "cell_type": "code",
   "execution_count": 425,
   "metadata": {},
   "outputs": [],
   "source": [
    "headers = {\n",
    "    'User-Agent': 'Mozilla/5.0 (Windows NT 10.0; Win64; x64) AppleWebKit/537.36 (KHTML, like Gecko) Chrome/58.0.3029.110 Safari/537.3'\n",
    "}\n",
    "url = \"https://www.fotocasa.es/es/comprar/terrenos/andalucia/todas-las-zonas/l/7?searchArea=7153mlisfyx_nL0iswHm-lpK1qkwHz3srjB2iswHnz6vBji1nL_182Gs5y9Dshk8B5g71Pshk8BxzwrDrlg8Blmt9D3qkwHig_Lrlg8Bl2zvBrlg8B2trrD6twSrlg8Bl2zvBhpuSig_L6twS7o8Llmt9D8y8vH1qlnMj70vH617wEu_p8wBwjtvHmjvsoC-x6zfhyxmMq4ysT0v961CxwmjZjr6sO3ovgiHx55mJ17ikZpu0oNr4oz4C4rviSzqnphBqsinJ_1nmM7pmsT617wEx6jy5B_0vwEqm0szEg4_oNx6jy5Bpu0oN-96m9_D_0vwEgpiimQ4pkqIwq9lF4pkqIwq9lFkz5oNg1r3U4pkqIgq78yC0r67Bhq2mcl1ywEw-q0uB4pkqIwq9lFkz5oNvpvoNy14wE2zvsO4pkqIwq9lF5usqIhq2mc5usqIzvr7kB60swEz4g7wD5usqIwq9lFvpvoNx55mJ-8jpNx6jy5BzigsTvv7o01C617wEhpuSwp87Bzm6pCr11wEhpuSwp87Bzm6pC5t47B17ikZ5t47Bwq9lFyjtvHhpuSwp87Br11wEhpuSyp87BhpuSwp87Bwq9lFyp87B7o8Lm91pCjslvHosoqIwp87Br11wEu8-kLr11wE7qplL209uHr11wE7qplL_0vwE5t47Br11wEmy07Br11wE4x6LhpuSz628Dv91uH6twS-mryP_hk5Qpu2kL5t47Bv1r8Dx-_6d564Lm91pCz628Dmy07B564Lzm6pC564Lmy07BhpuS2vivBzm6pC2vivB32w7B6twS2vivBmy07BhpuS2vivBumuuH-h-uBm91pC2vivBumuuHtz_wP_j3Lmy07B_j3L32w7Bg1vwE_j3LvvmuH-h-uBpri4d-h-uBvvmuH_j3L00jwE6_67Doy07BgpnjL-wg8D32w7B9m4uBvvmuHmu0iL5hyvPnwj3dy50uB04_tHy50uB7h3tH357uPnt1Lou0iLnt1L109vE81wuPqrvtHy50uBhpuSlgp7Bmh5oDzm6pCmh5oDhpuSu7s7BrsxuBhpuSnt1Llgp7BhpuS02zL52w7B02zLlgp7BhpuSnt1Lu7s7Bppq7D309vE02zL50ntH02zL309vE02zLlgp7B6twS02zLill7B02zLlgp7B6twSlgp7B02zLm91pC02zLs7yLx4zpCv_-sH2mtS4_ujM2qr_R8h4pC-kn-Y7jljMrxmyqCvr-80B00-oIx17hnD00-oImw1mJo-tuB8h4pCnt1Lzzq1Q580tP2mtS02zL2mtS02zLtrvS02zL2mtSyin7BtrvS02zL2mtSpyquB2mtS59q7B2mtSj2_sP2mtS02zLyin7B9_h7D2jv29CpyquB81-sX9vosP-00vEkt0sHulnuBmt0sH9_h7Dxnj7BulnuBl3ssHulnuB2mtSlgyL0in7B9l04Fxnj7Bw-o-vE2mtSzupgXp826DksguB2mtShy8hdirx6DzzuLznj7B1-8tB7x76B6pwL7x76Bkrx6D411rHkpm6DtrvSh6r6D2mtSh4qoiC51ovE7x76Bzth9R9ljoI184hMmyxmN0u18R7_tjtC184hM-ljoI184hM-ljoI7vp8RtrvStolhMtrvS7x76Bs2ivE2mtS7x76Bs2ivEm336B51ovEm336Bs2ivE784sd2mtS2s-6Bw9sL2mtSm336Bw9sLt4g6Dm336Bx07tRm336Bzvvs2Io336B5gq1W4mw5D18z6Bsx9lD3uhmPv3otBv2q5Dv3otB38z6B9v4lDu2nqH7w60F38z6B2xpLoiw6B2xpLoiw6BxnrL2mtS8rltBtrvS-7nL1hgqHtrvS63t6Rp_ynI2mtSg8k6Yvj6lFwkqyyG-ml3U1w_00B88i7kB_5quEswnwwJ74mnImw1mJzrjlN9y9nThoqsOllu6Bs5tuE9i_mJs5tuEllu6Bx4zpCt4zuE2mtSjlu6B-ml3Uu8unI8h4pCjlu6Bmj5x5Bw-x6BhoqsO62oL8ykomHs5tuEvj6lFllu6Bs5tuE62oL8h4pCu-x6B2mtSt4zuE8h4pC62oLmw1mJjlu6B-ml3Uw-x6Bw1zlFw-x6Bm2grzEjlu6Bx15mmH-516B2l9jpRs5tuE24y_zYoiw6Bs-0sOu2nqHp_ynI38z6Bx4zpCw2nqHp_ynIj38uEx4zpCzh_-L3hgqHx4zpCw2nqH2mtS2xpLtt7uQ8h4pC-7nL_32uEgt4pH8h4pCzh_-Lw2o5Y83t6Rvj6lFoiw6B94wuEvj6lF-ns6B2mtSoiw6B8h4pCp2-4DtrvS3izioB-ns6B8715R38z6B-ovhoBr2-4D2mtS8715Rit4pH8h4pC-ns6B9uq-Lv4wpH_715R-ns6B41g-L2mtSqiw6Bj_p5Rit4pHw1zlFhos6B2-94vG9plpHt69mc8qq6B8h4pC67huEs-0sOx6nuEtrvS8qq6Bvj6lFq_spH2mtS8qq6BtrvSx6nuE8h4pCq_spHx4zpC5y0pHx4zpClhnLllu6Bx4zpCs_84Dx4zpCs_84Dx6nuE74mnIu5tuEo_spHt4zuE8h4pClhnL8qq6B2mtSlhnLk5y1tBq_84Dxrv-Lsn8pH6675Rpui5DtrvSq_84D2mtS62oLllu6B_9wlDjlu6Bpui5D98jpngBtrvS__y5Dg76qHqtqtBx4zpCj5ttBtrvS9516B32-uE2mtSu-x6BwisLvj6lFzsqL8h4pCwisL2yr3nLu35uE-ml3UzsqLmw1mJ32-uEwisL8h4pCwisL9516B2mtSzlqmDy056BwisL9516BglxtB2mtSnwirH2mtSglxtBvj6lFhx0tB2mtSnwirH-vyghBwrghMylqrHvlqhMuv5moBvlqhMyr9noBpv96Bx4zpC32-uE8h4pC12-uE8h4pCw056B25umcqv58Y0wvuyBs2ivEg06ghBvj6lFktip7Bx4zpC51ovEmqz8iBwivhM8h4pC-rqghBq2ivEtpnmNmx97R8h4pCzzuLh38uE8h4pCh38uE9x76B25umcw9sL8h4pC-ljoIx4zpC-ljoIs2ivEx4zpCvolhMtrvSh38uEtrvSm336Bmw1mJ1yx7R8h4pC8qmrH-ljoIh38uEii7nI9x76Bvj6lFw9sL2mtSxnrLvj6lF7lzqHwisLw35uE3p_9KwisL__y5D9516B3p_9KglxtB2mtSwisLtrvSu35uEwisLtrvSwisL2mtSgg_5D8h4pC_66qHwisLtrvSx4tL2mtS9516BtrvS9516Bwwj8RwisL8h4pCx4tL8h4pC9516B2mtSx4tL8h4pCl9630BtrvSgk-nIx4zpCx4tL8h4pC9516BtrvSw056B-nnoI9516By-zhMgg_5D8h4pCm93tB2mtSx4tLpv96B12-uEpv96B3wj6Dw056Bi2lvEx4tLwlqrH-t_mD8h4pCswjnD0w5rHrxx_Iw056Bvp7tBnv96Bx4tL2j06Dx4tLjt1pP1v2-Kw056B81_tB4t36V2j06D81_tBpmhsH81_tBh_h-J2mtSr4ynD2mtS-kxLnv96B1skgJtrvS2uvLiqh7Bo73nDiqh7Bk53hkBxt86Dls_4FgnhgKivluBxwn7DnjpniHqpxqaw5y5F7lgnO51vuBh7v7Dk8p40L2rhvPnw2uB49q7Byo2Lj5u7Bnw2uBhpuSh5u7Bwq9lF3o6ygChsy5vG6s7vqBhq2mcnmnrTzm6pC00gwEzm6pC20gwEhpuSh5u7Bzvr7kB00gwEggloNx55mJ00tmhB00gwEzm6pC9x0Lzm6pCs1ivuB80swE7397D30mwEh5u7Bg1jvfyo2L1kllMh5u7Byo2LhpuSjh5wP_ysiW64gvBgqj8Dwj3vqB_qquHpq61U8v7lc4uu8Dyosg1B2uu8D64hkWw0nvB64hkW-v27B8163UtwhvHw0nvBghnijBi55uH-t01G5zmocvp5jjBrwhvH8hqkjB-qkmW71l_kB9hj2Gj1ywEk7j7Q70mvOw14wE1m-8Duk9Ly14wEpt7L_8zmLp-ltjCgsq2GhpuS1sq9Duk9Ltn_7Bst1vBtn_7Bpt7L0pwojBuk9Li0g2P_24vH-nmoK4-v9D2g52Gt-l8Bg0g2P_1n3G37_LhpuS6pvoK6twS4-v9Dqji8Bwm79D37_Lhz19D42kxE37_L0mowH37_Lqji8B6twS37_Lh2_wE37_L6twSkzgMh2_wEt-l8BhpuSr-l8B37_L6twSqji8BkzgMwt-hex3qxEqji8Bum79Dv-3s4DhpuS2tm_DhpuS823wHhpuSr-l8B6twSkzgMhpuSkzgMr-l8Bwq9lF-5g_Dx3qxEr-l8B6twS22kxEy7p8BhpuSu4wxEr-l8Bwq9lF47xoMwq9lFjv-wHzm6pC0_krI547oMzm6pC22kxEzm6pC22kxE6twSw7p8Bwq9lFr-l8Bzm6pCu4wxEx55mJr-l8Bhx_-lrB8uhMm91pCroxq8C8uhM05r8B0yqsDt9n8Bt7u_D0yqsDhpuS8uhMt9n8BwnygGmg_9DwnygG6twSlslsDhpuSt3-Lt9n8BlslsDv9n8Bmg_9D8uhM3s49D5whwB6twS5whwB0lnie_h_vBzm6pCt3-L0iswHt3-L6twSqhk8Bt3-LhpuSqhk8Bt3-L\"\n",
    "r = requests.get(url, headers=headers)\n",
    "soup = bs4(r.content)"
   ]
  },
  {
   "cell_type": "code",
   "execution_count": 426,
   "metadata": {},
   "outputs": [],
   "source": [
    "with open(\"andalucia_7.txt\") as fp:\n",
    "    soup = bs4(fp)"
   ]
  },
  {
   "cell_type": "code",
   "execution_count": 427,
   "metadata": {},
   "outputs": [],
   "source": [
    "for precio in soup.select(\"span.re-CardPrice\"):\n",
    "    andalucia_precios.append(precio.text)"
   ]
  },
  {
   "cell_type": "code",
   "execution_count": 428,
   "metadata": {},
   "outputs": [],
   "source": [
    "for metro_cuadrado  in soup.select(\"span.re-CardFeaturesWithIcons-feature-icon.re-CardFeaturesWithIcons-feature-icon--surface\"):\n",
    "    andalucia_metro_cuadrado.append(metro_cuadrado.text)"
   ]
  },
  {
   "cell_type": "markdown",
   "metadata": {},
   "source": [
    "OCTAVA PÁGINA"
   ]
  },
  {
   "cell_type": "code",
   "execution_count": 431,
   "metadata": {},
   "outputs": [],
   "source": [
    "headers = {\n",
    "    'User-Agent': 'Mozilla/5.0 (Windows NT 10.0; Win64; x64) AppleWebKit/537.36 (KHTML, like Gecko) Chrome/58.0.3029.110 Safari/537.3'\n",
    "}\n",
    "url = \"https://www.fotocasa.es/es/comprar/terrenos/andalucia/todas-las-zonas/l/8?searchArea=7153mlisfyx_nL0iswHm-lpK1qkwHz3srjB2iswHnz6vBji1nL_182Gs5y9Dshk8B5g71Pshk8BxzwrDrlg8Blmt9D3qkwHig_Lrlg8Bl2zvBrlg8B2trrD6twSrlg8Bl2zvBhpuSig_L6twS7o8Llmt9D8y8vH1qlnMj70vH617wEu_p8wBwjtvHmjvsoC-x6zfhyxmMq4ysT0v961CxwmjZjr6sO3ovgiHx55mJ17ikZpu0oNr4oz4C4rviSzqnphBqsinJ_1nmM7pmsT617wEx6jy5B_0vwEqm0szEg4_oNx6jy5Bpu0oN-96m9_D_0vwEgpiimQ4pkqIwq9lF4pkqIwq9lFkz5oNg1r3U4pkqIgq78yC0r67Bhq2mcl1ywEw-q0uB4pkqIwq9lFkz5oNvpvoNy14wE2zvsO4pkqIwq9lF5usqIhq2mc5usqIzvr7kB60swEz4g7wD5usqIwq9lFvpvoNx55mJ-8jpNx6jy5BzigsTvv7o01C617wEhpuSwp87Bzm6pCr11wEhpuSwp87Bzm6pC5t47B17ikZ5t47Bwq9lFyjtvHhpuSwp87Br11wEhpuSyp87BhpuSwp87Bwq9lFyp87B7o8Lm91pCjslvHosoqIwp87Br11wEu8-kLr11wE7qplL209uHr11wE7qplL_0vwE5t47Br11wEmy07Br11wE4x6LhpuSz628Dv91uH6twS-mryP_hk5Qpu2kL5t47Bv1r8Dx-_6d564Lm91pCz628Dmy07B564Lzm6pC564Lmy07BhpuS2vivBzm6pC2vivB32w7B6twS2vivBmy07BhpuS2vivBumuuH-h-uBm91pC2vivBumuuHtz_wP_j3Lmy07B_j3L32w7Bg1vwE_j3LvvmuH-h-uBpri4d-h-uBvvmuH_j3L00jwE6_67Doy07BgpnjL-wg8D32w7B9m4uBvvmuHmu0iL5hyvPnwj3dy50uB04_tHy50uB7h3tH357uPnt1Lou0iLnt1L109vE81wuPqrvtHy50uBhpuSlgp7Bmh5oDzm6pCmh5oDhpuSu7s7BrsxuBhpuSnt1Llgp7BhpuS02zL52w7B02zLlgp7BhpuSnt1Lu7s7Bppq7D309vE02zL50ntH02zL309vE02zLlgp7B6twS02zLill7B02zLlgp7B6twSlgp7B02zLm91pC02zLs7yLx4zpCv_-sH2mtS4_ujM2qr_R8h4pC-kn-Y7jljMrxmyqCvr-80B00-oIx17hnD00-oImw1mJo-tuB8h4pCnt1Lzzq1Q580tP2mtS02zL2mtS02zLtrvS02zL2mtSyin7BtrvS02zL2mtSpyquB2mtS59q7B2mtSj2_sP2mtS02zLyin7B9_h7D2jv29CpyquB81-sX9vosP-00vEkt0sHulnuBmt0sH9_h7Dxnj7BulnuBl3ssHulnuB2mtSlgyL0in7B9l04Fxnj7Bw-o-vE2mtSzupgXp826DksguB2mtShy8hdirx6DzzuLznj7B1-8tB7x76B6pwL7x76Bkrx6D411rHkpm6DtrvSh6r6D2mtSh4qoiC51ovE7x76Bzth9R9ljoI184hMmyxmN0u18R7_tjtC184hM-ljoI184hM-ljoI7vp8RtrvStolhMtrvS7x76Bs2ivE2mtS7x76Bs2ivEm336B51ovEm336Bs2ivE784sd2mtS2s-6Bw9sL2mtSm336Bw9sLt4g6Dm336Bx07tRm336Bzvvs2Io336B5gq1W4mw5D18z6Bsx9lD3uhmPv3otBv2q5Dv3otB38z6B9v4lDu2nqH7w60F38z6B2xpLoiw6B2xpLoiw6BxnrL2mtS8rltBtrvS-7nL1hgqHtrvS63t6Rp_ynI2mtSg8k6Yvj6lFwkqyyG-ml3U1w_00B88i7kB_5quEswnwwJ74mnImw1mJzrjlN9y9nThoqsOllu6Bs5tuE9i_mJs5tuEllu6Bx4zpCt4zuE2mtSjlu6B-ml3Uu8unI8h4pCjlu6Bmj5x5Bw-x6BhoqsO62oL8ykomHs5tuEvj6lFllu6Bs5tuE62oL8h4pCu-x6B2mtSt4zuE8h4pC62oLmw1mJjlu6B-ml3Uw-x6Bw1zlFw-x6Bm2grzEjlu6Bx15mmH-516B2l9jpRs5tuE24y_zYoiw6Bs-0sOu2nqHp_ynI38z6Bx4zpCw2nqHp_ynIj38uEx4zpCzh_-L3hgqHx4zpCw2nqH2mtS2xpLtt7uQ8h4pC-7nL_32uEgt4pH8h4pCzh_-Lw2o5Y83t6Rvj6lFoiw6B94wuEvj6lF-ns6B2mtSoiw6B8h4pCp2-4DtrvS3izioB-ns6B8715R38z6B-ovhoBr2-4D2mtS8715Rit4pH8h4pC-ns6B9uq-Lv4wpH_715R-ns6B41g-L2mtSqiw6Bj_p5Rit4pHw1zlFhos6B2-94vG9plpHt69mc8qq6B8h4pC67huEs-0sOx6nuEtrvS8qq6Bvj6lFq_spH2mtS8qq6BtrvSx6nuE8h4pCq_spHx4zpC5y0pHx4zpClhnLllu6Bx4zpCs_84Dx4zpCs_84Dx6nuE74mnIu5tuEo_spHt4zuE8h4pClhnL8qq6B2mtSlhnLk5y1tBq_84Dxrv-Lsn8pH6675Rpui5DtrvSq_84D2mtS62oLllu6B_9wlDjlu6Bpui5D98jpngBtrvS__y5Dg76qHqtqtBx4zpCj5ttBtrvS9516B32-uE2mtSu-x6BwisLvj6lFzsqL8h4pCwisL2yr3nLu35uE-ml3UzsqLmw1mJ32-uEwisL8h4pCwisL9516B2mtSzlqmDy056BwisL9516BglxtB2mtSnwirH2mtSglxtBvj6lFhx0tB2mtSnwirH-vyghBwrghMylqrHvlqhMuv5moBvlqhMyr9noBpv96Bx4zpC32-uE8h4pC12-uE8h4pCw056B25umcqv58Y0wvuyBs2ivEg06ghBvj6lFktip7Bx4zpC51ovEmqz8iBwivhM8h4pC-rqghBq2ivEtpnmNmx97R8h4pCzzuLh38uE8h4pCh38uE9x76B25umcw9sL8h4pC-ljoIx4zpC-ljoIs2ivEx4zpCvolhMtrvSh38uEtrvSm336Bmw1mJ1yx7R8h4pC8qmrH-ljoIh38uEii7nI9x76Bvj6lFw9sL2mtSxnrLvj6lF7lzqHwisLw35uE3p_9KwisL__y5D9516B3p_9KglxtB2mtSwisLtrvSu35uEwisLtrvSwisL2mtSgg_5D8h4pC_66qHwisLtrvSx4tL2mtS9516BtrvS9516Bwwj8RwisL8h4pCx4tL8h4pC9516B2mtSx4tL8h4pCl9630BtrvSgk-nIx4zpCx4tL8h4pC9516BtrvSw056B-nnoI9516By-zhMgg_5D8h4pCm93tB2mtSx4tLpv96B12-uEpv96B3wj6Dw056Bi2lvEx4tLwlqrH-t_mD8h4pCswjnD0w5rHrxx_Iw056Bvp7tBnv96Bx4tL2j06Dx4tLjt1pP1v2-Kw056B81_tB4t36V2j06D81_tBpmhsH81_tBh_h-J2mtSr4ynD2mtS-kxLnv96B1skgJtrvS2uvLiqh7Bo73nDiqh7Bk53hkBxt86Dls_4FgnhgKivluBxwn7DnjpniHqpxqaw5y5F7lgnO51vuBh7v7Dk8p40L2rhvPnw2uB49q7Byo2Lj5u7Bnw2uBhpuSh5u7Bwq9lF3o6ygChsy5vG6s7vqBhq2mcnmnrTzm6pC00gwEzm6pC20gwEhpuSh5u7Bzvr7kB00gwEggloNx55mJ00tmhB00gwEzm6pC9x0Lzm6pCs1ivuB80swE7397D30mwEh5u7Bg1jvfyo2L1kllMh5u7Byo2LhpuSjh5wP_ysiW64gvBgqj8Dwj3vqB_qquHpq61U8v7lc4uu8Dyosg1B2uu8D64hkWw0nvB64hkW-v27B8163UtwhvHw0nvBghnijBi55uH-t01G5zmocvp5jjBrwhvH8hqkjB-qkmW71l_kB9hj2Gj1ywEk7j7Q70mvOw14wE1m-8Duk9Ly14wEpt7L_8zmLp-ltjCgsq2GhpuS1sq9Duk9Ltn_7Bst1vBtn_7Bpt7L0pwojBuk9Li0g2P_24vH-nmoK4-v9D2g52Gt-l8Bg0g2P_1n3G37_LhpuS6pvoK6twS4-v9Dqji8Bwm79D37_Lhz19D42kxE37_L0mowH37_Lqji8B6twS37_Lh2_wE37_L6twSkzgMh2_wEt-l8BhpuSr-l8B37_L6twSqji8BkzgMwt-hex3qxEqji8Bum79Dv-3s4DhpuS2tm_DhpuS823wHhpuSr-l8B6twSkzgMhpuSkzgMr-l8Bwq9lF-5g_Dx3qxEr-l8B6twS22kxEy7p8BhpuSu4wxEr-l8Bwq9lF47xoMwq9lFjv-wHzm6pC0_krI547oMzm6pC22kxEzm6pC22kxE6twSw7p8Bwq9lFr-l8Bzm6pCu4wxEx55mJr-l8Bhx_-lrB8uhMm91pCroxq8C8uhM05r8B0yqsDt9n8Bt7u_D0yqsDhpuS8uhMt9n8BwnygGmg_9DwnygG6twSlslsDhpuSt3-Lt9n8BlslsDv9n8Bmg_9D8uhM3s49D5whwB6twS5whwB0lnie_h_vBzm6pCt3-L0iswHt3-L6twSqhk8Bt3-LhpuSqhk8Bt3-L\"\n",
    "r = requests.get(url, headers=headers)\n",
    "soup = bs4(r.content)"
   ]
  },
  {
   "cell_type": "code",
   "execution_count": 432,
   "metadata": {},
   "outputs": [],
   "source": [
    "with open(\"andalucia_8.txt\") as fp:\n",
    "    soup = bs4(fp)"
   ]
  },
  {
   "cell_type": "code",
   "execution_count": 433,
   "metadata": {},
   "outputs": [],
   "source": [
    "for precio in soup.select(\"span.re-CardPrice\"):\n",
    "    andalucia_precios.append(precio.text)"
   ]
  },
  {
   "cell_type": "code",
   "execution_count": 441,
   "metadata": {},
   "outputs": [],
   "source": [
    "for metro_cuadrado  in soup.select(\"li.re-CardFeatures-item.re-CardFeatures-feature\"):\n",
    "    andalucia_metro_cuadrado.append(metro_cuadrado.text)"
   ]
  },
  {
   "cell_type": "markdown",
   "metadata": {},
   "source": [
    "NOVENA PÁGINA"
   ]
  },
  {
   "cell_type": "code",
   "execution_count": 443,
   "metadata": {},
   "outputs": [],
   "source": [
    "headers = {\n",
    "    'User-Agent': 'Mozilla/5.0 (Windows NT 10.0; Win64; x64) AppleWebKit/537.36 (KHTML, like Gecko) Chrome/58.0.3029.110 Safari/537.3'\n",
    "}\n",
    "url = \"https://www.fotocasa.es/es/comprar/terrenos/andalucia/todas-las-zonas/l/9?searchArea=7153mlisfyx_nL0iswHm-lpK1qkwHz3srjB2iswHnz6vBji1nL_182Gs5y9Dshk8B5g71Pshk8BxzwrDrlg8Blmt9D3qkwHig_Lrlg8Bl2zvBrlg8B2trrD6twSrlg8Bl2zvBhpuSig_L6twS7o8Llmt9D8y8vH1qlnMj70vH617wEu_p8wBwjtvHmjvsoC-x6zfhyxmMq4ysT0v961CxwmjZjr6sO3ovgiHx55mJ17ikZpu0oNr4oz4C4rviSzqnphBqsinJ_1nmM7pmsT617wEx6jy5B_0vwEqm0szEg4_oNx6jy5Bpu0oN-96m9_D_0vwEgpiimQ4pkqIwq9lF4pkqIwq9lFkz5oNg1r3U4pkqIgq78yC0r67Bhq2mcl1ywEw-q0uB4pkqIwq9lFkz5oNvpvoNy14wE2zvsO4pkqIwq9lF5usqIhq2mc5usqIzvr7kB60swEz4g7wD5usqIwq9lFvpvoNx55mJ-8jpNx6jy5BzigsTvv7o01C617wEhpuSwp87Bzm6pCr11wEhpuSwp87Bzm6pC5t47B17ikZ5t47Bwq9lFyjtvHhpuSwp87Br11wEhpuSyp87BhpuSwp87Bwq9lFyp87B7o8Lm91pCjslvHosoqIwp87Br11wEu8-kLr11wE7qplL209uHr11wE7qplL_0vwE5t47Br11wEmy07Br11wE4x6LhpuSz628Dv91uH6twS-mryP_hk5Qpu2kL5t47Bv1r8Dx-_6d564Lm91pCz628Dmy07B564Lzm6pC564Lmy07BhpuS2vivBzm6pC2vivB32w7B6twS2vivBmy07BhpuS2vivBumuuH-h-uBm91pC2vivBumuuHtz_wP_j3Lmy07B_j3L32w7Bg1vwE_j3LvvmuH-h-uBpri4d-h-uBvvmuH_j3L00jwE6_67Doy07BgpnjL-wg8D32w7B9m4uBvvmuHmu0iL5hyvPnwj3dy50uB04_tHy50uB7h3tH357uPnt1Lou0iLnt1L109vE81wuPqrvtHy50uBhpuSlgp7Bmh5oDzm6pCmh5oDhpuSu7s7BrsxuBhpuSnt1Llgp7BhpuS02zL52w7B02zLlgp7BhpuSnt1Lu7s7Bppq7D309vE02zL50ntH02zL309vE02zLlgp7B6twS02zLill7B02zLlgp7B6twSlgp7B02zLm91pC02zLs7yLx4zpCv_-sH2mtS4_ujM2qr_R8h4pC-kn-Y7jljMrxmyqCvr-80B00-oIx17hnD00-oImw1mJo-tuB8h4pCnt1Lzzq1Q580tP2mtS02zL2mtS02zLtrvS02zL2mtSyin7BtrvS02zL2mtSpyquB2mtS59q7B2mtSj2_sP2mtS02zLyin7B9_h7D2jv29CpyquB81-sX9vosP-00vEkt0sHulnuBmt0sH9_h7Dxnj7BulnuBl3ssHulnuB2mtSlgyL0in7B9l04Fxnj7Bw-o-vE2mtSzupgXp826DksguB2mtShy8hdirx6DzzuLznj7B1-8tB7x76B6pwL7x76Bkrx6D411rHkpm6DtrvSh6r6D2mtSh4qoiC51ovE7x76Bzth9R9ljoI184hMmyxmN0u18R7_tjtC184hM-ljoI184hM-ljoI7vp8RtrvStolhMtrvS7x76Bs2ivE2mtS7x76Bs2ivEm336B51ovEm336Bs2ivE784sd2mtS2s-6Bw9sL2mtSm336Bw9sLt4g6Dm336Bx07tRm336Bzvvs2Io336B5gq1W4mw5D18z6Bsx9lD3uhmPv3otBv2q5Dv3otB38z6B9v4lDu2nqH7w60F38z6B2xpLoiw6B2xpLoiw6BxnrL2mtS8rltBtrvS-7nL1hgqHtrvS63t6Rp_ynI2mtSg8k6Yvj6lFwkqyyG-ml3U1w_00B88i7kB_5quEswnwwJ74mnImw1mJzrjlN9y9nThoqsOllu6Bs5tuE9i_mJs5tuEllu6Bx4zpCt4zuE2mtSjlu6B-ml3Uu8unI8h4pCjlu6Bmj5x5Bw-x6BhoqsO62oL8ykomHs5tuEvj6lFllu6Bs5tuE62oL8h4pCu-x6B2mtSt4zuE8h4pC62oLmw1mJjlu6B-ml3Uw-x6Bw1zlFw-x6Bm2grzEjlu6Bx15mmH-516B2l9jpRs5tuE24y_zYoiw6Bs-0sOu2nqHp_ynI38z6Bx4zpCw2nqHp_ynIj38uEx4zpCzh_-L3hgqHx4zpCw2nqH2mtS2xpLtt7uQ8h4pC-7nL_32uEgt4pH8h4pCzh_-Lw2o5Y83t6Rvj6lFoiw6B94wuEvj6lF-ns6B2mtSoiw6B8h4pCp2-4DtrvS3izioB-ns6B8715R38z6B-ovhoBr2-4D2mtS8715Rit4pH8h4pC-ns6B9uq-Lv4wpH_715R-ns6B41g-L2mtSqiw6Bj_p5Rit4pHw1zlFhos6B2-94vG9plpHt69mc8qq6B8h4pC67huEs-0sOx6nuEtrvS8qq6Bvj6lFq_spH2mtS8qq6BtrvSx6nuE8h4pCq_spHx4zpC5y0pHx4zpClhnLllu6Bx4zpCs_84Dx4zpCs_84Dx6nuE74mnIu5tuEo_spHt4zuE8h4pClhnL8qq6B2mtSlhnLk5y1tBq_84Dxrv-Lsn8pH6675Rpui5DtrvSq_84D2mtS62oLllu6B_9wlDjlu6Bpui5D98jpngBtrvS__y5Dg76qHqtqtBx4zpCj5ttBtrvS9516B32-uE2mtSu-x6BwisLvj6lFzsqL8h4pCwisL2yr3nLu35uE-ml3UzsqLmw1mJ32-uEwisL8h4pCwisL9516B2mtSzlqmDy056BwisL9516BglxtB2mtSnwirH2mtSglxtBvj6lFhx0tB2mtSnwirH-vyghBwrghMylqrHvlqhMuv5moBvlqhMyr9noBpv96Bx4zpC32-uE8h4pC12-uE8h4pCw056B25umcqv58Y0wvuyBs2ivEg06ghBvj6lFktip7Bx4zpC51ovEmqz8iBwivhM8h4pC-rqghBq2ivEtpnmNmx97R8h4pCzzuLh38uE8h4pCh38uE9x76B25umcw9sL8h4pC-ljoIx4zpC-ljoIs2ivEx4zpCvolhMtrvSh38uEtrvSm336Bmw1mJ1yx7R8h4pC8qmrH-ljoIh38uEii7nI9x76Bvj6lFw9sL2mtSxnrLvj6lF7lzqHwisLw35uE3p_9KwisL__y5D9516B3p_9KglxtB2mtSwisLtrvSu35uEwisLtrvSwisL2mtSgg_5D8h4pC_66qHwisLtrvSx4tL2mtS9516BtrvS9516Bwwj8RwisL8h4pCx4tL8h4pC9516B2mtSx4tL8h4pCl9630BtrvSgk-nIx4zpCx4tL8h4pC9516BtrvSw056B-nnoI9516By-zhMgg_5D8h4pCm93tB2mtSx4tLpv96B12-uEpv96B3wj6Dw056Bi2lvEx4tLwlqrH-t_mD8h4pCswjnD0w5rHrxx_Iw056Bvp7tBnv96Bx4tL2j06Dx4tLjt1pP1v2-Kw056B81_tB4t36V2j06D81_tBpmhsH81_tBh_h-J2mtSr4ynD2mtS-kxLnv96B1skgJtrvS2uvLiqh7Bo73nDiqh7Bk53hkBxt86Dls_4FgnhgKivluBxwn7DnjpniHqpxqaw5y5F7lgnO51vuBh7v7Dk8p40L2rhvPnw2uB49q7Byo2Lj5u7Bnw2uBhpuSh5u7Bwq9lF3o6ygChsy5vG6s7vqBhq2mcnmnrTzm6pC00gwEzm6pC20gwEhpuSh5u7Bzvr7kB00gwEggloNx55mJ00tmhB00gwEzm6pC9x0Lzm6pCs1ivuB80swE7397D30mwEh5u7Bg1jvfyo2L1kllMh5u7Byo2LhpuSjh5wP_ysiW64gvBgqj8Dwj3vqB_qquHpq61U8v7lc4uu8Dyosg1B2uu8D64hkWw0nvB64hkW-v27B8163UtwhvHw0nvBghnijBi55uH-t01G5zmocvp5jjBrwhvH8hqkjB-qkmW71l_kB9hj2Gj1ywEk7j7Q70mvOw14wE1m-8Duk9Ly14wEpt7L_8zmLp-ltjCgsq2GhpuS1sq9Duk9Ltn_7Bst1vBtn_7Bpt7L0pwojBuk9Li0g2P_24vH-nmoK4-v9D2g52Gt-l8Bg0g2P_1n3G37_LhpuS6pvoK6twS4-v9Dqji8Bwm79D37_Lhz19D42kxE37_L0mowH37_Lqji8B6twS37_Lh2_wE37_L6twSkzgMh2_wEt-l8BhpuSr-l8B37_L6twSqji8BkzgMwt-hex3qxEqji8Bum79Dv-3s4DhpuS2tm_DhpuS823wHhpuSr-l8B6twSkzgMhpuSkzgMr-l8Bwq9lF-5g_Dx3qxEr-l8B6twS22kxEy7p8BhpuSu4wxEr-l8Bwq9lF47xoMwq9lFjv-wHzm6pC0_krI547oMzm6pC22kxEzm6pC22kxE6twSw7p8Bwq9lFr-l8Bzm6pCu4wxEx55mJr-l8Bhx_-lrB8uhMm91pCroxq8C8uhM05r8B0yqsDt9n8Bt7u_D0yqsDhpuS8uhMt9n8BwnygGmg_9DwnygG6twSlslsDhpuSt3-Lt9n8BlslsDv9n8Bmg_9D8uhM3s49D5whwB6twS5whwB0lnie_h_vBzm6pCt3-L0iswHt3-L6twSqhk8Bt3-LhpuSqhk8Bt3-L\"\n",
    "r = requests.get(url, headers=headers)\n",
    "soup = bs4(r.content)"
   ]
  },
  {
   "cell_type": "code",
   "execution_count": 444,
   "metadata": {},
   "outputs": [],
   "source": [
    "with open(\"andalucia_9.txt\") as fp:\n",
    "    soup = bs4(fp)"
   ]
  },
  {
   "cell_type": "code",
   "execution_count": 445,
   "metadata": {},
   "outputs": [],
   "source": [
    "for precio in soup.select(\"span.re-CardPrice\"):\n",
    "    andalucia_precios.append(precio.text)"
   ]
  },
  {
   "cell_type": "code",
   "execution_count": 446,
   "metadata": {},
   "outputs": [],
   "source": [
    "for metro_cuadrado  in soup.select(\"li.re-CardFeatures-item.re-CardFeatures-feature\"):\n",
    "    andalucia_metro_cuadrado.append(metro_cuadrado.text)"
   ]
  },
  {
   "cell_type": "markdown",
   "metadata": {},
   "source": [
    "DÉCIMA PÁGINA"
   ]
  },
  {
   "cell_type": "code",
   "execution_count": 449,
   "metadata": {},
   "outputs": [],
   "source": [
    "headers = {\n",
    "    'User-Agent': 'Mozilla/5.0 (Windows NT 10.0; Win64; x64) AppleWebKit/537.36 (KHTML, like Gecko) Chrome/58.0.3029.110 Safari/537.3'\n",
    "}\n",
    "url = \"https://www.fotocasa.es/es/comprar/terrenos/andalucia/todas-las-zonas/l/10?searchArea=7153mlisfyx_nL0iswHm-lpK1qkwHz3srjB2iswHnz6vBji1nL_182Gs5y9Dshk8B5g71Pshk8BxzwrDrlg8Blmt9D3qkwHig_Lrlg8Bl2zvBrlg8B2trrD6twSrlg8Bl2zvBhpuSig_L6twS7o8Llmt9D8y8vH1qlnMj70vH617wEu_p8wBwjtvHmjvsoC-x6zfhyxmMq4ysT0v961CxwmjZjr6sO3ovgiHx55mJ17ikZpu0oNr4oz4C4rviSzqnphBqsinJ_1nmM7pmsT617wEx6jy5B_0vwEqm0szEg4_oNx6jy5Bpu0oN-96m9_D_0vwEgpiimQ4pkqIwq9lF4pkqIwq9lFkz5oNg1r3U4pkqIgq78yC0r67Bhq2mcl1ywEw-q0uB4pkqIwq9lFkz5oNvpvoNy14wE2zvsO4pkqIwq9lF5usqIhq2mc5usqIzvr7kB60swEz4g7wD5usqIwq9lFvpvoNx55mJ-8jpNx6jy5BzigsTvv7o01C617wEhpuSwp87Bzm6pCr11wEhpuSwp87Bzm6pC5t47B17ikZ5t47Bwq9lFyjtvHhpuSwp87Br11wEhpuSyp87BhpuSwp87Bwq9lFyp87B7o8Lm91pCjslvHosoqIwp87Br11wEu8-kLr11wE7qplL209uHr11wE7qplL_0vwE5t47Br11wEmy07Br11wE4x6LhpuSz628Dv91uH6twS-mryP_hk5Qpu2kL5t47Bv1r8Dx-_6d564Lm91pCz628Dmy07B564Lzm6pC564Lmy07BhpuS2vivBzm6pC2vivB32w7B6twS2vivBmy07BhpuS2vivBumuuH-h-uBm91pC2vivBumuuHtz_wP_j3Lmy07B_j3L32w7Bg1vwE_j3LvvmuH-h-uBpri4d-h-uBvvmuH_j3L00jwE6_67Doy07BgpnjL-wg8D32w7B9m4uBvvmuHmu0iL5hyvPnwj3dy50uB04_tHy50uB7h3tH357uPnt1Lou0iLnt1L109vE81wuPqrvtHy50uBhpuSlgp7Bmh5oDzm6pCmh5oDhpuSu7s7BrsxuBhpuSnt1Llgp7BhpuS02zL52w7B02zLlgp7BhpuSnt1Lu7s7Bppq7D309vE02zL50ntH02zL309vE02zLlgp7B6twS02zLill7B02zLlgp7B6twSlgp7B02zLm91pC02zLs7yLx4zpCv_-sH2mtS4_ujM2qr_R8h4pC-kn-Y7jljMrxmyqCvr-80B00-oIx17hnD00-oImw1mJo-tuB8h4pCnt1Lzzq1Q580tP2mtS02zL2mtS02zLtrvS02zL2mtSyin7BtrvS02zL2mtSpyquB2mtS59q7B2mtSj2_sP2mtS02zLyin7B9_h7D2jv29CpyquB81-sX9vosP-00vEkt0sHulnuBmt0sH9_h7Dxnj7BulnuBl3ssHulnuB2mtSlgyL0in7B9l04Fxnj7Bw-o-vE2mtSzupgXp826DksguB2mtShy8hdirx6DzzuLznj7B1-8tB7x76B6pwL7x76Bkrx6D411rHkpm6DtrvSh6r6D2mtSh4qoiC51ovE7x76Bzth9R9ljoI184hMmyxmN0u18R7_tjtC184hM-ljoI184hM-ljoI7vp8RtrvStolhMtrvS7x76Bs2ivE2mtS7x76Bs2ivEm336B51ovEm336Bs2ivE784sd2mtS2s-6Bw9sL2mtSm336Bw9sLt4g6Dm336Bx07tRm336Bzvvs2Io336B5gq1W4mw5D18z6Bsx9lD3uhmPv3otBv2q5Dv3otB38z6B9v4lDu2nqH7w60F38z6B2xpLoiw6B2xpLoiw6BxnrL2mtS8rltBtrvS-7nL1hgqHtrvS63t6Rp_ynI2mtSg8k6Yvj6lFwkqyyG-ml3U1w_00B88i7kB_5quEswnwwJ74mnImw1mJzrjlN9y9nThoqsOllu6Bs5tuE9i_mJs5tuEllu6Bx4zpCt4zuE2mtSjlu6B-ml3Uu8unI8h4pCjlu6Bmj5x5Bw-x6BhoqsO62oL8ykomHs5tuEvj6lFllu6Bs5tuE62oL8h4pCu-x6B2mtSt4zuE8h4pC62oLmw1mJjlu6B-ml3Uw-x6Bw1zlFw-x6Bm2grzEjlu6Bx15mmH-516B2l9jpRs5tuE24y_zYoiw6Bs-0sOu2nqHp_ynI38z6Bx4zpCw2nqHp_ynIj38uEx4zpCzh_-L3hgqHx4zpCw2nqH2mtS2xpLtt7uQ8h4pC-7nL_32uEgt4pH8h4pCzh_-Lw2o5Y83t6Rvj6lFoiw6B94wuEvj6lF-ns6B2mtSoiw6B8h4pCp2-4DtrvS3izioB-ns6B8715R38z6B-ovhoBr2-4D2mtS8715Rit4pH8h4pC-ns6B9uq-Lv4wpH_715R-ns6B41g-L2mtSqiw6Bj_p5Rit4pHw1zlFhos6B2-94vG9plpHt69mc8qq6B8h4pC67huEs-0sOx6nuEtrvS8qq6Bvj6lFq_spH2mtS8qq6BtrvSx6nuE8h4pCq_spHx4zpC5y0pHx4zpClhnLllu6Bx4zpCs_84Dx4zpCs_84Dx6nuE74mnIu5tuEo_spHt4zuE8h4pClhnL8qq6B2mtSlhnLk5y1tBq_84Dxrv-Lsn8pH6675Rpui5DtrvSq_84D2mtS62oLllu6B_9wlDjlu6Bpui5D98jpngBtrvS__y5Dg76qHqtqtBx4zpCj5ttBtrvS9516B32-uE2mtSu-x6BwisLvj6lFzsqL8h4pCwisL2yr3nLu35uE-ml3UzsqLmw1mJ32-uEwisL8h4pCwisL9516B2mtSzlqmDy056BwisL9516BglxtB2mtSnwirH2mtSglxtBvj6lFhx0tB2mtSnwirH-vyghBwrghMylqrHvlqhMuv5moBvlqhMyr9noBpv96Bx4zpC32-uE8h4pC12-uE8h4pCw056B25umcqv58Y0wvuyBs2ivEg06ghBvj6lFktip7Bx4zpC51ovEmqz8iBwivhM8h4pC-rqghBq2ivEtpnmNmx97R8h4pCzzuLh38uE8h4pCh38uE9x76B25umcw9sL8h4pC-ljoIx4zpC-ljoIs2ivEx4zpCvolhMtrvSh38uEtrvSm336Bmw1mJ1yx7R8h4pC8qmrH-ljoIh38uEii7nI9x76Bvj6lFw9sL2mtSxnrLvj6lF7lzqHwisLw35uE3p_9KwisL__y5D9516B3p_9KglxtB2mtSwisLtrvSu35uEwisLtrvSwisL2mtSgg_5D8h4pC_66qHwisLtrvSx4tL2mtS9516BtrvS9516Bwwj8RwisL8h4pCx4tL8h4pC9516B2mtSx4tL8h4pCl9630BtrvSgk-nIx4zpCx4tL8h4pC9516BtrvSw056B-nnoI9516By-zhMgg_5D8h4pCm93tB2mtSx4tLpv96B12-uEpv96B3wj6Dw056Bi2lvEx4tLwlqrH-t_mD8h4pCswjnD0w5rHrxx_Iw056Bvp7tBnv96Bx4tL2j06Dx4tLjt1pP1v2-Kw056B81_tB4t36V2j06D81_tBpmhsH81_tBh_h-J2mtSr4ynD2mtS-kxLnv96B1skgJtrvS2uvLiqh7Bo73nDiqh7Bk53hkBxt86Dls_4FgnhgKivluBxwn7DnjpniHqpxqaw5y5F7lgnO51vuBh7v7Dk8p40L2rhvPnw2uB49q7Byo2Lj5u7Bnw2uBhpuSh5u7Bwq9lF3o6ygChsy5vG6s7vqBhq2mcnmnrTzm6pC00gwEzm6pC20gwEhpuSh5u7Bzvr7kB00gwEggloNx55mJ00tmhB00gwEzm6pC9x0Lzm6pCs1ivuB80swE7397D30mwEh5u7Bg1jvfyo2L1kllMh5u7Byo2LhpuSjh5wP_ysiW64gvBgqj8Dwj3vqB_qquHpq61U8v7lc4uu8Dyosg1B2uu8D64hkWw0nvB64hkW-v27B8163UtwhvHw0nvBghnijBi55uH-t01G5zmocvp5jjBrwhvH8hqkjB-qkmW71l_kB9hj2Gj1ywEk7j7Q70mvOw14wE1m-8Duk9Ly14wEpt7L_8zmLp-ltjCgsq2GhpuS1sq9Duk9Ltn_7Bst1vBtn_7Bpt7L0pwojBuk9Li0g2P_24vH-nmoK4-v9D2g52Gt-l8Bg0g2P_1n3G37_LhpuS6pvoK6twS4-v9Dqji8Bwm79D37_Lhz19D42kxE37_L0mowH37_Lqji8B6twS37_Lh2_wE37_L6twSkzgMh2_wEt-l8BhpuSr-l8B37_L6twSqji8BkzgMwt-hex3qxEqji8Bum79Dv-3s4DhpuS2tm_DhpuS823wHhpuSr-l8B6twSkzgMhpuSkzgMr-l8Bwq9lF-5g_Dx3qxEr-l8B6twS22kxEy7p8BhpuSu4wxEr-l8Bwq9lF47xoMwq9lFjv-wHzm6pC0_krI547oMzm6pC22kxEzm6pC22kxE6twSw7p8Bwq9lFr-l8Bzm6pCu4wxEx55mJr-l8Bhx_-lrB8uhMm91pCroxq8C8uhM05r8B0yqsDt9n8Bt7u_D0yqsDhpuS8uhMt9n8BwnygGmg_9DwnygG6twSlslsDhpuSt3-Lt9n8BlslsDv9n8Bmg_9D8uhM3s49D5whwB6twS5whwB0lnie_h_vBzm6pCt3-L0iswHt3-L6twSqhk8Bt3-LhpuSqhk8Bt3-L\"\n",
    "r = requests.get(url, headers=headers)\n",
    "soup = bs4(r.content)"
   ]
  },
  {
   "cell_type": "code",
   "execution_count": 450,
   "metadata": {},
   "outputs": [],
   "source": [
    "with open(\"andalucia_10.txt\") as fp:\n",
    "    soup = bs4(fp)"
   ]
  },
  {
   "cell_type": "code",
   "execution_count": 451,
   "metadata": {},
   "outputs": [],
   "source": [
    "for precio in soup.select(\"span.re-CardPrice\"):\n",
    "    andalucia_precios.append(precio.text)"
   ]
  },
  {
   "cell_type": "code",
   "execution_count": 452,
   "metadata": {},
   "outputs": [],
   "source": [
    "for metro_cuadrado  in soup.select(\"li.re-CardFeatures-item.re-CardFeatures-feature\"):\n",
    "    andalucia_metro_cuadrado.append(metro_cuadrado.text)"
   ]
  },
  {
   "cell_type": "markdown",
   "metadata": {},
   "source": [
    "## SUELO URBANIZABLE CANTABRIA"
   ]
  },
  {
   "cell_type": "markdown",
   "metadata": {},
   "source": [
    "Ahora bien, tras haber obtenido los datos de las 10 primera páginas del búscador de fotocasa filtrando por Andalucía, haremos lo mismo pero con Cantabria. "
   ]
  },
  {
   "cell_type": "markdown",
   "metadata": {},
   "source": [
    "PRIMERA PÁGINA"
   ]
  },
  {
   "cell_type": "code",
   "execution_count": 453,
   "metadata": {},
   "outputs": [],
   "source": [
    "headers = {\n",
    "    'User-Agent': 'Mozilla/5.0 (Windows NT 10.0; Win64; x64) AppleWebKit/537.36 (KHTML, like Gecko) Chrome/58.0.3029.110 Safari/537.3'\n",
    "}\n",
    "url = \"https://www.fotocasa.es/es/comprar/terrenos/cantabria-provincia/todas-las-zonas/l\"\n",
    "r = requests.get(url, headers=headers)\n",
    "soup = bs4(r.content)\n"
   ]
  },
  {
   "cell_type": "code",
   "execution_count": 454,
   "metadata": {},
   "outputs": [],
   "source": [
    "with open(\"cantabria_1.txt\") as fp:\n",
    "    soup = bs4(fp)"
   ]
  },
  {
   "cell_type": "code",
   "execution_count": 455,
   "metadata": {},
   "outputs": [],
   "source": [
    "cantabria_precios= []\n",
    "\n",
    "for precio in soup.select(\"span.re-CardPrice\"):\n",
    "    cantabria_precios.append(precio.text)"
   ]
  },
  {
   "cell_type": "code",
   "execution_count": 457,
   "metadata": {},
   "outputs": [],
   "source": [
    "cantabria_metro_cuadrado = []\n",
    "\n",
    "for metro_cuadrado  in soup.select(\"li.re-CardFeatures-item.re-CardFeatures-feature\"):\n",
    "    cantabria_metro_cuadrado.append(metro_cuadrado.text)"
   ]
  },
  {
   "cell_type": "markdown",
   "metadata": {},
   "source": [
    "SEGUNDA PÁGINA"
   ]
  },
  {
   "cell_type": "code",
   "execution_count": 459,
   "metadata": {},
   "outputs": [],
   "source": [
    "headers = {\n",
    "    'User-Agent': 'Mozilla/5.0 (Windows NT 10.0; Win64; x64) AppleWebKit/537.36 (KHTML, like Gecko) Chrome/58.0.3029.110 Safari/537.3'\n",
    "}\n",
    "url = \"https://www.fotocasa.es/es/comprar/terrenos/cantabria-provincia/todas-las-zonas/l/2\"\n",
    "r = requests.get(url, headers=headers)\n",
    "soup = bs4(r.content)\n"
   ]
  },
  {
   "cell_type": "code",
   "execution_count": 460,
   "metadata": {},
   "outputs": [],
   "source": [
    "with open(\"cantabria_2.txt\") as fp:\n",
    "    soup = bs4(fp)"
   ]
  },
  {
   "cell_type": "code",
   "execution_count": 461,
   "metadata": {},
   "outputs": [],
   "source": [
    "for precio in soup.select(\"span.re-CardPrice\"):\n",
    "    cantabria_precios.append(precio.text)"
   ]
  },
  {
   "cell_type": "code",
   "execution_count": 462,
   "metadata": {},
   "outputs": [],
   "source": [
    "for metro_cuadrado  in soup.select(\"li.re-CardFeatures-item.re-CardFeatures-feature\"):\n",
    "    cantabria_metro_cuadrado.append(metro_cuadrado.text)"
   ]
  },
  {
   "cell_type": "markdown",
   "metadata": {},
   "source": [
    "TERCERA PÁGINA"
   ]
  },
  {
   "cell_type": "code",
   "execution_count": 464,
   "metadata": {},
   "outputs": [],
   "source": [
    "headers = {\n",
    "    'User-Agent': 'Mozilla/5.0 (Windows NT 10.0; Win64; x64) AppleWebKit/537.36 (KHTML, like Gecko) Chrome/58.0.3029.110 Safari/537.3'\n",
    "}\n",
    "url = \"https://www.fotocasa.es/es/comprar/terrenos/cantabria-provincia/todas-las-zonas/l/3\"\n",
    "r = requests.get(url, headers=headers)\n",
    "soup = bs4(r.content)"
   ]
  },
  {
   "cell_type": "code",
   "execution_count": 465,
   "metadata": {},
   "outputs": [],
   "source": [
    "with open(\"cantabria_3.txt\") as fp:\n",
    "    soup = bs4(fp)"
   ]
  },
  {
   "cell_type": "code",
   "execution_count": 466,
   "metadata": {},
   "outputs": [],
   "source": [
    "for precio in soup.select(\"span.re-CardPrice\"):\n",
    "    cantabria_precios.append(precio.text)"
   ]
  },
  {
   "cell_type": "code",
   "execution_count": 467,
   "metadata": {},
   "outputs": [],
   "source": [
    "for metro_cuadrado  in soup.select(\"li.re-CardFeatures-item.re-CardFeatures-feature\"):\n",
    "    cantabria_metro_cuadrado.append(metro_cuadrado.text)"
   ]
  },
  {
   "cell_type": "markdown",
   "metadata": {},
   "source": [
    "CUARTA PÁGINA"
   ]
  },
  {
   "cell_type": "code",
   "execution_count": 468,
   "metadata": {},
   "outputs": [],
   "source": [
    "headers = {\n",
    "    'User-Agent': 'Mozilla/5.0 (Windows NT 10.0; Win64; x64) AppleWebKit/537.36 (KHTML, like Gecko) Chrome/58.0.3029.110 Safari/537.3'\n",
    "}\n",
    "url = \"https://www.fotocasa.es/es/comprar/terrenos/cantabria-provincia/todas-las-zonas/l/4\"\n",
    "r = requests.get(url, headers=headers)\n",
    "soup = bs4(r.content)"
   ]
  },
  {
   "cell_type": "code",
   "execution_count": 469,
   "metadata": {},
   "outputs": [],
   "source": [
    "with open(\"cantabria_4.txt\") as fp:\n",
    "    soup = bs4(fp)"
   ]
  },
  {
   "cell_type": "code",
   "execution_count": 470,
   "metadata": {},
   "outputs": [],
   "source": [
    "for precio in soup.select(\"span.re-CardPrice\"):\n",
    "    cantabria_precios.append(precio.text)"
   ]
  },
  {
   "cell_type": "code",
   "execution_count": 471,
   "metadata": {},
   "outputs": [],
   "source": [
    "for metro_cuadrado  in soup.select(\"li.re-CardFeatures-item.re-CardFeatures-feature\"):\n",
    "    cantabria_metro_cuadrado.append(metro_cuadrado.text)"
   ]
  },
  {
   "cell_type": "markdown",
   "metadata": {},
   "source": [
    "QUINTA PÁGINA"
   ]
  },
  {
   "cell_type": "code",
   "execution_count": 472,
   "metadata": {},
   "outputs": [],
   "source": [
    "headers = {\n",
    "    'User-Agent': 'Mozilla/5.0 (Windows NT 10.0; Win64; x64) AppleWebKit/537.36 (KHTML, like Gecko) Chrome/58.0.3029.110 Safari/537.3'\n",
    "}\n",
    "url = \"https://www.fotocasa.es/es/comprar/terrenos/cantabria-provincia/todas-las-zonas/l/5\"\n",
    "r = requests.get(url, headers=headers)\n",
    "soup = bs4(r.content)"
   ]
  },
  {
   "cell_type": "code",
   "execution_count": 476,
   "metadata": {},
   "outputs": [],
   "source": [
    "with open(\"cantabria_5.txt\") as fp:\n",
    "    soup = bs4(fp)"
   ]
  },
  {
   "cell_type": "code",
   "execution_count": 477,
   "metadata": {},
   "outputs": [],
   "source": [
    "for precio in soup.select(\"span.re-CardPrice\"):\n",
    "    cantabria_precios.append(precio.text)"
   ]
  },
  {
   "cell_type": "code",
   "execution_count": 478,
   "metadata": {},
   "outputs": [],
   "source": [
    "for metro_cuadrado  in soup.select(\"li.re-CardFeatures-item.re-CardFeatures-feature\"):\n",
    "    cantabria_metro_cuadrado.append(metro_cuadrado.text)"
   ]
  },
  {
   "cell_type": "markdown",
   "metadata": {},
   "source": [
    "SEXTA PÁGINA"
   ]
  },
  {
   "cell_type": "code",
   "execution_count": 479,
   "metadata": {},
   "outputs": [],
   "source": [
    "headers = {\n",
    "    'User-Agent': 'Mozilla/5.0 (Windows NT 10.0; Win64; x64) AppleWebKit/537.36 (KHTML, like Gecko) Chrome/58.0.3029.110 Safari/537.3'\n",
    "}\n",
    "url = \"https://www.fotocasa.es/es/comprar/terrenos/cantabria-provincia/todas-las-zonas/l/6\"\n",
    "r = requests.get(url, headers=headers)\n",
    "soup = bs4(r.content)"
   ]
  },
  {
   "cell_type": "code",
   "execution_count": 480,
   "metadata": {},
   "outputs": [],
   "source": [
    "with open(\"cantabria_6.txt\") as fp:\n",
    "    soup = bs4(fp)"
   ]
  },
  {
   "cell_type": "code",
   "execution_count": 481,
   "metadata": {},
   "outputs": [],
   "source": [
    "for precio in soup.select(\"span.re-CardPrice\"):\n",
    "    cantabria_precios.append(precio.text)"
   ]
  },
  {
   "cell_type": "code",
   "execution_count": 482,
   "metadata": {},
   "outputs": [],
   "source": [
    "for metro_cuadrado  in soup.select(\"li.re-CardFeatures-item.re-CardFeatures-feature\"):\n",
    "    cantabria_metro_cuadrado.append(metro_cuadrado.text)"
   ]
  },
  {
   "cell_type": "markdown",
   "metadata": {},
   "source": [
    "SÉPTIMA PÁGINA"
   ]
  },
  {
   "cell_type": "code",
   "execution_count": 483,
   "metadata": {},
   "outputs": [],
   "source": [
    "headers = {\n",
    "    'User-Agent': 'Mozilla/5.0 (Windows NT 10.0; Win64; x64) AppleWebKit/537.36 (KHTML, like Gecko) Chrome/58.0.3029.110 Safari/537.3'\n",
    "}\n",
    "url = \"https://www.fotocasa.es/es/comprar/terrenos/cantabria-provincia/todas-las-zonas/l/7\"\n",
    "r = requests.get(url, headers=headers)\n",
    "soup = bs4(r.content)"
   ]
  },
  {
   "cell_type": "code",
   "execution_count": 484,
   "metadata": {},
   "outputs": [],
   "source": [
    "with open(\"cantabria_7.txt\") as fp:\n",
    "    soup = bs4(fp)"
   ]
  },
  {
   "cell_type": "code",
   "execution_count": 485,
   "metadata": {},
   "outputs": [],
   "source": [
    "for precio in soup.select(\"span.re-CardPrice\"):\n",
    "    cantabria_precios.append(precio.text)"
   ]
  },
  {
   "cell_type": "code",
   "execution_count": 486,
   "metadata": {},
   "outputs": [],
   "source": [
    "for metro_cuadrado  in soup.select(\"li.re-CardFeatures-item.re-CardFeatures-feature\"):\n",
    "    cantabria_metro_cuadrado.append(metro_cuadrado.text)"
   ]
  },
  {
   "cell_type": "markdown",
   "metadata": {},
   "source": [
    "OCTAVA PÁGINA"
   ]
  },
  {
   "cell_type": "code",
   "execution_count": 487,
   "metadata": {},
   "outputs": [],
   "source": [
    "headers = {\n",
    "    'User-Agent': 'Mozilla/5.0 (Windows NT 10.0; Win64; x64) AppleWebKit/537.36 (KHTML, like Gecko) Chrome/58.0.3029.110 Safari/537.3'\n",
    "}\n",
    "url = \"https://www.fotocasa.es/es/comprar/terrenos/cantabria-provincia/todas-las-zonas/l/8\"\n",
    "r = requests.get(url, headers=headers)\n",
    "soup = bs4(r.content)"
   ]
  },
  {
   "cell_type": "code",
   "execution_count": 488,
   "metadata": {},
   "outputs": [],
   "source": [
    "with open(\"cantabria_8.txt\") as fp:\n",
    "    soup = bs4(fp)"
   ]
  },
  {
   "cell_type": "code",
   "execution_count": 489,
   "metadata": {},
   "outputs": [],
   "source": [
    "for precio in soup.select(\"span.re-CardPrice\"):\n",
    "    cantabria_precios.append(precio.text)"
   ]
  },
  {
   "cell_type": "code",
   "execution_count": 490,
   "metadata": {},
   "outputs": [],
   "source": [
    "for metro_cuadrado  in soup.select(\"li.re-CardFeatures-item.re-CardFeatures-feature\"):\n",
    "    cantabria_metro_cuadrado.append(metro_cuadrado.text)"
   ]
  },
  {
   "cell_type": "markdown",
   "metadata": {},
   "source": [
    "NOVENA PÁGINA"
   ]
  },
  {
   "cell_type": "code",
   "execution_count": 491,
   "metadata": {},
   "outputs": [],
   "source": [
    "headers = {\n",
    "    'User-Agent': 'Mozilla/5.0 (Windows NT 10.0; Win64; x64) AppleWebKit/537.36 (KHTML, like Gecko) Chrome/58.0.3029.110 Safari/537.3'\n",
    "}\n",
    "url = \"https://www.fotocasa.es/es/comprar/terrenos/cantabria-provincia/todas-las-zonas/l/9\"\n",
    "r = requests.get(url, headers=headers)\n",
    "soup = bs4(r.content)"
   ]
  },
  {
   "cell_type": "code",
   "execution_count": 492,
   "metadata": {},
   "outputs": [],
   "source": [
    "with open(\"cantabria_9.txt\") as fp:\n",
    "    soup = bs4(fp)"
   ]
  },
  {
   "cell_type": "code",
   "execution_count": 493,
   "metadata": {},
   "outputs": [],
   "source": [
    "for precio in soup.select(\"span.re-CardPrice\"):\n",
    "    cantabria_precios.append(precio.text)"
   ]
  },
  {
   "cell_type": "code",
   "execution_count": 494,
   "metadata": {},
   "outputs": [],
   "source": [
    "for metro_cuadrado  in soup.select(\"li.re-CardFeatures-item.re-CardFeatures-feature\"):\n",
    "    cantabria_metro_cuadrado.append(metro_cuadrado.text)"
   ]
  },
  {
   "cell_type": "markdown",
   "metadata": {},
   "source": [
    "DÉCIMA PÁGINA"
   ]
  },
  {
   "cell_type": "code",
   "execution_count": 495,
   "metadata": {},
   "outputs": [],
   "source": [
    "headers = {\n",
    "    'User-Agent': 'Mozilla/5.0 (Windows NT 10.0; Win64; x64) AppleWebKit/537.36 (KHTML, like Gecko) Chrome/58.0.3029.110 Safari/537.3'\n",
    "}\n",
    "url = \"https://www.fotocasa.es/es/comprar/terrenos/cantabria-provincia/todas-las-zonas/l/10\"\n",
    "r = requests.get(url, headers=headers)\n",
    "soup = bs4(r.content)"
   ]
  },
  {
   "cell_type": "code",
   "execution_count": 496,
   "metadata": {},
   "outputs": [],
   "source": [
    "with open(\"cantabria_10.txt\") as fp:\n",
    "    soup = bs4(fp)"
   ]
  },
  {
   "cell_type": "code",
   "execution_count": 524,
   "metadata": {},
   "outputs": [],
   "source": [
    "for precio in soup.select(\"span.re-CardPrice\"):\n",
    "    cantabria_precios.append(precio.text)"
   ]
  },
  {
   "cell_type": "code",
   "execution_count": 526,
   "metadata": {},
   "outputs": [],
   "source": [
    "for metro_cuadrado  in soup.select(\"li.re-CardFeatures-item.re-CardFeatures-feature\"):\n",
    "    cantabria_metro_cuadrado.append(metro_cuadrado.text)"
   ]
  },
  {
   "cell_type": "markdown",
   "metadata": {},
   "source": [
    "Nos hemos dado cuenta que hay un elemento en la lista de precios_cantabria que es \"A consultar\" por lo que eliminaremos dicho elemento. "
   ]
  },
  {
   "cell_type": "code",
   "execution_count": null,
   "metadata": {},
   "outputs": [],
   "source": [
    "#Buscamos el elemento por su índice\n",
    "elemento_1 = cantabria_precios.index(\"A consultar\")\n",
    "elemento_1"
   ]
  },
  {
   "cell_type": "code",
   "execution_count": 520,
   "metadata": {},
   "outputs": [],
   "source": [
    "#Eliminamos el elemento por su índice\n",
    "del cantabria_precios[167]"
   ]
  },
  {
   "cell_type": "markdown",
   "metadata": {},
   "source": [
    "Ahora bien,  igualamos todos los elementos de las listas para poder crear el dataframe"
   ]
  },
  {
   "cell_type": "markdown",
   "metadata": {},
   "source": [
    "Eliminamos los elementos restantes para que las listas queden iguales y lo ejecutamos, ya que cada vez que ejecutemos el programa se eliminarán"
   ]
  },
  {
   "cell_type": "code",
   "execution_count": 542,
   "metadata": {},
   "outputs": [],
   "source": [
    "#del andalucia_precios[-7:]"
   ]
  },
  {
   "cell_type": "code",
   "execution_count": 544,
   "metadata": {},
   "outputs": [],
   "source": [
    "#del andalucia_metro_cuadrado[-7:]"
   ]
  },
  {
   "cell_type": "code",
   "execution_count": 547,
   "metadata": {},
   "outputs": [],
   "source": [
    "#del cantabria_metro_cuadrado[-31:]"
   ]
  },
  {
   "cell_type": "markdown",
   "metadata": {},
   "source": [
    "Pasamos los elementos de cada lista a numeros y les quitamos los símbolos:"
   ]
  },
  {
   "cell_type": "code",
   "execution_count": 515,
   "metadata": {},
   "outputs": [
    {
     "data": {
      "text/plain": [
       "[46000,\n",
       " 35000,\n",
       " 28000,\n",
       " 426000,\n",
       " 24000,\n",
       " 472500,\n",
       " 199500,\n",
       " 47500,\n",
       " 24000,\n",
       " 36000,\n",
       " 61750,\n",
       " 120000,\n",
       " 112500,\n",
       " 56000,\n",
       " 42000,\n",
       " 40000,\n",
       " 22000,\n",
       " 35000,\n",
       " 44900,\n",
       " 56000,\n",
       " 56000,\n",
       " 56000,\n",
       " 19000,\n",
       " 20000,\n",
       " 35000,\n",
       " 220000,\n",
       " 210000,\n",
       " 140000,\n",
       " 55000,\n",
       " 65000,\n",
       " 40000,\n",
       " 13000,\n",
       " 47300,\n",
       " 139000,\n",
       " 261200,\n",
       " 190000,\n",
       " 135000,\n",
       " 15900,\n",
       " 25999,\n",
       " 65000,\n",
       " 80000,\n",
       " 348000,\n",
       " 49900,\n",
       " 40000,\n",
       " 45300,\n",
       " 99000,\n",
       " 37000,\n",
       " 16500,\n",
       " 115000,\n",
       " 990000,\n",
       " 28900,\n",
       " 120000,\n",
       " 18000,\n",
       " 31000,\n",
       " 195000,\n",
       " 69000,\n",
       " 320000,\n",
       " 120000,\n",
       " 270000,\n",
       " 190000,\n",
       " 118000,\n",
       " 79000,\n",
       " 120000,\n",
       " 22000,\n",
       " 319000,\n",
       " 315000,\n",
       " 65000,\n",
       " 169000,\n",
       " 230000,\n",
       " 69000,\n",
       " 200000,\n",
       " 175000,\n",
       " 39000,\n",
       " 17800,\n",
       " 126000,\n",
       " 335000,\n",
       " 60000,\n",
       " 55000,\n",
       " 114990,\n",
       " 114990,\n",
       " 285000,\n",
       " 99000,\n",
       " 34200,\n",
       " 44000,\n",
       " 65000,\n",
       " 229500,\n",
       " 98000,\n",
       " 90000,\n",
       " 44500,\n",
       " 550000,\n",
       " 48000,\n",
       " 250000,\n",
       " 41510,\n",
       " 95000,\n",
       " 6,\n",
       " 1275000,\n",
       " 275000,\n",
       " 88000,\n",
       " 130000,\n",
       " 29900,\n",
       " 54000,\n",
       " 750000,\n",
       " 65990,\n",
       " 165000,\n",
       " 65000,\n",
       " 42000,\n",
       " 99000,\n",
       " 119000,\n",
       " 945000,\n",
       " 454860,\n",
       " 117000,\n",
       " 70000,\n",
       " 55000,\n",
       " 141330,\n",
       " 230000,\n",
       " 120000,\n",
       " 26000,\n",
       " 95000,\n",
       " 60000,\n",
       " 158999,\n",
       " 59900,\n",
       " 63000,\n",
       " 650000,\n",
       " 380000,\n",
       " 38000,\n",
       " 119900,\n",
       " 85538,\n",
       " 89209,\n",
       " 460000,\n",
       " 450000,\n",
       " 90000,\n",
       " 730000,\n",
       " 399900,\n",
       " 130000,\n",
       " 695000,\n",
       " 280000,\n",
       " 68000,\n",
       " 74900,\n",
       " 47900,\n",
       " 64900,\n",
       " 60000,\n",
       " 99900,\n",
       " 60000,\n",
       " 170000,\n",
       " 35000,\n",
       " 2850000,\n",
       " 28000,\n",
       " 29900,\n",
       " 103000,\n",
       " 145000,\n",
       " 44900,\n",
       " 730100,\n",
       " 130000,\n",
       " 164000,\n",
       " 13460000,\n",
       " 359000,\n",
       " 62500,\n",
       " 27300,\n",
       " 239000,\n",
       " 26000,\n",
       " 1039000,\n",
       " 14105,\n",
       " 60000,\n",
       " 103000,\n",
       " 95000,\n",
       " 120000,\n",
       " 19990,\n",
       " 372500,\n",
       " 75000,\n",
       " 100000,\n",
       " 60000,\n",
       " 99900,\n",
       " 60000,\n",
       " 170000,\n",
       " 35000,\n",
       " 2850000,\n",
       " 28000,\n",
       " 29900,\n",
       " 103000,\n",
       " 145000,\n",
       " 44900,\n",
       " 730100,\n",
       " 130000,\n",
       " 164000,\n",
       " 13460000,\n",
       " 359000,\n",
       " 62500,\n",
       " 27300,\n",
       " 239000,\n",
       " 26000,\n",
       " 1039000,\n",
       " 14105,\n",
       " 60000,\n",
       " 103000,\n",
       " 95000,\n",
       " 120000,\n",
       " 19990,\n",
       " 372500,\n",
       " 75000,\n",
       " 100000,\n",
       " 100000,\n",
       " 415000,\n",
       " 420000,\n",
       " 189000,\n",
       " 3000000,\n",
       " 475000,\n",
       " 93275,\n",
       " 10,\n",
       " 250000,\n",
       " 150000,\n",
       " 150000,\n",
       " 139000,\n",
       " 179000,\n",
       " 75000,\n",
       " 77000,\n",
       " 95000,\n",
       " 11000,\n",
       " 2900,\n",
       " 102000,\n",
       " 72000,\n",
       " 999999,\n",
       " 112000,\n",
       " 635000,\n",
       " 85000,\n",
       " 75000,\n",
       " 69990,\n",
       " 85000,\n",
       " 68990,\n",
       " 75000,\n",
       " 60000,\n",
       " 28000,\n",
       " 125000,\n",
       " 912000,\n",
       " 42000,\n",
       " 29900,\n",
       " 105000,\n",
       " 345000,\n",
       " 16000,\n",
       " 40000,\n",
       " 63000,\n",
       " 148600,\n",
       " 34900,\n",
       " 84900,\n",
       " 20000,\n",
       " 120000,\n",
       " 139000,\n",
       " 153500,\n",
       " 142000,\n",
       " 156000,\n",
       " 41900,\n",
       " 59900,\n",
       " 324000,\n",
       " 299000,\n",
       " 28000,\n",
       " 66000,\n",
       " 775000,\n",
       " 35000,\n",
       " 35000,\n",
       " 28000,\n",
       " 56000,\n",
       " 28000,\n",
       " 28000,\n",
       " 28000,\n",
       " 66000,\n",
       " 28000,\n",
       " 42500,\n",
       " 22000,\n",
       " 325000,\n",
       " 603000,\n",
       " 33900,\n",
       " 122000,\n",
       " 167000,\n",
       " 700000,\n",
       " 35000,\n",
       " 46500,\n",
       " 45000,\n",
       " 47500,\n",
       " 52500,\n",
       " 51500,\n",
       " 52000,\n",
       " 319000,\n",
       " 42000,\n",
       " 529000,\n",
       " 69900,\n",
       " 27900,\n",
       " 95000,\n",
       " 56000,\n",
       " 55000,\n",
       " 68000,\n",
       " 46000,\n",
       " 46000,\n",
       " 35000,\n",
       " 28000,\n",
       " 426000,\n",
       " 24000,\n",
       " 472500,\n",
       " 199500,\n",
       " 47500,\n",
       " 24000,\n",
       " 36000,\n",
       " 61750,\n",
       " 120000,\n",
       " 112500,\n",
       " 56000,\n",
       " 42000]"
      ]
     },
     "execution_count": 515,
     "metadata": {},
     "output_type": "execute_result"
    }
   ],
   "source": [
    "mi_lista_limpia= [int(valor.replace(' €', '').replace('.', '')) for valor in andalucia_precios]"
   ]
  },
  {
   "cell_type": "code",
   "execution_count": 549,
   "metadata": {},
   "outputs": [],
   "source": [
    "andalucia_precios = mi_lista_limpia"
   ]
  },
  {
   "cell_type": "code",
   "execution_count": 550,
   "metadata": {},
   "outputs": [],
   "source": [
    "cantabria_precios= [int(valor.replace(' €', '').replace('.', '')) for valor in cantabria_precios]"
   ]
  },
  {
   "cell_type": "code",
   "execution_count": 554,
   "metadata": {},
   "outputs": [],
   "source": [
    "lista_limpia_prueba = [int(valor.replace('m²', '')) for valor in cantabria_metro_cuadrado]"
   ]
  },
  {
   "cell_type": "code",
   "execution_count": 557,
   "metadata": {},
   "outputs": [],
   "source": [
    "cantabria_metro_cuadrado=lista_limpia_prueba "
   ]
  },
  {
   "cell_type": "code",
   "execution_count": 559,
   "metadata": {},
   "outputs": [],
   "source": [
    "andalucia_metro_cuadrado = [int(valor.replace('m²', '')) for valor in andalucia_metro_cuadrado]"
   ]
  },
  {
   "cell_type": "markdown",
   "metadata": {},
   "source": [
    "Una vez hemos obtenido todos los datos, creamos un dataframe con los mismos."
   ]
  },
  {
   "cell_type": "code",
   "execution_count": 568,
   "metadata": {},
   "outputs": [
    {
     "data": {
      "text/html": [
       "<div>\n",
       "<style scoped>\n",
       "    .dataframe tbody tr th:only-of-type {\n",
       "        vertical-align: middle;\n",
       "    }\n",
       "\n",
       "    .dataframe tbody tr th {\n",
       "        vertical-align: top;\n",
       "    }\n",
       "\n",
       "    .dataframe thead th {\n",
       "        text-align: right;\n",
       "    }\n",
       "</style>\n",
       "<table border=\"1\" class=\"dataframe\">\n",
       "  <thead>\n",
       "    <tr style=\"text-align: right;\">\n",
       "      <th></th>\n",
       "      <th>precios_andalucia</th>\n",
       "      <th>metro_cuadrado_andalucia</th>\n",
       "      <th>precios_cantabria</th>\n",
       "      <th>metro_cuadrado_cantabria</th>\n",
       "    </tr>\n",
       "  </thead>\n",
       "  <tbody>\n",
       "    <tr>\n",
       "      <th>0</th>\n",
       "      <td>46000</td>\n",
       "      <td>109</td>\n",
       "      <td>120000</td>\n",
       "      <td>8724</td>\n",
       "    </tr>\n",
       "    <tr>\n",
       "      <th>1</th>\n",
       "      <td>35000</td>\n",
       "      <td>240</td>\n",
       "      <td>165000</td>\n",
       "      <td>15880</td>\n",
       "    </tr>\n",
       "    <tr>\n",
       "      <th>2</th>\n",
       "      <td>28000</td>\n",
       "      <td>300</td>\n",
       "      <td>187200</td>\n",
       "      <td>900</td>\n",
       "    </tr>\n",
       "    <tr>\n",
       "      <th>3</th>\n",
       "      <td>426000</td>\n",
       "      <td>1200</td>\n",
       "      <td>100000</td>\n",
       "      <td>928</td>\n",
       "    </tr>\n",
       "    <tr>\n",
       "      <th>4</th>\n",
       "      <td>24000</td>\n",
       "      <td>102</td>\n",
       "      <td>180000</td>\n",
       "      <td>10374</td>\n",
       "    </tr>\n",
       "    <tr>\n",
       "      <th>...</th>\n",
       "      <td>...</td>\n",
       "      <td>...</td>\n",
       "      <td>...</td>\n",
       "      <td>...</td>\n",
       "    </tr>\n",
       "    <tr>\n",
       "      <th>286</th>\n",
       "      <td>56000</td>\n",
       "      <td>148</td>\n",
       "      <td>54000</td>\n",
       "      <td>3400</td>\n",
       "    </tr>\n",
       "    <tr>\n",
       "      <th>287</th>\n",
       "      <td>55000</td>\n",
       "      <td>146</td>\n",
       "      <td>70000</td>\n",
       "      <td>575</td>\n",
       "    </tr>\n",
       "    <tr>\n",
       "      <th>288</th>\n",
       "      <td>68000</td>\n",
       "      <td>156</td>\n",
       "      <td>125000</td>\n",
       "      <td>10000</td>\n",
       "    </tr>\n",
       "    <tr>\n",
       "      <th>289</th>\n",
       "      <td>46000</td>\n",
       "      <td>165</td>\n",
       "      <td>109500</td>\n",
       "      <td>6880</td>\n",
       "    </tr>\n",
       "    <tr>\n",
       "      <th>290</th>\n",
       "      <td>46000</td>\n",
       "      <td>150</td>\n",
       "      <td>79000</td>\n",
       "      <td>1195</td>\n",
       "    </tr>\n",
       "  </tbody>\n",
       "</table>\n",
       "<p>291 rows × 4 columns</p>\n",
       "</div>"
      ],
      "text/plain": [
       "     precios_andalucia  metro_cuadrado_andalucia  precios_cantabria  \\\n",
       "0                46000                       109             120000   \n",
       "1                35000                       240             165000   \n",
       "2                28000                       300             187200   \n",
       "3               426000                      1200             100000   \n",
       "4                24000                       102             180000   \n",
       "..                 ...                       ...                ...   \n",
       "286              56000                       148              54000   \n",
       "287              55000                       146              70000   \n",
       "288              68000                       156             125000   \n",
       "289              46000                       165             109500   \n",
       "290              46000                       150              79000   \n",
       "\n",
       "     metro_cuadrado_cantabria  \n",
       "0                        8724  \n",
       "1                       15880  \n",
       "2                         900  \n",
       "3                         928  \n",
       "4                       10374  \n",
       "..                        ...  \n",
       "286                      3400  \n",
       "287                       575  \n",
       "288                     10000  \n",
       "289                      6880  \n",
       "290                      1195  \n",
       "\n",
       "[291 rows x 4 columns]"
      ]
     },
     "execution_count": 568,
     "metadata": {},
     "output_type": "execute_result"
    }
   ],
   "source": [
    "df = pd.DataFrame({ \"precios_andalucia\": andalucia_precios,\n",
    "                   \"metro_cuadrado_andalucia\":andalucia_metro_cuadrado,\n",
    "                   \"precios_cantabria\": cantabria_precios,\n",
    "                   \"metro_cuadrado_cantabria\": cantabria_metro_cuadrado\n",
    "})\n",
    "df"
   ]
  },
  {
   "cell_type": "code",
   "execution_count": 569,
   "metadata": {},
   "outputs": [
    {
     "name": "stdout",
     "output_type": "stream",
     "text": [
      "<class 'pandas.core.frame.DataFrame'>\n",
      "RangeIndex: 291 entries, 0 to 290\n",
      "Data columns (total 4 columns):\n",
      " #   Column                    Non-Null Count  Dtype\n",
      "---  ------                    --------------  -----\n",
      " 0   precios_andalucia         291 non-null    int64\n",
      " 1   metro_cuadrado_andalucia  291 non-null    int64\n",
      " 2   precios_cantabria         291 non-null    int64\n",
      " 3   metro_cuadrado_cantabria  291 non-null    int64\n",
      "dtypes: int64(4)\n",
      "memory usage: 9.2 KB\n"
     ]
    }
   ],
   "source": [
    "df.info()"
   ]
  },
  {
   "cell_type": "code",
   "execution_count": 570,
   "metadata": {},
   "outputs": [
    {
     "data": {
      "text/html": [
       "<div>\n",
       "<style scoped>\n",
       "    .dataframe tbody tr th:only-of-type {\n",
       "        vertical-align: middle;\n",
       "    }\n",
       "\n",
       "    .dataframe tbody tr th {\n",
       "        vertical-align: top;\n",
       "    }\n",
       "\n",
       "    .dataframe thead th {\n",
       "        text-align: right;\n",
       "    }\n",
       "</style>\n",
       "<table border=\"1\" class=\"dataframe\">\n",
       "  <thead>\n",
       "    <tr style=\"text-align: right;\">\n",
       "      <th></th>\n",
       "      <th>precios_andalucia</th>\n",
       "      <th>metro_cuadrado_andalucia</th>\n",
       "      <th>precios_cantabria</th>\n",
       "      <th>metro_cuadrado_cantabria</th>\n",
       "    </tr>\n",
       "  </thead>\n",
       "  <tbody>\n",
       "    <tr>\n",
       "      <th>count</th>\n",
       "      <td>2.910000e+02</td>\n",
       "      <td>2.910000e+02</td>\n",
       "      <td>2.910000e+02</td>\n",
       "      <td>291.000000</td>\n",
       "    </tr>\n",
       "    <tr>\n",
       "      <th>mean</th>\n",
       "      <td>2.765626e+05</td>\n",
       "      <td>2.420334e+04</td>\n",
       "      <td>3.611297e+06</td>\n",
       "      <td>7766.701031</td>\n",
       "    </tr>\n",
       "    <tr>\n",
       "      <th>std</th>\n",
       "      <td>1.151391e+06</td>\n",
       "      <td>1.247718e+05</td>\n",
       "      <td>5.862487e+07</td>\n",
       "      <td>25157.093784</td>\n",
       "    </tr>\n",
       "    <tr>\n",
       "      <th>min</th>\n",
       "      <td>6.000000e+00</td>\n",
       "      <td>3.000000e+00</td>\n",
       "      <td>1.000000e+00</td>\n",
       "      <td>1.000000</td>\n",
       "    </tr>\n",
       "    <tr>\n",
       "      <th>25%</th>\n",
       "      <td>4.470000e+04</td>\n",
       "      <td>2.455000e+02</td>\n",
       "      <td>6.500000e+04</td>\n",
       "      <td>942.500000</td>\n",
       "    </tr>\n",
       "    <tr>\n",
       "      <th>50%</th>\n",
       "      <td>8.490000e+04</td>\n",
       "      <td>9.100000e+02</td>\n",
       "      <td>9.900000e+04</td>\n",
       "      <td>2883.000000</td>\n",
       "    </tr>\n",
       "    <tr>\n",
       "      <th>75%</th>\n",
       "      <td>1.680000e+05</td>\n",
       "      <td>3.444000e+03</td>\n",
       "      <td>2.020000e+05</td>\n",
       "      <td>6817.500000</td>\n",
       "    </tr>\n",
       "    <tr>\n",
       "      <th>max</th>\n",
       "      <td>1.346000e+07</td>\n",
       "      <td>1.150000e+06</td>\n",
       "      <td>1.000232e+09</td>\n",
       "      <td>380000.000000</td>\n",
       "    </tr>\n",
       "  </tbody>\n",
       "</table>\n",
       "</div>"
      ],
      "text/plain": [
       "       precios_andalucia  metro_cuadrado_andalucia  precios_cantabria  \\\n",
       "count       2.910000e+02              2.910000e+02       2.910000e+02   \n",
       "mean        2.765626e+05              2.420334e+04       3.611297e+06   \n",
       "std         1.151391e+06              1.247718e+05       5.862487e+07   \n",
       "min         6.000000e+00              3.000000e+00       1.000000e+00   \n",
       "25%         4.470000e+04              2.455000e+02       6.500000e+04   \n",
       "50%         8.490000e+04              9.100000e+02       9.900000e+04   \n",
       "75%         1.680000e+05              3.444000e+03       2.020000e+05   \n",
       "max         1.346000e+07              1.150000e+06       1.000232e+09   \n",
       "\n",
       "       metro_cuadrado_cantabria  \n",
       "count                291.000000  \n",
       "mean                7766.701031  \n",
       "std                25157.093784  \n",
       "min                    1.000000  \n",
       "25%                  942.500000  \n",
       "50%                 2883.000000  \n",
       "75%                 6817.500000  \n",
       "max               380000.000000  "
      ]
     },
     "execution_count": 570,
     "metadata": {},
     "output_type": "execute_result"
    }
   ],
   "source": [
    "df.describe()"
   ]
  },
  {
   "cell_type": "code",
   "execution_count": 579,
   "metadata": {},
   "outputs": [
    {
     "data": {
      "text/plain": [
       "np.float64(276562.6288659794)"
      ]
     },
     "execution_count": 579,
     "metadata": {},
     "output_type": "execute_result"
    }
   ],
   "source": [
    "df.loc[:, \"precios_andalucia\"].mean()"
   ]
  },
  {
   "cell_type": "code",
   "execution_count": 581,
   "metadata": {},
   "outputs": [
    {
     "data": {
      "text/plain": [
       "np.float64(3611297.443298969)"
      ]
     },
     "execution_count": 581,
     "metadata": {},
     "output_type": "execute_result"
    }
   ],
   "source": [
    "df.loc[:, \"precios_cantabria\"].mean()"
   ]
  },
  {
   "cell_type": "code",
   "execution_count": 583,
   "metadata": {},
   "outputs": [
    {
     "data": {
      "text/plain": [
       "np.float64(24203.340206185567)"
      ]
     },
     "execution_count": 583,
     "metadata": {},
     "output_type": "execute_result"
    }
   ],
   "source": [
    "df.loc[:, \"metro_cuadrado_andalucia\"].mean()"
   ]
  },
  {
   "cell_type": "code",
   "execution_count": 584,
   "metadata": {},
   "outputs": [
    {
     "data": {
      "text/plain": [
       "np.float64(7766.701030927835)"
      ]
     },
     "execution_count": 584,
     "metadata": {},
     "output_type": "execute_result"
    }
   ],
   "source": [
    "df.loc[:, \"metro_cuadrado_cantabria\"].mean()"
   ]
  },
  {
   "cell_type": "code",
   "execution_count": null,
   "metadata": {},
   "outputs": [],
   "source": []
  },
  {
   "cell_type": "code",
   "execution_count": null,
   "metadata": {},
   "outputs": [],
   "source": []
  },
  {
   "cell_type": "code",
   "execution_count": null,
   "metadata": {},
   "outputs": [],
   "source": []
  },
  {
   "cell_type": "code",
   "execution_count": null,
   "metadata": {},
   "outputs": [],
   "source": []
  },
  {
   "cell_type": "code",
   "execution_count": null,
   "metadata": {},
   "outputs": [],
   "source": []
  },
  {
   "cell_type": "code",
   "execution_count": null,
   "metadata": {},
   "outputs": [],
   "source": []
  },
  {
   "cell_type": "code",
   "execution_count": null,
   "metadata": {},
   "outputs": [],
   "source": []
  },
  {
   "cell_type": "code",
   "execution_count": null,
   "metadata": {},
   "outputs": [],
   "source": []
  },
  {
   "cell_type": "code",
   "execution_count": null,
   "metadata": {},
   "outputs": [],
   "source": []
  },
  {
   "cell_type": "code",
   "execution_count": null,
   "metadata": {},
   "outputs": [],
   "source": []
  },
  {
   "cell_type": "code",
   "execution_count": null,
   "metadata": {},
   "outputs": [],
   "source": []
  },
  {
   "cell_type": "code",
   "execution_count": null,
   "metadata": {},
   "outputs": [],
   "source": []
  }
 ],
 "metadata": {
  "kernelspec": {
   "display_name": "data_env",
   "language": "python",
   "name": "python3"
  },
  "language_info": {
   "codemirror_mode": {
    "name": "ipython",
    "version": 3
   },
   "file_extension": ".py",
   "mimetype": "text/x-python",
   "name": "python",
   "nbconvert_exporter": "python",
   "pygments_lexer": "ipython3",
   "version": "3.11.10"
  }
 },
 "nbformat": 4,
 "nbformat_minor": 2
}

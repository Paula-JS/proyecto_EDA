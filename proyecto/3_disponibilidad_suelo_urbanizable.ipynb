{
 "cells": [
  {
   "cell_type": "markdown",
   "metadata": {},
   "source": [
    "## DISPONIBILIDAD DE SUELO URBANIZABLE\n",
    "\n",
    "Como bien hemos comentado anteriormente a lo que la climatología se refiere, nos centraremos en analizar la disponibilidad de suelo urbanizable en los territorios de Cantabria y Andalucía. \n",
    "\n",
    "Por lo que con ésta última parte del proyecto, concluiremos en qué zona es la indicada para constituir la empresa de nuestro cliente, en base al precio medio y la disponibilidad de suelo urbanizable. \n",
    "\n",
    "Para la obtención de datos, hemos accedido al portal inmobiliario fotocasa, del cual hemos podido filtrar por zona los terrenos disponibles, así como sus precios. "
   ]
  },
  {
   "cell_type": "code",
   "execution_count": null,
   "metadata": {},
   "outputs": [],
   "source": [
    "from selenium.webdriver.common.keys import Keys\n",
    "from selenium import webdriver\n",
    "import pandas as pd\n",
    "import numpy as np\n",
    "from selenium.webdriver.common.by import By\n",
    "from bs4 import BeautifulSoup as bs4\n",
    "import requests\n"
   ]
  },
  {
   "cell_type": "markdown",
   "metadata": {},
   "source": [
    "## SUELO URBANIZABLE ANDALUCÍA"
   ]
  },
  {
   "cell_type": "code",
   "execution_count": 425,
   "metadata": {},
   "outputs": [
    {
     "name": "stdout",
     "output_type": "stream",
     "text": [
      "217746.0172413793\n",
      "16782.324444444443\n"
     ]
    }
   ],
   "source": [
    "andalucia_precios = []\n",
    "andalucia_metros_cuadrados = []\n",
    "\n",
    "def obtener_soup(nombre_txt):\n",
    "    with open(nombre_txt) as fp:\n",
    "        return bs4(fp)\n",
    "\n",
    "def obtener_precios_andalucia(soup):\n",
    "    for precio in soup.select(\"span.re-CardPrice\"):\n",
    "        if not precio.text == \"A consultar\":\n",
    "            andalucia_precios.append(precio.text)\n",
    "\n",
    "def obtener_metros_cuadrados_andalucia_del_1_al_7(soup):\n",
    "    for metro_cuadrado in soup.select(\"span.re-CardFeaturesWithIcons-feature-icon.re-CardFeaturesWithIcons-feature-icon--surface\"):\n",
    "        andalucia_metros_cuadrados.append(metro_cuadrado.text)\n",
    "\n",
    "def obtener_metros_cuadrados_andalucia_del_8_al_10(soup):\n",
    "    for metro_cuadrado in soup.select(\"li.re-CardFeatures-item.re-CardFeatures-feature\"):\n",
    "        andalucia_metros_cuadrados.append(metro_cuadrado.text)\n",
    "\n",
    "\n",
    "for i in range(1, 8):\n",
    "    soup = obtener_soup(f\"andalucia_{i}.txt\")\n",
    "\n",
    "    obtener_precios_andalucia(soup)\n",
    "\n",
    "    obtener_metros_cuadrados_andalucia_del_1_al_7(soup)\n",
    "\n",
    "for i in range(8, 11):\n",
    "    soup = obtener_soup(f\"andalucia_{i}.txt\")\n",
    "\n",
    "    obtener_precios_andalucia(soup)\n",
    "\n",
    "    obtener_metros_cuadrados_andalucia_del_8_al_10(soup)\n",
    "\n",
    "andalucia_precios = [int(valor.replace(' €', '').replace('.', '')) for valor in andalucia_precios]\n",
    "df_precios_andalucia = pd.DataFrame({ \"precios_andalucia\": andalucia_precios })\n",
    "media_precios_andalucia = df_precios_andalucia.loc[:, \"precios_andalucia\"].mean()\n",
    "print(media_precios_andalucia)\n",
    "\n",
    "andalucia_metros_cuadrados = [int(valor.replace('m²', '')) for valor in andalucia_metros_cuadrados]\n",
    "df_metros_cuadrados_andalucia = pd.DataFrame({ \"metros_cuadrados_andalucia\": andalucia_metros_cuadrados })\n",
    "media_metros_cuadrados_andalucia = df_metros_cuadrados_andalucia.loc[:, \"metros_cuadrados_andalucia\"].mean()\n",
    "print(media_metros_cuadrados_andalucia)"
   ]
  },
  {
   "cell_type": "markdown",
   "metadata": {},
   "source": [
    "## SUELO URBANIZABLE CANTABRIA"
   ]
  },
  {
   "cell_type": "markdown",
   "metadata": {},
   "source": [
    "Ahora bien, tras haber obtenido los datos de las 10 primera páginas del búscador de fotocasa filtrando por Andalucía, haremos lo mismo pero con Cantabria. "
   ]
  },
  {
   "cell_type": "code",
   "execution_count": 426,
   "metadata": {},
   "outputs": [
    {
     "name": "stdout",
     "output_type": "stream",
     "text": [
      "3407443.8745980705\n",
      "7902.942028985507\n"
     ]
    }
   ],
   "source": [
    "cantabria_precios = []\n",
    "cantabria_metros_cuadrados = []\n",
    "\n",
    "def obtener_soup(nombre_txt):\n",
    "    with open(nombre_txt) as fp:\n",
    "        return bs4(fp)\n",
    "\n",
    "def obtener_precios_cantabria(soup):\n",
    "    for precio in soup.select(\"span.re-CardPrice\"):\n",
    "        if not precio.text == \"A consultar\":\n",
    "            cantabria_precios.append(precio.text)\n",
    "\n",
    "def obtener_metros_cuadrados_cantabria(soup):\n",
    "    for metro_cuadrado in soup.select(\"li.re-CardFeatures-item.re-CardFeatures-feature\"):\n",
    "        cantabria_metros_cuadrados.append(metro_cuadrado.text)\n",
    "\n",
    "\n",
    "for i in range(1, 11):\n",
    "    soup = obtener_soup(f\"cantabria_{i}.txt\")\n",
    "\n",
    "    obtener_precios_cantabria(soup)\n",
    "\n",
    "    obtener_metros_cuadrados_cantabria(soup)\n",
    "\n",
    "\n",
    "cantabria_precios = [int(valor.replace(' €', '').replace('.', '')) for valor in cantabria_precios]\n",
    "df_precios_cantabria = pd.DataFrame({ \"precios_cantabria\": cantabria_precios })\n",
    "media_precios_cantabria = df_precios_cantabria.loc[:, \"precios_cantabria\"].mean()\n",
    "print(media_precios_cantabria)\n",
    "\n",
    "cantabria_metros_cuadrados = [int(valor.replace('m²', '')) for valor in cantabria_metros_cuadrados]\n",
    "df_metros_cuadrados_cantabria = pd.DataFrame({ \"metros_cuadrados_cantabria\": cantabria_metros_cuadrados })\n",
    "media_metros_cuadrados_cantabria = df_metros_cuadrados_cantabria.loc[:, \"metros_cuadrados_cantabria\"].mean()\n",
    "print(media_metros_cuadrados_cantabria)\n"
   ]
  }
 ],
 "metadata": {
  "kernelspec": {
   "display_name": "data_env",
   "language": "python",
   "name": "python3"
  },
  "language_info": {
   "codemirror_mode": {
    "name": "ipython",
    "version": 3
   },
   "file_extension": ".py",
   "mimetype": "text/x-python",
   "name": "python",
   "nbconvert_exporter": "python",
   "pygments_lexer": "ipython3",
   "version": "3.11.10"
  }
 },
 "nbformat": 4,
 "nbformat_minor": 2
}

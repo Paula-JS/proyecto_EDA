{
 "cells": [
  {
   "cell_type": "markdown",
   "metadata": {},
   "source": [
    "# DISPONIBILIDAD DE SUELO URBANIZABLE\n",
    "\n",
    "## 1. DEFINICIÓN \n",
    "\n",
    "Tal como hemos mencionado anteriormente en relación con la climatología, en esta fase del estudio nos enfocaremos en analizar la media de la disponibilidad de suelo urbanizable en las regiones de Cantabria y Andalucía, para ello, se han tenido en cuenta dos variables, precio y metros cuadrados.\n",
    "\n",
    "Con esta última parte del proyecto, llegaremos a la conclusión sobre la ubicación más adecuada para establecer la empresa de nuestro cliente, teniendo en cuenta el precio medio y la disponibilidad de suelo urbanizable en cada zona.\n",
    "\n",
    "Para la recopilación de datos, hemos utilizado el portal inmobiliario Fotocasa, donde hemos filtrado los terrenos disponibles por ubicación, así como sus precios. La extracción de la información se ha realizado mediante un proceso de web scraping, capturando el código HTML y guardándolo en un archivo TXT (todos los archviso obtenidos están en la carpeta html_fotocasa). En este análisis, se han considerado las 10 primeras páginas de resultados de cada búsqueda, tanto para Cantabria como para Andalucía."
   ]
  },
  {
   "cell_type": "code",
   "execution_count": 1,
   "metadata": {},
   "outputs": [],
   "source": [
    "#importamos las librerías necesarias\n",
    "from selenium.webdriver.common.keys import Keys\n",
    "from selenium import webdriver\n",
    "import pandas as pd\n",
    "import numpy as np\n",
    "from selenium.webdriver.common.by import By\n",
    "from bs4 import BeautifulSoup as bs4\n",
    "import requests\n"
   ]
  },
  {
   "cell_type": "markdown",
   "metadata": {},
   "source": [
    "## 2. SUELO URBANIZABLE ANDALUCÍA"
   ]
  },
  {
   "cell_type": "markdown",
   "metadata": {},
   "source": [
    "Para éste apartado, se ha decidio crear funciones, con la finalidad de no tener que repertir el código 10 veces por cada Comunidad Autónoma, de ésta forma tenemos un código más eficiente y legible, además de escalable. "
   ]
  },
  {
   "cell_type": "code",
   "execution_count": 2,
   "metadata": {},
   "outputs": [
    {
     "name": "stdout",
     "output_type": "stream",
     "text": [
      "217746.0172413793\n",
      "16782.324444444443\n"
     ]
    }
   ],
   "source": [
    "#Definición de listas globales: \n",
    "andalucia_precios = []\n",
    "andalucia_metros_cuadrados = []\n",
    "\n",
    "\n",
    "#Esta función se encarga de leer el archivo .txt que contiene el código HTML de la página de resultados Fotocasa. Utiliza BeautifulSoup (from bs4 import BeautifulSoup) para analizar el HTML y devolver un objeto soup, que permite navegar fácilmente por el árbol de etiquetas HTML.\n",
    "def obtener_soup(nombre_txt):\n",
    "    with open(nombre_txt) as fp:\n",
    "        return bs4(fp)\n",
    "    \n",
    "#Esta función recorre todos los elementos del HTML que contienen el precio de un terreno (etiquetas span con la clase re-CardPrice). Si el texto del precio no es \"A consultar\", lo agrega a la lista andalucia_precios.\n",
    "\n",
    "def obtener_precios_andalucia(soup):\n",
    "    for precio in soup.select(\"span.re-CardPrice\"):\n",
    "        if not precio.text == \"A consultar\":\n",
    "            andalucia_precios.append(precio.text)\n",
    "\n",
    "#Esta función extrae los metros cuadrados de la propiedad, que están en elementos span con la clase re-CardFeaturesWithIcons-feature-icon--surface. Para este apartado hacemos dos funciones, ya que la clase en el cógido html cambia a partir de la 8.\n",
    "\n",
    "def obtener_metros_cuadrados_andalucia_del_1_al_7(soup):\n",
    "    for metro_cuadrado in soup.select(\"span.re-CardFeaturesWithIcons-feature-icon.re-CardFeaturesWithIcons-feature-icon--surface\"):\n",
    "        andalucia_metros_cuadrados.append(metro_cuadrado.text)\n",
    "\n",
    "#Similar a la anterior, pero extrae los metros cuadrados de una clase diferente: re-CardFeatures-item. Del 8 al 10\n",
    "\n",
    "def obtener_metros_cuadrados_andalucia_del_8_al_10(soup):\n",
    "    for metro_cuadrado in soup.select(\"li.re-CardFeatures-item.re-CardFeatures-feature\"):\n",
    "        andalucia_metros_cuadrados.append(metro_cuadrado.text)\n",
    "\n",
    "#A continuación, se recorren los archivos de resultados del portal Fotocasa ubicados en la caroeta html_fotocasa utilizando dos bucles for.\n",
    "\n",
    "for i in range(1, 8):\n",
    "    soup = obtener_soup(f\"html_fotocasa/andalucia_{i}.txt\")\n",
    "\n",
    "    obtener_precios_andalucia(soup)\n",
    "\n",
    "    obtener_metros_cuadrados_andalucia_del_1_al_7(soup)\n",
    "\n",
    "for i in range(8, 11):\n",
    "    soup = obtener_soup(f\"html_fotocasa/andalucia_{i}.txt\")\n",
    "\n",
    "    obtener_precios_andalucia(soup)\n",
    "\n",
    "    obtener_metros_cuadrados_andalucia_del_8_al_10(soup)\n",
    "\n",
    "#En éste apratado, se procesan los precios: se eliminan los caracteres no numéricos (' €' y '.'), convirtiendo los valores en enteros. Luego, se crea un DataFrame para almacenar los precios, y se calcula la media de los precios con el método mean().\n",
    "andalucia_precios = [int(valor.replace(' €', '').replace('.', '')) for valor in andalucia_precios]\n",
    "df_precios_andalucia = pd.DataFrame({ \"precios_andalucia\": andalucia_precios })\n",
    "media_precios_andalucia = df_precios_andalucia.loc[:, \"precios_andalucia\"].mean()\n",
    "print(media_precios_andalucia)\n",
    "\n",
    "andalucia_metros_cuadrados = [int(valor.replace('m²', '')) for valor in andalucia_metros_cuadrados]\n",
    "df_metros_cuadrados_andalucia = pd.DataFrame({ \"metros_cuadrados_andalucia\": andalucia_metros_cuadrados })\n",
    "media_metros_cuadrados_andalucia = df_metros_cuadrados_andalucia.loc[:, \"metros_cuadrados_andalucia\"].mean()\n",
    "print(media_metros_cuadrados_andalucia)"
   ]
  },
  {
   "cell_type": "markdown",
   "metadata": {},
   "source": [
    "## 3. SUELO URBANIZABLE CANTABRIA"
   ]
  },
  {
   "cell_type": "markdown",
   "metadata": {},
   "source": [
    "Repetimos los mismos pasos para Cantabria, con la diferencia que en éste apartado se mantienen las clases tanto para precios como para metros cuadrados. "
   ]
  },
  {
   "cell_type": "code",
   "execution_count": 3,
   "metadata": {},
   "outputs": [
    {
     "name": "stdout",
     "output_type": "stream",
     "text": [
      "3407443.8745980705\n",
      "7902.942028985507\n"
     ]
    }
   ],
   "source": [
    "cantabria_precios = []\n",
    "cantabria_metros_cuadrados = []\n",
    "\n",
    "def obtener_soup(nombre_txt):\n",
    "    with open(nombre_txt) as fp:\n",
    "        return bs4(fp)\n",
    "\n",
    "def obtener_precios_cantabria(soup):\n",
    "    for precio in soup.select(\"span.re-CardPrice\"):\n",
    "        if not precio.text == \"A consultar\":\n",
    "            cantabria_precios.append(precio.text)\n",
    "\n",
    "def obtener_metros_cuadrados_cantabria(soup):\n",
    "    for metro_cuadrado in soup.select(\"li.re-CardFeatures-item.re-CardFeatures-feature\"):\n",
    "        cantabria_metros_cuadrados.append(metro_cuadrado.text)\n",
    "\n",
    "\n",
    "for i in range(1, 11):\n",
    "    soup = obtener_soup(f\"html_fotocasa/cantabria_{i}.txt\")\n",
    "\n",
    "    obtener_precios_cantabria(soup)\n",
    "\n",
    "    obtener_metros_cuadrados_cantabria(soup)\n",
    "\n",
    "\n",
    "cantabria_precios = [int(valor.replace(' €', '').replace('.', '')) for valor in cantabria_precios]\n",
    "df_precios_cantabria = pd.DataFrame({ \"precios_cantabria\": cantabria_precios })\n",
    "media_precios_cantabria = df_precios_cantabria.loc[:, \"precios_cantabria\"].mean()\n",
    "print(media_precios_cantabria)\n",
    "\n",
    "cantabria_metros_cuadrados = [int(valor.replace('m²', '')) for valor in cantabria_metros_cuadrados]\n",
    "df_metros_cuadrados_cantabria = pd.DataFrame({ \"metros_cuadrados_cantabria\": cantabria_metros_cuadrados })\n",
    "media_metros_cuadrados_cantabria = df_metros_cuadrados_cantabria.loc[:, \"metros_cuadrados_cantabria\"].mean()\n",
    "print(media_metros_cuadrados_cantabria)\n"
   ]
  },
  {
   "cell_type": "markdown",
   "metadata": {},
   "source": [
    "## 4. CONCLUSIÓN"
   ]
  },
  {
   "cell_type": "markdown",
   "metadata": {},
   "source": [
    "Una vez obtenidas las medias tanto de precios como de metros cuadrados podemos observar que los resultados son los siguientes:\n",
    "###  **ANDALUCÍA**\n",
    "La media de los precios obtenido es de: 217.746 euros\n",
    "\n",
    "La media de los metros cuadrados es de: 16.782 m²\n",
    "\n",
    "###  **CANTABRIA**\n",
    "La media de los precios obtenidos es de: 3.407.443 euros\n",
    "\n",
    "La media de los metros cuadrados es de:  7.902m²\n",
    "\n",
    "Según los datos obtenidos, Andalucía es la zona que mejores oportunidades ofrece a nuestro cliente, ya que la media es mucho más baja respecto a Cantabria y hay una mayor disponibilidad de metros cuadrados. "
   ]
  }
 ],
 "metadata": {
  "kernelspec": {
   "display_name": "data_env",
   "language": "python",
   "name": "python3"
  },
  "language_info": {
   "codemirror_mode": {
    "name": "ipython",
    "version": 3
   },
   "file_extension": ".py",
   "mimetype": "text/x-python",
   "name": "python",
   "nbconvert_exporter": "python",
   "pygments_lexer": "ipython3",
   "version": "3.11.10"
  }
 },
 "nbformat": 4,
 "nbformat_minor": 2
}

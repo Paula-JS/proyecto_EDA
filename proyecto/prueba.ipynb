{
 "cells": [
  {
   "cell_type": "code",
   "execution_count": 1,
   "metadata": {},
   "outputs": [],
   "source": [
    "from selenium.webdriver.common.keys import Keys\n",
    "from selenium import webdriver\n",
    "import pandas as pd\n",
    "import numpy as np\n",
    "from selenium.webdriver.common.by import By\n",
    "from bs4 import BeautifulSoup as bs4\n",
    "import requests"
   ]
  },
  {
   "cell_type": "code",
   "execution_count": 2,
   "metadata": {},
   "outputs": [],
   "source": [
    "headers = {\n",
    "    'User-Agent': 'Mozilla/5.0 (Windows NT 10.0; Win64; x64) AppleWebKit/537.36 (KHTML, like Gecko) Chrome/58.0.3029.110 Safari/537.3'\n",
    "}\n",
    "url = \"https://www.fotocasa.es/es/comprar/terrenos/andalucia/todas-las-zonas/l?searchArea=7153mlisfyx_nL0iswHm-lpK1qkwHz3srjB2iswHnz6vBji1nL_182Gs5y9Dshk8B5g71Pshk8BxzwrDrlg8Blmt9D3qkwHig_Lrlg8Bl2zvBrlg8B2trrD6twSrlg8Bl2zvBhpuSig_L6twS7o8Llmt9D8y8vH1qlnMj70vH617wEu_p8wBwjtvHmjvsoC-x6zfhyxmMq4ysT0v961CxwmjZjr6sO3ovgiHx55mJ17ikZpu0oNr4oz4C4rviSzqnphBqsinJ_1nmM7pmsT617wEx6jy5B_0vwEqm0szEg4_oNx6jy5Bpu0oN-96m9_D_0vwEgpiimQ4pkqIwq9lF4pkqIwq9lFkz5oNg1r3U4pkqIgq78yC0r67Bhq2mcl1ywEw-q0uB4pkqIwq9lFkz5oNvpvoNy14wE2zvsO4pkqIwq9lF5usqIhq2mc5usqIzvr7kB60swEz4g7wD5usqIwq9lFvpvoNx55mJ-8jpNx6jy5BzigsTvv7o01C617wEhpuSwp87Bzm6pCr11wEhpuSwp87Bzm6pC5t47B17ikZ5t47Bwq9lFyjtvHhpuSwp87Br11wEhpuSyp87BhpuSwp87Bwq9lFyp87B7o8Lm91pCjslvHosoqIwp87Br11wEu8-kLr11wE7qplL209uHr11wE7qplL_0vwE5t47Br11wEmy07Br11wE4x6LhpuSz628Dv91uH6twS-mryP_hk5Qpu2kL5t47Bv1r8Dx-_6d564Lm91pCz628Dmy07B564Lzm6pC564Lmy07BhpuS2vivBzm6pC2vivB32w7B6twS2vivBmy07BhpuS2vivBumuuH-h-uBm91pC2vivBumuuHtz_wP_j3Lmy07B_j3L32w7Bg1vwE_j3LvvmuH-h-uBpri4d-h-uBvvmuH_j3L00jwE6_67Doy07BgpnjL-wg8D32w7B9m4uBvvmuHmu0iL5hyvPnwj3dy50uB04_tHy50uB7h3tH357uPnt1Lou0iLnt1L109vE81wuPqrvtHy50uBhpuSlgp7Bmh5oDzm6pCmh5oDhpuSu7s7BrsxuBhpuSnt1Llgp7BhpuS02zL52w7B02zLlgp7BhpuSnt1Lu7s7Bppq7D309vE02zL50ntH02zL309vE02zLlgp7B6twS02zLill7B02zLlgp7B6twSlgp7B02zLm91pC02zLs7yLx4zpCv_-sH2mtS4_ujM2qr_R8h4pC-kn-Y7jljMrxmyqCvr-80B00-oIx17hnD00-oImw1mJo-tuB8h4pCnt1Lzzq1Q580tP2mtS02zL2mtS02zLtrvS02zL2mtSyin7BtrvS02zL2mtSpyquB2mtS59q7B2mtSj2_sP2mtS02zLyin7B9_h7D2jv29CpyquB81-sX9vosP-00vEkt0sHulnuBmt0sH9_h7Dxnj7BulnuBl3ssHulnuB2mtSlgyL0in7B9l04Fxnj7Bw-o-vE2mtSzupgXp826DksguB2mtShy8hdirx6DzzuLznj7B1-8tB7x76B6pwL7x76Bkrx6D411rHkpm6DtrvSh6r6D2mtSh4qoiC51ovE7x76Bzth9R9ljoI184hMmyxmN0u18R7_tjtC184hM-ljoI184hM-ljoI7vp8RtrvStolhMtrvS7x76Bs2ivE2mtS7x76Bs2ivEm336B51ovEm336Bs2ivE784sd2mtS2s-6Bw9sL2mtSm336Bw9sLt4g6Dm336Bx07tRm336Bzvvs2Io336B5gq1W4mw5D18z6Bsx9lD3uhmPv3otBv2q5Dv3otB38z6B9v4lDu2nqH7w60F38z6B2xpLoiw6B2xpLoiw6BxnrL2mtS8rltBtrvS-7nL1hgqHtrvS63t6Rp_ynI2mtSg8k6Yvj6lFwkqyyG-ml3U1w_00B88i7kB_5quEswnwwJ74mnImw1mJzrjlN9y9nThoqsOllu6Bs5tuE9i_mJs5tuEllu6Bx4zpCt4zuE2mtSjlu6B-ml3Uu8unI8h4pCjlu6Bmj5x5Bw-x6BhoqsO62oL8ykomHs5tuEvj6lFllu6Bs5tuE62oL8h4pCu-x6B2mtSt4zuE8h4pC62oLmw1mJjlu6B-ml3Uw-x6Bw1zlFw-x6Bm2grzEjlu6Bx15mmH-516B2l9jpRs5tuE24y_zYoiw6Bs-0sOu2nqHp_ynI38z6Bx4zpCw2nqHp_ynIj38uEx4zpCzh_-L3hgqHx4zpCw2nqH2mtS2xpLtt7uQ8h4pC-7nL_32uEgt4pH8h4pCzh_-Lw2o5Y83t6Rvj6lFoiw6B94wuEvj6lF-ns6B2mtSoiw6B8h4pCp2-4DtrvS3izioB-ns6B8715R38z6B-ovhoBr2-4D2mtS8715Rit4pH8h4pC-ns6B9uq-Lv4wpH_715R-ns6B41g-L2mtSqiw6Bj_p5Rit4pHw1zlFhos6B2-94vG9plpHt69mc8qq6B8h4pC67huEs-0sOx6nuEtrvS8qq6Bvj6lFq_spH2mtS8qq6BtrvSx6nuE8h4pCq_spHx4zpC5y0pHx4zpClhnLllu6Bx4zpCs_84Dx4zpCs_84Dx6nuE74mnIu5tuEo_spHt4zuE8h4pClhnL8qq6B2mtSlhnLk5y1tBq_84Dxrv-Lsn8pH6675Rpui5DtrvSq_84D2mtS62oLllu6B_9wlDjlu6Bpui5D98jpngBtrvS__y5Dg76qHqtqtBx4zpCj5ttBtrvS9516B32-uE2mtSu-x6BwisLvj6lFzsqL8h4pCwisL2yr3nLu35uE-ml3UzsqLmw1mJ32-uEwisL8h4pCwisL9516B2mtSzlqmDy056BwisL9516BglxtB2mtSnwirH2mtSglxtBvj6lFhx0tB2mtSnwirH-vyghBwrghMylqrHvlqhMuv5moBvlqhMyr9noBpv96Bx4zpC32-uE8h4pC12-uE8h4pCw056B25umcqv58Y0wvuyBs2ivEg06ghBvj6lFktip7Bx4zpC51ovEmqz8iBwivhM8h4pC-rqghBq2ivEtpnmNmx97R8h4pCzzuLh38uE8h4pCh38uE9x76B25umcw9sL8h4pC-ljoIx4zpC-ljoIs2ivEx4zpCvolhMtrvSh38uEtrvSm336Bmw1mJ1yx7R8h4pC8qmrH-ljoIh38uEii7nI9x76Bvj6lFw9sL2mtSxnrLvj6lF7lzqHwisLw35uE3p_9KwisL__y5D9516B3p_9KglxtB2mtSwisLtrvSu35uEwisLtrvSwisL2mtSgg_5D8h4pC_66qHwisLtrvSx4tL2mtS9516BtrvS9516Bwwj8RwisL8h4pCx4tL8h4pC9516B2mtSx4tL8h4pCl9630BtrvSgk-nIx4zpCx4tL8h4pC9516BtrvSw056B-nnoI9516By-zhMgg_5D8h4pCm93tB2mtSx4tLpv96B12-uEpv96B3wj6Dw056Bi2lvEx4tLwlqrH-t_mD8h4pCswjnD0w5rHrxx_Iw056Bvp7tBnv96Bx4tL2j06Dx4tLjt1pP1v2-Kw056B81_tB4t36V2j06D81_tBpmhsH81_tBh_h-J2mtSr4ynD2mtS-kxLnv96B1skgJtrvS2uvLiqh7Bo73nDiqh7Bk53hkBxt86Dls_4FgnhgKivluBxwn7DnjpniHqpxqaw5y5F7lgnO51vuBh7v7Dk8p40L2rhvPnw2uB49q7Byo2Lj5u7Bnw2uBhpuSh5u7Bwq9lF3o6ygChsy5vG6s7vqBhq2mcnmnrTzm6pC00gwEzm6pC20gwEhpuSh5u7Bzvr7kB00gwEggloNx55mJ00tmhB00gwEzm6pC9x0Lzm6pCs1ivuB80swE7397D30mwEh5u7Bg1jvfyo2L1kllMh5u7Byo2LhpuSjh5wP_ysiW64gvBgqj8Dwj3vqB_qquHpq61U8v7lc4uu8Dyosg1B2uu8D64hkWw0nvB64hkW-v27B8163UtwhvHw0nvBghnijBi55uH-t01G5zmocvp5jjBrwhvH8hqkjB-qkmW71l_kB9hj2Gj1ywEk7j7Q70mvOw14wE1m-8Duk9Ly14wEpt7L_8zmLp-ltjCgsq2GhpuS1sq9Duk9Ltn_7Bst1vBtn_7Bpt7L0pwojBuk9Li0g2P_24vH-nmoK4-v9D2g52Gt-l8Bg0g2P_1n3G37_LhpuS6pvoK6twS4-v9Dqji8Bwm79D37_Lhz19D42kxE37_L0mowH37_Lqji8B6twS37_Lh2_wE37_L6twSkzgMh2_wEt-l8BhpuSr-l8B37_L6twSqji8BkzgMwt-hex3qxEqji8Bum79Dv-3s4DhpuS2tm_DhpuS823wHhpuSr-l8B6twSkzgMhpuSkzgMr-l8Bwq9lF-5g_Dx3qxEr-l8B6twS22kxEy7p8BhpuSu4wxEr-l8Bwq9lF47xoMwq9lFjv-wHzm6pC0_krI547oMzm6pC22kxEzm6pC22kxE6twSw7p8Bwq9lFr-l8Bzm6pCu4wxEx55mJr-l8Bhx_-lrB8uhMm91pCroxq8C8uhM05r8B0yqsDt9n8Bt7u_D0yqsDhpuS8uhMt9n8BwnygGmg_9DwnygG6twSlslsDhpuSt3-Lt9n8BlslsDv9n8Bmg_9D8uhM3s49D5whwB6twS5whwB0lnie_h_vBzm6pCt3-L0iswHt3-L6twSqhk8Bt3-LhpuSqhk8Bt3-L\"\n",
    "\n",
    "r = requests.get(url, headers=headers)\n",
    "soup = bs4(r.content)"
   ]
  },
  {
   "cell_type": "code",
   "execution_count": 3,
   "metadata": {},
   "outputs": [],
   "source": [
    "with open(\"andalucia_1.txt\") as fp:\n",
    "    soup = bs4(fp)"
   ]
  },
  {
   "cell_type": "code",
   "execution_count": 6,
   "metadata": {},
   "outputs": [],
   "source": [
    "hola= []\n",
    "\n",
    "for metro_cuadrado  in soup.select(\"span.re-CardFeaturesWithIcons-feature-icon.re-CardFeaturesWithIcons-feature-icon--surface\"):\n",
    "    hola.append(metro_cuadrado.text)"
   ]
  },
  {
   "cell_type": "code",
   "execution_count": 7,
   "metadata": {},
   "outputs": [
    {
     "data": {
      "text/plain": [
       "28"
      ]
     },
     "execution_count": 7,
     "metadata": {},
     "output_type": "execute_result"
    }
   ],
   "source": [
    "len(hola)"
   ]
  },
  {
   "cell_type": "code",
   "execution_count": null,
   "metadata": {},
   "outputs": [],
   "source": [
    "for precio in soup.select(\"span.re-CardPrice\"):\n",
    "    if not precio == \"A consultar\":\n",
    "        cantabria_precios.append(precio.text)"
   ]
  },
  {
   "cell_type": "code",
   "execution_count": null,
   "metadata": {},
   "outputs": [],
   "source": []
  }
 ],
 "metadata": {
  "kernelspec": {
   "display_name": "general.env",
   "language": "python",
   "name": "python3"
  },
  "language_info": {
   "codemirror_mode": {
    "name": "ipython",
    "version": 3
   },
   "file_extension": ".py",
   "mimetype": "text/x-python",
   "name": "python",
   "nbconvert_exporter": "python",
   "pygments_lexer": "ipython3",
   "version": "3.11.10"
  }
 },
 "nbformat": 4,
 "nbformat_minor": 2
}
